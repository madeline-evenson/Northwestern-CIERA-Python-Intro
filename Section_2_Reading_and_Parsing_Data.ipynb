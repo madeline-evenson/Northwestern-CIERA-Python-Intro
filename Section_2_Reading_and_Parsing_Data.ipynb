{
  "cells": [
    {
      "cell_type": "markdown",
      "metadata": {
        "id": "view-in-github",
        "colab_type": "text"
      },
      "source": [
        "<a href=\"https://colab.research.google.com/github/madeline-evenson/Northwestern-CIERA-Python-Intro/blob/main/Section_2_Reading_and_Parsing_Data.ipynb\" target=\"_parent\"><img src=\"https://colab.research.google.com/assets/colab-badge.svg\" alt=\"Open In Colab\"/></a>"
      ]
    },
    {
      "cell_type": "markdown",
      "metadata": {
        "id": "reC_IDCgu2SO"
      },
      "source": [
        "# Section 2 Reading and Parsing Data From a File\n",
        "\n",
        "So far, you have been working with very short lists of data or generating your own lists of data. However, in data-driven science, you'll likely have to work with large sets of data that can come in a variety of formats: comma-separated values, tab-separated values, space-separated values, to name a few. Sometimes specific quantities can come in strange formats depending on the meaning, for example, a list of times might be formatted in hours, minutes and seconds, like this: 10:03:20. Whatever format your data might come in, you must be able to read in that data and separate it into more easily processed components that you can then analyze. That's exactly what parsing data means.\n",
        "\n",
        "## 2.1 Reading Data From a File\n",
        "\n",
        "The first step is to learn how to use Python to directly read data from a file. Let's say we have a data file called `planet_data.txt` containing the solar system planet names and their masses, that looks something like this:\n",
        "\n",
        "| Planet name        | Mass ($10^{24}$ kg)  |\n",
        "| :----------------- | :------- |\n",
        "| __Mercury__       |   0.330  |\n",
        "| __Venus__         | 4.87  |\n",
        "| __Earth__         | 5.97  |\n",
        "| __Mars__          | 0.642  |\n",
        "| __Jupiter__       | 1898 |\n",
        "| __Saturn__        | 568  |\n",
        "| __Uranus__        | 86.8  |\n",
        "| __Neptune__       | 102 |\n",
        "\n",
        "\n",
        "To open and read this data file, we use the commands:\n",
        "\n",
        "```python\n",
        "with open('planet_data.txt') as planet_file:\n",
        "    data = planet_file.read()\n",
        " ```\n",
        "\n",
        "Here, `planet_file` is a file object, which is a kind of object that allows you to access and manipulate a user file. Once the file object is created (the first line of code), you can use this to reference the file, and access or manipulate it with functions such as read, readline, readlines, write, seek, and close.\n",
        "\n",
        "The second line reads the entire contents of the file. Notice that the first row is a comment explaining the meanings of the columns, which is helpful to anyone looking at the file.\n"
      ]
    },
    {
      "cell_type": "code",
      "source": [
        "# Running in Google Colab? Run this cell\n",
        "!wget https://raw.githubusercontent.com/CIERA-Northwestern/REACHpy/main/Module_3/data/planet_data.txt\n",
        "\n",
        "# If you're not running in Colab, this file should be in the data directory.\n",
        "# Change the loading path of the file to include 'data/' when the file is loaded"
      ],
      "metadata": {
        "id": "PXcmd2qA0HV9",
        "outputId": "f798907a-7586-4ddc-d0fb-af1341832ef5",
        "colab": {
          "base_uri": "https://localhost:8080/"
        }
      },
      "execution_count": null,
      "outputs": [
        {
          "output_type": "stream",
          "name": "stdout",
          "text": [
            "--2025-06-09 21:21:55--  https://raw.githubusercontent.com/CIERA-Northwestern/REACHpy/main/Module_3/data/planet_data.txt\n",
            "Resolving raw.githubusercontent.com (raw.githubusercontent.com)... 185.199.108.133, 185.199.109.133, 185.199.110.133, ...\n",
            "Connecting to raw.githubusercontent.com (raw.githubusercontent.com)|185.199.108.133|:443... connected.\n",
            "HTTP request sent, awaiting response... 200 OK\n",
            "Length: 206 [text/plain]\n",
            "Saving to: ‘planet_data.txt’\n",
            "\n",
            "\rplanet_data.txt       0%[                    ]       0  --.-KB/s               \rplanet_data.txt     100%[===================>]     206  --.-KB/s    in 0s      \n",
            "\n",
            "2025-06-09 21:21:55 (3.68 MB/s) - ‘planet_data.txt’ saved [206/206]\n",
            "\n"
          ]
        }
      ]
    },
    {
      "cell_type": "code",
      "execution_count": null,
      "metadata": {
        "id": "dywHmfJIu2SX",
        "outputId": "78fa6ff4-3ae6-4487-ec92-73abcd227305",
        "colab": {
          "base_uri": "https://localhost:8080/"
        }
      },
      "outputs": [
        {
          "output_type": "stream",
          "name": "stdout",
          "text": [
            "#PlanetName      Mass(1e24 kg)\n",
            "Mercury          0.330\n",
            "Venus            4.87\n",
            "Earth            5.97\n",
            "Mars             0.642\n",
            "Jupiter          1898\n",
            "Saturn           568\n",
            "Uranus           86.8\n",
            "Neptune          102\n"
          ]
        }
      ],
      "source": [
        "with open('planet_data.txt') as planet_file:\n",
        "    data = planet_file.read()\n",
        "\n",
        "# Exiting the 'with' indented block closes the file\n",
        "# Print the string with the full file contents.\n",
        "print(data)"
      ]
    },
    {
      "cell_type": "markdown",
      "metadata": {
        "id": "v6FXWnwsu2SY"
      },
      "source": [
        "When we open the file this way, Python gave us the permission to read it by default. Sometimes you might want to instead write or append to the file. You can specify which permissions you want from a file when you open it by typing 'r', 'w', or 'a' (they are read, write, and append) in the open command , like this:\n",
        "```python\n",
        "with open('planet_data.txt', 'r') as planet_file:\n",
        "    data = planet_file.read()\n",
        "```\n",
        "\n",
        "When you use `readlines()` instead of `read()`, you see some unexpected characters interspersed with it. This result is a single string that includes the entire contents of the opened file, including the tab symbols (represented by `\\t`) and the \"newline\" (represented by `\\n`) symbols, both of which were technically part of the original file's structure. This is how Python interprets strings that it reads in. Here is the example:"
      ]
    },
    {
      "cell_type": "code",
      "execution_count": null,
      "metadata": {
        "id": "TCw2syJfu2SZ",
        "outputId": "5897bad7-3b43-4b62-aa74-e6f588357ea8",
        "colab": {
          "base_uri": "https://localhost:8080/"
        }
      },
      "outputs": [
        {
          "output_type": "stream",
          "name": "stdout",
          "text": [
            "['#PlanetName      Mass(1e24 kg)\\n', 'Mercury          0.330\\n', 'Venus            4.87\\n', 'Earth            5.97\\n', 'Mars             0.642\\n', 'Jupiter          1898\\n', 'Saturn           568\\n', 'Uranus           86.8\\n', 'Neptune          102']\n"
          ]
        }
      ],
      "source": [
        "with open('planet_data.txt', 'r') as planet_file:\n",
        "    data = planet_file.readlines()\n",
        "\n",
        "# Print the list\n",
        "print(data)"
      ]
    },
    {
      "cell_type": "markdown",
      "source": [
        "If you want to split the output into a list of lines without the additional newline characters (`\\n`), you can use `read().splitlines()`:\n",
        "\n",
        "```python\n",
        "with open('planet_data.txt','r') as planet_file:\n",
        "    data = planet_file.read().splitlines()\n",
        "\n",
        "print(data)\n",
        "```"
      ],
      "metadata": {
        "id": "6uGFl3mghyVw"
      }
    },
    {
      "cell_type": "code",
      "source": [
        "# Try the code snippet here\n",
        "with open('planet_data.txt', 'r') as planet_file:\n",
        "    data = planet_file.read().splitlines()\n",
        "\n",
        "print(data)"
      ],
      "metadata": {
        "id": "7yQbPi5liFHU",
        "outputId": "ec006529-7200-4101-d465-9a4cdf92c59b",
        "colab": {
          "base_uri": "https://localhost:8080/"
        }
      },
      "execution_count": null,
      "outputs": [
        {
          "output_type": "stream",
          "name": "stdout",
          "text": [
            "['#PlanetName      Mass(1e24 kg)', 'Mercury          0.330', 'Venus            4.87', 'Earth            5.97', 'Mars             0.642', 'Jupiter          1898', 'Saturn           568', 'Uranus           86.8', 'Neptune          102']\n"
          ]
        }
      ]
    },
    {
      "cell_type": "markdown",
      "metadata": {
        "id": "9EY0jH5vu2Sa"
      },
      "source": [
        "## 2.2 Parsing Data\n",
        "\n",
        "There are multiple ways to break down the content of a file while reading it into Python. Let's think about the structure of our planet data file.\n",
        "\n",
        "First, you may have noticed that the first line of the data file is a comment indicating what the different columns represent - a very good practice! But we want to be able to separate that out when we're reading in our data - we can do this with the startswith function.\n",
        "\n",
        "Then, the entries are separated by whitespace, and we can use the split function to separate the columns. The block of code below shows how this comes together to help us parse the data file. Analyze it, then evaluate the cell and inspect the results."
      ]
    },
    {
      "cell_type": "code",
      "execution_count": null,
      "metadata": {
        "id": "IPzfqUo7u2Sb",
        "outputId": "049046ee-668c-45c9-eac9-512ed060beee",
        "colab": {
          "base_uri": "https://localhost:8080/"
        }
      },
      "outputs": [
        {
          "output_type": "stream",
          "name": "stdout",
          "text": [
            "['Mercury', 'Venus', 'Earth', 'Mars', 'Jupiter', 'Saturn', 'Uranus', 'Neptune']\n",
            "[0.33, 4.87, 5.97, 0.642, 1898.0, 568.0, 86.8, 102.0]\n"
          ]
        }
      ],
      "source": [
        "planets, masses = [], []   # Notice, we can define multiple things on a single line\n",
        "with open('planet_data.txt', 'r') as planet_file:\n",
        "    data = planet_file.read().splitlines()\n",
        "\n",
        "for line in data:\n",
        "    # Only continue if the line is NOT a comment\n",
        "    if not line.startswith('#'):\n",
        "        fields = line.split()\n",
        "        planets = planets + [fields[0]]\n",
        "        masses = masses + [float(fields[1])]\n",
        "\n",
        "# Print the lists we created of names and masses\n",
        "print(planets)\n",
        "print(masses)\n"
      ]
    },
    {
      "cell_type": "markdown",
      "metadata": {
        "id": "VnAeQlBwu2Sb"
      },
      "source": [
        "Here's what the above for loop did:\n",
        "\n",
        " 1. First, we split each line in data into a separate string. <br>\n",
        "\n",
        " 2. Then, we split the fields at the white space that is between them (creating two fields, fields[0] and fields[1]): <br>\n",
        "['Mercury', '0.330']<br>\n",
        "['Venus', '4.87']<br>\n",
        "['Earth', '5.97']<br>\n",
        "['Mars', '0.642']<br>\n",
        "['Jupiter', '1898']<br>\n",
        "['Saturn', '568']<br>\n",
        "['Uranus', '86.8']<br>\n",
        "['Neptune', '102']<br>\n",
        "\n",
        "3. Finally, we append the planet name and the mass from each line to the lists we created at the beginning of the block of code.\n",
        "\n",
        "Note that there are two columns in planet_data.txt which are planet names and masses. The fields list contains both planet names and masses. The first element of the field list is planet name = field[0] and the second one is mass = field[1]. If we had another column, such as radius, then we would write radius = field[2].\n",
        "\n",
        "\n",
        "### 2.2.1 Advanced Parsing\n",
        "\n",
        "\n",
        "As we mentioned, data can come in many different formats, using many different *delimiters*. A delimiter is a sequence of one or more characters used to specify the boundary between separate entries in a file.\n",
        "\n",
        "Luckily, we can use the split function to separate strings with any given delimiter (or multiple delimiters) by giving the delimiter as an argument, e.g., `split(',')`, `split(':')`.\n",
        "With nothing inside the parentheses,e.g., `split()`, Python will be looking for simply whitespace (this is what we did for the planets data). Now, let's look at a more complex string."
      ]
    },
    {
      "cell_type": "code",
      "execution_count": null,
      "metadata": {
        "id": "Odx5QnYyu2Sc"
      },
      "outputs": [],
      "source": [
        "challenge = 'Do:you think you:can-parse; this string?'"
      ]
    },
    {
      "cell_type": "markdown",
      "metadata": {
        "id": "H82X6OA7u2Sc"
      },
      "source": [
        "See if you can break this down to just the word parse in the cell below. We'll get you started."
      ]
    },
    {
      "cell_type": "code",
      "execution_count": null,
      "metadata": {
        "id": "nO8arpjVu2Sc",
        "outputId": "886074d9-302e-48c0-b3ba-b57c83cd0121",
        "colab": {
          "base_uri": "https://localhost:8080/"
        }
      },
      "outputs": [
        {
          "output_type": "stream",
          "name": "stdout",
          "text": [
            "a= ['Do:you', 'think', 'you:can-parse;', 'this', 'string?']\n",
            "b= ['you:can', 'parse;']\n",
            "['Do', 'you']\n",
            "['you', 'can']\n",
            "Do you think you can parse this string?\n"
          ]
        }
      ],
      "source": [
        "# You know what this does already! The result is a list of 5 strings\n",
        "a = challenge.split()\n",
        "print('a=', a)\n",
        "\n",
        "# Now we take the third item and split it off at the dash (-)\n",
        "b = a[2].split('-')\n",
        "print('b=', b)\n",
        "\n",
        "c = a[0].split(':')\n",
        "print(c)\n",
        "\n",
        "d = b[0].split(':')\n",
        "print(d)\n",
        "\n",
        "e = b[1][0:5]\n",
        "\n",
        "final = []\n",
        "final.extend(c)\n",
        "final.extend([a[1]])\n",
        "final.extend(d)\n",
        "final.extend([e])\n",
        "final.extend([a[3]])\n",
        "final.extend([a[4]])\n",
        "\n",
        "print(f'{final[0]} {final[1]} {final[2]} {final[3]} {final[4]} {final[5]} {final[6]} {final[7]}')"
      ]
    },
    {
      "cell_type": "markdown",
      "metadata": {
        "id": "NpIGlPidu2Sd"
      },
      "source": [
        "## Practice\n",
        "\n",
        "Follow the instructions in the cell below to practice reading in and parsing data from a file. The data file, which contains a small snippet of seismic wave data (detection times and wave phases), is named `seismic.txt`. You'll be reading in a few lines of that data, and then extracting the arrival times of the signals, which are in a format that looks like year-month-day\"T\"hour:minute:seconds\"Z\". However, let's parse out the detection times for just the waves that have \"Pn\" seismic phase (but not the ones with phase \"P\")."
      ]
    },
    {
      "cell_type": "code",
      "source": [
        "# Running in Google Colab? Run this cell\n",
        "!wget https://raw.githubusercontent.com/CIERA-Northwestern/REACHpy/main/Module_3/data/seismic.txt\n",
        "\n",
        "# If you're not running in Colab, this file should be in the data directory.\n",
        "# Change the loading path of the file to include 'data/' when the file is loaded"
      ],
      "metadata": {
        "id": "WpL37JxZA2u8",
        "outputId": "4db37966-0165-42e8-db07-df6a54b5d1fc",
        "colab": {
          "base_uri": "https://localhost:8080/"
        }
      },
      "execution_count": null,
      "outputs": [
        {
          "output_type": "stream",
          "name": "stdout",
          "text": [
            "--2025-06-09 21:41:17--  https://raw.githubusercontent.com/CIERA-Northwestern/REACHpy/main/Module_3/data/seismic.txt\n",
            "Resolving raw.githubusercontent.com (raw.githubusercontent.com)... 185.199.110.133, 185.199.111.133, 185.199.108.133, ...\n",
            "Connecting to raw.githubusercontent.com (raw.githubusercontent.com)|185.199.110.133|:443... connected.\n",
            "HTTP request sent, awaiting response... 200 OK\n",
            "Length: 1345 (1.3K) [text/plain]\n",
            "Saving to: ‘seismic.txt’\n",
            "\n",
            "seismic.txt         100%[===================>]   1.31K  --.-KB/s    in 0s      \n",
            "\n",
            "2025-06-09 21:41:17 (62.5 MB/s) - ‘seismic.txt’ saved [1345/1345]\n",
            "\n"
          ]
        }
      ]
    },
    {
      "cell_type": "code",
      "execution_count": null,
      "metadata": {
        "id": "UHeR4I_Fu2Sd",
        "outputId": "16bd546c-f6ea-4dfe-cba0-cf22fe3f38be",
        "colab": {
          "base_uri": "https://localhost:8080/",
          "height": 244
        }
      },
      "outputs": [
        {
          "output_type": "stream",
          "name": "stdout",
          "text": [
            "['#Channel\\t    Distance Azimuth Phase Arrival_Time(Date,Time) Status\\tResidual Weight', 'CX PB08  BHZ --\\t11.6076\\t11.8566\\tPn\\t2015-09-16T22:57:12.65Z\\tmanual\\t-4.50\\t0.0000', 'C GO07   BHZ --\\t11.6284\\t187.245\\tPn\\t2015-09-16T22:57:14.33Z\\tmanual\\t-2.70\\t0.7400', 'CX PSGCX BHZ --\\t12.0071\\t7.04986\\tPn\\t2015-09-16T22:57:17.9Z\\tmanual\\t-4.40\\t0.0000', 'BL ITQB  HHZ --\\t13.0996\\t85.5512\\tPn\\t2015-09-16T22:57:35.29Z\\tmanual\\t-1.80\\t0.6400', 'GT CPUP  BHZ 00\\t13.5978\\t71.0392\\tPn\\t2015-09-16T22:57:41.97Z\\tmanual\\t-1.90\\t0.6100', 'BL PLTB  HHZ --\\t15.3914\\t95.4734\\tPn\\t2015-09-16T22:58:05.1Z\\tmanual\\t-3.10\\t0.6100', 'GT LPAZ  BHZ 00\\t15.5554\\t12.7937\\tPn\\t2015-09-16T22:58:08.88Z\\tmanual\\t-2.00\\t0.6200', 'BL AQDB  HHZ --\\t18.0934\\t56.2093\\tPn\\t2015-09-16T22:58:40.06Z\\tmanual\\t-2.20\\t0.8200', 'BL TRCB  HHZ --\\t19.04\\t  67.3597\\tP\\t  2015-09-16T22:58:51.59Z\\tmanual\\t-1.30\\t0.6200', 'BR PTLB  HHZ --\\t19.7142\\t38.3762\\tP\\t  2015-09-16T22:58:59.27Z\\tmanual\\t-0.90\\t0.6400', 'II NNA   BHZ 10\\t20.0667\\t345.108\\tP  \\t2015-09-16T22:59:04.48Z\\tmanual\\t0.40\\t0.6400', 'C1 MG02  BHZ --\\t21.2688\\t175.897\\tP\\t  2015-09-16T22:59:16.43Z\\tmanual\\t-0.60\\t0.6700', 'BR VILB  HHZ --\\t21.328\\t32.2394\\tP  \\t2015-09-16T22:59:16.49Z\\tmanual\\t-1.20\\t0.6700', 'C GO10   BHZ --\\t21.573\\t178.978\\tP \\t2015-09-16T22:59:20.36Z\\tmanual\\t0.00\\t0.6800', 'BR ETMB  HHZ --\\t22.2345\\t14.3589\\tP \\t2015-09-16T22:59:27.55Z\\tmanual\\t0.20\\t0.6900', 'II EFI   BHZ 10\\t22.4445\\t157.444\\tP \\t2015-09-16T22:59:29.14Z\\tmanual\\t-0.50\\t0.7000']\n"
          ]
        },
        {
          "output_type": "error",
          "ename": "IndexError",
          "evalue": "list index out of range",
          "traceback": [
            "\u001b[0;31m---------------------------------------------------------------------------\u001b[0m",
            "\u001b[0;31mIndexError\u001b[0m                                Traceback (most recent call last)",
            "\u001b[0;32m<ipython-input-39-8e68047c57bd>\u001b[0m in \u001b[0;36m<cell line: 0>\u001b[0;34m()\u001b[0m\n\u001b[1;32m     27\u001b[0m         \u001b[0;32mif\u001b[0m \u001b[0mlen\u001b[0m\u001b[0;34m(\u001b[0m\u001b[0mfields\u001b[0m\u001b[0;34m)\u001b[0m \u001b[0;34m>=\u001b[0m \u001b[0;36m7\u001b[0m \u001b[0;32mand\u001b[0m \u001b[0mfields\u001b[0m\u001b[0;34m[\u001b[0m\u001b[0;36m6\u001b[0m\u001b[0;34m]\u001b[0m \u001b[0;34m==\u001b[0m \u001b[0;34m'Pn'\u001b[0m\u001b[0;34m:\u001b[0m\u001b[0;34m\u001b[0m\u001b[0;34m\u001b[0m\u001b[0m\n\u001b[1;32m     28\u001b[0m             \u001b[0mtime_str_with_z\u001b[0m \u001b[0;34m=\u001b[0m \u001b[0mfields\u001b[0m\u001b[0;34m[\u001b[0m\u001b[0;36m1\u001b[0m\u001b[0;34m]\u001b[0m\u001b[0;34m\u001b[0m\u001b[0;34m\u001b[0m\u001b[0m\n\u001b[0;32m---> 29\u001b[0;31m             \u001b[0mtime_str\u001b[0m \u001b[0;34m=\u001b[0m \u001b[0mtime_str_with_z\u001b[0m\u001b[0;34m.\u001b[0m\u001b[0msplit\u001b[0m\u001b[0;34m(\u001b[0m\u001b[0;34m'T'\u001b[0m\u001b[0;34m)\u001b[0m\u001b[0;34m[\u001b[0m\u001b[0;36m1\u001b[0m\u001b[0;34m]\u001b[0m\u001b[0;34m.\u001b[0m\u001b[0mreplace\u001b[0m\u001b[0;34m(\u001b[0m\u001b[0;34m'Z'\u001b[0m\u001b[0;34m,\u001b[0m \u001b[0;34m''\u001b[0m\u001b[0;34m)\u001b[0m\u001b[0;34m\u001b[0m\u001b[0;34m\u001b[0m\u001b[0m\n\u001b[0m\u001b[1;32m     30\u001b[0m \u001b[0;34m\u001b[0m\u001b[0m\n\u001b[1;32m     31\u001b[0m             \u001b[0;31m#split time string by colon\u001b[0m\u001b[0;34m\u001b[0m\u001b[0;34m\u001b[0m\u001b[0m\n",
            "\u001b[0;31mIndexError\u001b[0m: list index out of range"
          ]
        }
      ],
      "source": [
        "# seismic.txt contains the data you'll use in this exercise\n",
        "\n",
        "# Open and read that data file using read().splitlines()\n",
        "\n",
        "with open('seismic.txt', 'r') as file:\n",
        "    data = file.read().splitlines()\n",
        "\n",
        "print(data)\n",
        "\n",
        "# For all lines that that contain Pn (not P) in column 7,\n",
        "#    isolate the time portion of the line (hrs:mins:secs)\n",
        "\n",
        "# Save hours, minutess and seconds to three separate lists.\n",
        "# Hours and minutes should stored in integers, and seconds in floats.\n",
        "# Remember to skip over the comment line!\n",
        "\n",
        "hours = []\n",
        "minutes = []\n",
        "seconds = []\n",
        "\n",
        "for line in data:\n",
        "    #skips comment lines\n",
        "    if not line.startswith('#'):\n",
        "        fields = line.split()\n",
        "\n",
        "        #make sure line has enough columns to access index 6\n",
        "        if len(fields) >= 7 and fields[6] == 'Pn':\n",
        "            time_str_with_z = fields[1]\n",
        "            time_str = time_str_with_z.split('T')[1].replace('Z', '')\n",
        "\n",
        "            #split time string by colon\n",
        "            h, m, s = time_str.split(':')\n",
        "\n",
        "            #convert and append to appropriate list\n",
        "            hours.append(int(h))\n",
        "            minutes.append(int(m))\n",
        "            seconds.append(float(s))\n",
        "\n",
        "\n",
        "# Print your lists to check that you were successful\n",
        "\n",
        "print(f'Hours: {hours}')\n",
        "print(f'Minutes: {minutes}')\n",
        "print(f'Seconds: {seconds}')"
      ]
    },
    {
      "cell_type": "markdown",
      "metadata": {
        "id": "hlDBSFPuu2Se"
      },
      "source": [
        "## Takeaways\n",
        "\n",
        "- Real data can come in many different formats, some more complex than others. You must be able to read in and parse your data before you can extract the quantities needed to do your calculations<br>\n",
        "- There are many ways to read in files. One of the simplest is with Python's built-in functions for working with file objects, including read, readline, readlines, which return a string or a list of strings that you can then manipulate<br>\n",
        "- Use the split function to break up a string into its individual fields based on the specific delimiter(s) used in the string, e.g., split(), split(':') and split(',').<br>"
      ]
    }
  ],
  "metadata": {
    "kernelspec": {
      "display_name": "Python 3",
      "language": "python",
      "name": "python3"
    },
    "language_info": {
      "codemirror_mode": {
        "name": "ipython",
        "version": 3
      },
      "file_extension": ".py",
      "mimetype": "text/x-python",
      "name": "python",
      "nbconvert_exporter": "python",
      "pygments_lexer": "ipython3",
      "version": "3.8.5"
    },
    "toc": {
      "base_numbering": 1,
      "nav_menu": {},
      "number_sections": true,
      "sideBar": true,
      "skip_h1_title": false,
      "title_cell": "Table of Contents",
      "title_sidebar": "Contents",
      "toc_cell": false,
      "toc_position": {},
      "toc_section_display": true,
      "toc_window_display": false
    },
    "varInspector": {
      "cols": {
        "lenName": 16,
        "lenType": 16,
        "lenVar": 40
      },
      "kernels_config": {
        "python": {
          "delete_cmd_postfix": "",
          "delete_cmd_prefix": "del ",
          "library": "var_list.py",
          "varRefreshCmd": "print(var_dic_list())"
        },
        "r": {
          "delete_cmd_postfix": ") ",
          "delete_cmd_prefix": "rm(",
          "library": "var_list.r",
          "varRefreshCmd": "cat(var_dic_list()) "
        }
      },
      "types_to_exclude": [
        "module",
        "function",
        "builtin_function_or_method",
        "instance",
        "_Feature"
      ],
      "window_display": false
    },
    "colab": {
      "provenance": [],
      "include_colab_link": true
    }
  },
  "nbformat": 4,
  "nbformat_minor": 0
}