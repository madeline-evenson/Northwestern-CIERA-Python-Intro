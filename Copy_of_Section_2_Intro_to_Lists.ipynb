{
  "nbformat": 4,
  "nbformat_minor": 0,
  "metadata": {
    "colab": {
      "provenance": [],
      "include_colab_link": true
    },
    "kernelspec": {
      "name": "python3",
      "display_name": "Python 3"
    },
    "language_info": {
      "name": "python"
    }
  },
  "cells": [
    {
      "cell_type": "markdown",
      "metadata": {
        "id": "view-in-github",
        "colab_type": "text"
      },
      "source": [
        "<a href=\"https://colab.research.google.com/github/madeline-evenson/Northwestern-CIERA-Python-Intro/blob/main/Copy_of_Section_2_Intro_to_Lists.ipynb\" target=\"_parent\"><img src=\"https://colab.research.google.com/assets/colab-badge.svg\" alt=\"Open In Colab\"/></a>"
      ]
    },
    {
      "cell_type": "markdown",
      "source": [
        "# Section 2. Lists in Python\n",
        "## 2.1 Types of Lists\n",
        "\n",
        "Information can be stored in a variety of formats called data structures. Python has some built in data structures which include: lists, sets, tuples, and dictionaries. As the name of this data structure suggests, a list in Python is literally a list of stuff. What that stuff is depends on what you're trying to do. Essentially, lists can contain whatever you want (such as strings, floats, and integers), as long as the contents are valid data types in Python.\n",
        "\n",
        "In order to create a list, we enclose a comma-separated list of items with square brackets. If you have a really long list, you can include a line break immediately following a comma, as shown below.\n",
        "\n",
        "\n",
        "\n",
        "```\n",
        "my_list_one = [2, 8, 4]                # list of numbers\n",
        "my_list_two = ['cat', 'dog', 'llama']  # list of strings, must use 'string'\n",
        "my_list_three = [True, False, False]   # list of Booleans\n",
        "\n",
        "my_list_four = [3, 1, 8, 4, # A really\n",
        "                1, 2, 7, 3, # really\n",
        "                2, 2, 6, 9, # really\n",
        "                6, 6, 4, 8, # really\n",
        "                7, 6, 2, 1] # long list\n",
        "```\n",
        "\n"
      ],
      "metadata": {
        "id": "r8Ggvlw1v0X7"
      }
    },
    {
      "cell_type": "code",
      "execution_count": null,
      "metadata": {
        "id": "1rzBKPm3rMCA"
      },
      "outputs": [],
      "source": [
        "my_list_one = [2, 8, 4]                # list of numbers\n",
        "my_list_two = ['cat', 'dog', 'llama']  # list of strings, must use 'string'\n",
        "my_list_three = [True, False, False]   # list of Booleans\n",
        "\n",
        "my_list_four = [3, 1, 8, 4, # A really\n",
        "                1, 2, 7, 3, # really\n",
        "                2, 2, 6, 9, # really\n",
        "                6, 6, 4, 8, # really\n",
        "                7, 6, 2, 1] # long list"
      ]
    },
    {
      "cell_type": "markdown",
      "source": [
        "Note that in the above four examples, we are storing each list in a variable (e.g., the list [2, 8, 4] is being stored to the variable my_list_one).\n",
        "\n",
        "While in the examples above we have shown that you can store numbers (floats and integers) and strings, you can also ___store variables___ in lists. Those variables may contain a number, string, or even another list! In the below example, we're setting the variables right before putting them in the list, but in real applications, the variable values could be set by the result of some function or by user input.\n",
        "\n",
        "\n",
        "```\n",
        "example_variable_one = 48\n",
        "example_variable_two = 12\n",
        "example_variable_three = 10\n",
        "my_list_five = [example_variable_one,\n",
        "                example_variable_two,\n",
        "                example_variable_three]   # list of predefined variables\n",
        "\n",
        "print(my_list_five) # Note the outputs!\n",
        "```\n",
        "\n"
      ],
      "metadata": {
        "id": "7CK-nVRlx0P7"
      }
    },
    {
      "cell_type": "code",
      "source": [
        "example_variable_one = 48\n",
        "example_variable_two = 12\n",
        "example_variable_three = 10\n",
        "my_list_five = [example_variable_one,\n",
        "                example_variable_two,\n",
        "                example_variable_three]   # list of predefined variables\n",
        "\n",
        "print(my_list_five) # Note the outputs!"
      ],
      "metadata": {
        "id": "SB5xS9BnxhJn",
        "outputId": "4e0db6ba-cd3a-44e4-d284-d123bf8eb841",
        "colab": {
          "base_uri": "https://localhost:8080/"
        }
      },
      "execution_count": null,
      "outputs": [
        {
          "output_type": "stream",
          "name": "stdout",
          "text": [
            "[48, 12, 10]\n"
          ]
        }
      ]
    },
    {
      "cell_type": "markdown",
      "source": [
        "### 2.1.1 Checking the Length of Your List\n",
        "It is often helpful to make sure your code looks the way you want it to. If you are working with lists, one way to do that is to make sure it contains the number of data points you need it to. For example, if you are storing the temperature of 5 stars for later use, you may want to check that the list is 5 elements long. Incorporating checks like this in your code can be very helpful for avoiding (and finding) bugs in your code.\n",
        "\n",
        "\n",
        "\n",
        "```\n",
        "my_list = [2, 8, 6, 4, 10]\n",
        "list_length = len(my_list)  # returns the length, or number of items, in the list (5)\n",
        "print(list_length)\n",
        "```\n",
        "\n"
      ],
      "metadata": {
        "id": "cMtGBz1f0P0f"
      }
    },
    {
      "cell_type": "code",
      "execution_count": null,
      "metadata": {
        "ExecuteTime": {
          "end_time": "2021-05-28T15:01:40.442476Z",
          "start_time": "2021-05-28T15:01:40.439664Z"
        },
        "id": "UMOuor39vWNp",
        "outputId": "c64c1b7f-5aec-4d77-935b-f4466e92e54b",
        "colab": {
          "base_uri": "https://localhost:8080/"
        }
      },
      "outputs": [
        {
          "output_type": "stream",
          "name": "stdout",
          "text": [
            "5\n"
          ]
        }
      ],
      "source": [
        "my_list = [2, 8, 6, 4, 10]\n",
        "list_length = len(my_list)  # returns the length, or number of items, in the list (5)\n",
        "print(list_length)"
      ]
    },
    {
      "cell_type": "markdown",
      "metadata": {
        "id": "C5gDFnvmvWNq"
      },
      "source": [
        "### 2.1.2 Sorting your list\n",
        "It can be beneficial to order your list from smallest to largest, or vice versa. You can only sort a list if it contains data of the same kind (for instance all integers and floats, or a list of only strings).\n",
        "\n",
        "__Note__: When sorting is done as it is shown below, the sorting is done \"in place\". This means that the list __itself__ is sorted, instead of a __sorted__ copy being made.\n",
        "\n",
        "__For example:__\n",
        "\n",
        "\n",
        "\n",
        "```\n",
        "example_list = [17, 8, 29]\n",
        "example_list.sort()  # The list \"example_list\" is now sorted\n",
        "print(example_list)\n",
        "```\n",
        "\n",
        "The output of this list would now be a list with the following elements: [8, 17, 29].\n",
        "\n",
        "\n",
        "\n",
        "```\n",
        "my_list.sort()  # sorts the list from smallest to largest [2, 4, 6, 8, 10]\n",
        "print(my_list)\n",
        "\n",
        "my_list.sort(reverse=True)  # reverse-sorts the list [10, 8, 6, 4, 2]\n",
        "print(my_list)\n",
        "```\n",
        "\n"
      ]
    },
    {
      "cell_type": "code",
      "execution_count": null,
      "metadata": {
        "ExecuteTime": {
          "end_time": "2021-05-28T15:01:40.446330Z",
          "start_time": "2021-05-28T15:01:40.443908Z"
        },
        "id": "0-evaOJqvWNq",
        "outputId": "02c0b7cb-618c-4163-d900-7200c8a7eb52",
        "colab": {
          "base_uri": "https://localhost:8080/"
        }
      },
      "outputs": [
        {
          "output_type": "stream",
          "name": "stdout",
          "text": [
            "[8, 17, 29]\n"
          ]
        }
      ],
      "source": [
        "example_list = [17, 8, 29]\n",
        "example_list.sort()  # The list \"example_list\" is now sorted\n",
        "print(example_list)"
      ]
    },
    {
      "cell_type": "code",
      "execution_count": null,
      "metadata": {
        "ExecuteTime": {
          "end_time": "2021-05-28T15:01:40.450755Z",
          "start_time": "2021-05-28T15:01:40.448197Z"
        },
        "id": "n8yn_nGNvWNr",
        "outputId": "429cbffa-810c-4e8b-f138-5faa6a5441a9",
        "colab": {
          "base_uri": "https://localhost:8080/"
        }
      },
      "outputs": [
        {
          "output_type": "stream",
          "name": "stdout",
          "text": [
            "[2, 4, 6, 8, 10]\n",
            "[10, 8, 6, 4, 2]\n"
          ]
        }
      ],
      "source": [
        "my_list.sort()  # sorts the list from smallest to largest [2, 4, 6, 8, 10]\n",
        "print(my_list)\n",
        "\n",
        "my_list.sort(reverse=True)  # reverse-sorts the list [10, 8, 6, 4, 2]\n",
        "print(my_list)"
      ]
    },
    {
      "cell_type": "markdown",
      "metadata": {
        "id": "i1wJ3D9fvWNr"
      },
      "source": [
        "### 2.1.3 Your turn: Create a list!\n",
        "__Tasks__: <br>\n",
        "> - Create a list for numbers 1-10 (inclusive of both 1 and 10) <br>\n",
        "> -Create a list of with your first, middle, and last name(s) <br>\n",
        "\n",
        "Make these lists in the cell below."
      ]
    },
    {
      "cell_type": "code",
      "execution_count": null,
      "metadata": {
        "ExecuteTime": {
          "end_time": "2021-05-28T15:01:40.454052Z",
          "start_time": "2021-05-28T15:01:40.452324Z"
        },
        "id": "8A5B2q8lvWNr"
      },
      "outputs": [],
      "source": [
        "# your code below\n",
        "\n",
        "numbers = [1, 10, 2, 9, 3, 8, 4, 7, 5, 6]\n",
        "names = ['maddy', 'faith', 'evenson']\n"
      ]
    },
    {
      "cell_type": "markdown",
      "metadata": {
        "id": "VM1opfLyvWNs"
      },
      "source": [
        "### Your turn: Sort your list!\n",
        "__Tasks__:\n",
        "> - sort your numbered list from __smallest to largest__\n",
        "> - sort your numbered list from __largest to smallest__"
      ]
    },
    {
      "cell_type": "code",
      "execution_count": null,
      "metadata": {
        "ExecuteTime": {
          "end_time": "2021-05-28T15:01:40.458405Z",
          "start_time": "2021-05-28T15:01:40.456451Z"
        },
        "id": "2WPtzNeLvWNs",
        "outputId": "57d6d9ec-de7f-4b49-8ac4-37ab3ff8a99a",
        "colab": {
          "base_uri": "https://localhost:8080/"
        }
      },
      "outputs": [
        {
          "output_type": "stream",
          "name": "stdout",
          "text": [
            "[1, 2, 3, 4, 5, 6, 7, 8, 9, 10]\n",
            "['evenson', 'faith', 'maddy']\n",
            "[10, 9, 8, 7, 6, 5, 4, 3, 2, 1]\n",
            "['maddy', 'faith', 'evenson']\n"
          ]
        }
      ],
      "source": [
        "# your code below\n",
        "\n",
        "numbers.sort()\n",
        "print(numbers)\n",
        "names.sort()\n",
        "print(names)\n",
        "\n",
        "numbers.sort(reverse=True)\n",
        "print(numbers)\n",
        "names.sort(reverse=True)\n",
        "print(names)\n"
      ]
    },
    {
      "cell_type": "markdown",
      "source": [
        "## 2.2 Slicing Lists in Python\n",
        "\n",
        "Sometimes (or oftentimes), when working with lists, it is useful to select one or more entries from the list. When we do this in Python, we call it slicing the list and we call the subset a \"slice\".\n",
        "\n",
        "### 2.2.1 One at a Time\n",
        "\n",
        "First, let's start with the simplest example. Let's say we want to access a specific entry in the list. We call the position of an entry of a list its \"index\". We can access an entry by putting its index in square brackets next to the list's name like shown below.\n",
        "\n",
        "\n",
        "Note: Counting in Python (and in a lot of programming languages in general), we count starting from 0 instead of 1. The first entry is entry \"0\", the second entry is \"1\", and so on.\n",
        "\n",
        "\n",
        "```\n",
        "dist_list = [0.4, 0.7, 1.0, 1.5,    # distance of planets from the sun\n",
        "             5.2, 9.5, 19.2, 30.1]  # in units of Earth's distance (\"au\")\n",
        "\n",
        "print('The distance of Mercury is', str(dist_list[0]), 'au')\n",
        "\n",
        "print('The distance of Jupiter is', str(dist_list[4]), 'au')\n",
        "```\n",
        "\n"
      ],
      "metadata": {
        "id": "nfD-LYda0xn7"
      }
    },
    {
      "cell_type": "code",
      "source": [
        "dist_list = [0.4, 0.7, 1.0, 1.5,    # distance of planets from the sun\n",
        "             5.2, 9.5, 19.2, 30.1]  # in units of Earth's distance (\"au\")\n",
        "\n",
        "print('The distance of Mercury is', str(dist_list[0]), 'au')\n",
        "\n",
        "print('The distance of Jupiter is', str(dist_list[4]), 'au')"
      ],
      "metadata": {
        "id": "55QkEla0116C",
        "outputId": "7c9a90a9-9009-4ad9-d591-0aee3629b2b2",
        "colab": {
          "base_uri": "https://localhost:8080/"
        }
      },
      "execution_count": null,
      "outputs": [
        {
          "output_type": "stream",
          "name": "stdout",
          "text": [
            "The distance of Mercury is 0.4 au\n",
            "The distance of Jupiter is 5.2 au\n"
          ]
        }
      ]
    },
    {
      "cell_type": "markdown",
      "source": [
        "We can also count backwards in lists. We instead use negative numbers instead of positive numbers. The last entry on a list is assigned \"-1\".\n",
        "\n",
        "```\n",
        "print('The distance of the furthest planet is',dist_list[-1],'au')\n",
        "\n",
        "print('The distance of the second furthest planet is',dist_list[-2],'au')\n",
        "```\n"
      ],
      "metadata": {
        "id": "l38OodQ2-3Ca"
      }
    },
    {
      "cell_type": "code",
      "source": [
        "print('The distance of the furthest planet is',dist_list[-1],'au')\n",
        "\n",
        "print('The distance of the second furthest planet is',dist_list[-2],'au')"
      ],
      "metadata": {
        "id": "mm4IpywV9yrL",
        "outputId": "0d4d4bb5-925f-478c-e516-cf6366434f2c",
        "colab": {
          "base_uri": "https://localhost:8080/"
        }
      },
      "execution_count": null,
      "outputs": [
        {
          "output_type": "stream",
          "name": "stdout",
          "text": [
            "The distance of the furthest planet is 30.1 au\n",
            "The distance of the second furthest planet is 19.2 au\n"
          ]
        }
      ]
    },
    {
      "cell_type": "markdown",
      "source": [
        "Keep in mind that you cannot access an index that does not exist. See what happens when you run the two lines of code in the cell below. Run them one at a time!\n",
        "\n",
        "```\n",
        "print(dist_list[10])\n",
        "\n",
        "print(dist_list[-9])\n",
        "```\n"
      ],
      "metadata": {
        "id": "0dX9z4ypDV6P"
      }
    },
    {
      "cell_type": "code",
      "source": [],
      "metadata": {
        "id": "Owyqe8u4EUaf"
      },
      "execution_count": null,
      "outputs": []
    },
    {
      "cell_type": "markdown",
      "source": [
        "### 2.2.2 Slicing a Set of Entries - Starting, Stopping, Stepping\n",
        "\n",
        "So far, you've only accessed one item from a list but in a lot of cases you will want more than one value. When you take a slice of a list, __you have three options__ you can control:\n",
        "\n",
        "> - The start index\n",
        "> - The end or stop index (the first entry outside of your slice)\n",
        "> - Lastly, a \"step value\", which controls how you want to step over the items included in your slice (one by one, every other, every third, etc.).\n",
        "\n",
        "When slicing a list, it's formatted like `my_list[start:stop:step]`.\n",
        "\n",
        "Let's go through each one individually. First, let's make a list with the names of all the planets in order."
      ],
      "metadata": {
        "id": "DC8Q0jMFIB1d"
      }
    },
    {
      "cell_type": "code",
      "source": [
        "name_list = ['Mercury', 'Venus', 'Earth', 'Mars',\n",
        "             'Jupiter', 'Saturn', 'Uranus', 'Neptune']"
      ],
      "metadata": {
        "id": "LTEtCF_RH268"
      },
      "execution_count": null,
      "outputs": []
    },
    {
      "cell_type": "markdown",
      "source": [
        "Now, let's practice slicing with this list below. Let's start by getting the whole list of planets except Mercury. In this case, we're excluding the 0th value and starting on the 1st.\n",
        "\n",
        "```\n",
        "print(name_list[1:])\n",
        "print(name_list[1::])\n",
        "print(name_list[-7:])\n",
        "print(name_list[-7::])\n",
        "```"
      ],
      "metadata": {
        "id": "xv3Gb7ZhMH-D"
      }
    },
    {
      "cell_type": "code",
      "source": [
        "print(name_list[1:])\n",
        "print(name_list[1::])\n",
        "print(name_list[-7:])\n",
        "print(name_list[-7::])"
      ],
      "metadata": {
        "id": "1ZadOLKXNOGF",
        "outputId": "1f644ed6-e0a4-464b-cd10-2d7405509eac",
        "colab": {
          "base_uri": "https://localhost:8080/"
        }
      },
      "execution_count": null,
      "outputs": [
        {
          "output_type": "stream",
          "name": "stdout",
          "text": [
            "['Venus', 'Earth', 'Mars', 'Jupiter', 'Saturn', 'Uranus', 'Neptune']\n",
            "['Venus', 'Earth', 'Mars', 'Jupiter', 'Saturn', 'Uranus', 'Neptune']\n",
            "['Venus', 'Earth', 'Mars', 'Jupiter', 'Saturn', 'Uranus', 'Neptune']\n",
            "['Venus', 'Earth', 'Mars', 'Jupiter', 'Saturn', 'Uranus', 'Neptune']\n"
          ]
        }
      ]
    },
    {
      "cell_type": "markdown",
      "source": [
        "Notice that in the above example we only included a value for start. If the other values aren't filled in, \"stop\" defaults to the length of your list, and \"step\" defaults to 1, and each value from the rest of the list is sliced. Also notice that the first and second lines resulted in the same output. In otherwords, the step parameter and its associated colon are completely optional.\n",
        "\n",
        "Next, notice that the third and fourth lines resulted in exactly the same list as the first and second. When working with lists, we can always count backwards from the last index instead of starting from 0.\n",
        "\n",
        "Next, let's try to get all the planets except the last two. Remember that the value we specify for the end index is not included in our slice (e.g., Uranus is the 6th entry on the list, so the slice will end before Uranus).\n",
        "\n",
        "```\n",
        "print(name_list[:6])\n",
        "print(name_list[:6:])\n",
        "print(name_list[:-2])\n",
        "print(name_list[:-2:])\n",
        "```"
      ],
      "metadata": {
        "id": "6h4BeFzhNema"
      }
    },
    {
      "cell_type": "code",
      "source": [
        "print(name_list[:6])\n",
        "print(name_list[:6:])\n",
        "print(name_list[:-2])\n",
        "print(name_list[:-2:])"
      ],
      "metadata": {
        "id": "cJf7KU7ZNcxE",
        "outputId": "27c1f51a-00d0-4d1d-f5bb-d89f2bd88696",
        "colab": {
          "base_uri": "https://localhost:8080/"
        }
      },
      "execution_count": null,
      "outputs": [
        {
          "output_type": "stream",
          "name": "stdout",
          "text": [
            "['Mercury', 'Venus', 'Earth', 'Mars', 'Jupiter', 'Saturn']\n",
            "['Mercury', 'Venus', 'Earth', 'Mars', 'Jupiter', 'Saturn']\n",
            "['Mercury', 'Venus', 'Earth', 'Mars', 'Jupiter', 'Saturn']\n",
            "['Mercury', 'Venus', 'Earth', 'Mars', 'Jupiter', 'Saturn']\n"
          ]
        }
      ]
    },
    {
      "cell_type": "markdown",
      "source": [
        "Now, we can see that if we don't specify start, the default is start=0. Again, we see that it doesn't matter whether or not we include the second colon and it also doesn't matter whether we use an entry's positive or negative index.\n",
        "\n",
        "In practice, it's often simpler to specify start with the positive index and stop with either the positive or the negative index depending on how long the list is.\n",
        "\n",
        "Next, we can combine these two. In the following example, let's get a list with the planets next to the asteroid belt. The first one is mars, at index 3, and the second is Jupiter, at index 4. In that case, we want to stop **before** Saturn, at index 5 or -3.\n",
        "\n",
        "```\n",
        "print(name_list[3:5])\n",
        "print(name_list[3:-3:])\n",
        "```"
      ],
      "metadata": {
        "id": "Px6LMOvqO2fi"
      }
    },
    {
      "cell_type": "code",
      "source": [
        "print(name_list[3:5])\n",
        "print(name_list[3:-3:])"
      ],
      "metadata": {
        "id": "32faafOsOYoF",
        "outputId": "da67e8c7-7f73-47d5-aef3-2fecdc30e6bc",
        "colab": {
          "base_uri": "https://localhost:8080/"
        }
      },
      "execution_count": null,
      "outputs": [
        {
          "output_type": "stream",
          "name": "stdout",
          "text": [
            "['Mars', 'Jupiter']\n",
            "['Mars', 'Jupiter']\n"
          ]
        }
      ]
    },
    {
      "cell_type": "markdown",
      "source": [
        "Now it's your turn! In the cell below, try to get the following lists from name_list by changing the values of start and stop:\n",
        "\n",
        ">- all the inner planets (Mercury to Mars)\n",
        ">- all the outer planets (Jupiter to Neptune)\n"
      ],
      "metadata": {
        "id": "-Tl9S5ghWkky"
      }
    },
    {
      "cell_type": "code",
      "source": [
        "# Uncomment the lines below and change start and stop to the appropriate values\n",
        "print(name_list[:4])\n",
        "print(name_list[4:])"
      ],
      "metadata": {
        "id": "sxkV5XztV7XG",
        "outputId": "27981077-47f2-4acf-d759-28a5081a1703",
        "colab": {
          "base_uri": "https://localhost:8080/"
        }
      },
      "execution_count": null,
      "outputs": [
        {
          "output_type": "stream",
          "name": "stdout",
          "text": [
            "['Mercury', 'Venus', 'Earth', 'Mars']\n",
            "['Jupiter', 'Saturn', 'Uranus', 'Neptune']\n"
          ]
        }
      ]
    },
    {
      "cell_type": "markdown",
      "source": [
        "### 2.2.3 Changing the Step Size\n",
        "\n",
        "Now, let's talk about the last argument, step. Basically, this argument allows us to take every nth value from a list.\n",
        "\n",
        "In the first example below, we start from Mercury and take every second planet. In the second, we do the same, but starting from Venus instead. In the third, we start from Venus and end before the last planet, Neptune. In the fourth, we start from Venus and stop before the second to last planet, Uranus.\n",
        "\n",
        "Notice that the third and fourth lines produce the same output. The reason why is basically that the planet after Saturn would have been skipped anyway.\n",
        "\n",
        "```\n",
        "print(name_list[::2])\n",
        "print(name_list[1::2])\n",
        "print(name_list[1:-1:2])\n",
        "print(name_list[1:-2:2])\n",
        "```"
      ],
      "metadata": {
        "id": "zAMVLqjvX5gu"
      }
    },
    {
      "cell_type": "code",
      "source": [
        "print(name_list)\n",
        "print(name_list[::2])\n",
        "print(name_list[1::2])\n",
        "print(name_list[1:-1:2])\n",
        "print(name_list[1:-2:2])"
      ],
      "metadata": {
        "id": "tYIdXSi5Z8iV",
        "outputId": "50b8bda1-4667-4e28-c19a-05138ee8abd8",
        "colab": {
          "base_uri": "https://localhost:8080/"
        }
      },
      "execution_count": null,
      "outputs": [
        {
          "output_type": "stream",
          "name": "stdout",
          "text": [
            "['Mercury', 'Venus', 'Earth', 'Mars', 'Jupiter', 'Saturn', 'Uranus', 'Neptune']\n",
            "['Mercury', 'Earth', 'Jupiter', 'Uranus']\n",
            "['Venus', 'Mars', 'Saturn', 'Neptune']\n",
            "['Venus', 'Mars', 'Saturn']\n",
            "['Venus', 'Mars', 'Saturn']\n"
          ]
        }
      ]
    },
    {
      "cell_type": "markdown",
      "source": [
        "But this isn't the only thing we can do with step. We can also use it to sort a list in reverse order. If we use a negative value, the behavior is the same, but the order is reversed, as you can see in the two examples below.\n",
        "\n",
        "```\n",
        "print(name_list[::-1])\n",
        "print(name_list[::-2])\n",
        "```"
      ],
      "metadata": {
        "id": "STmvSTyTbHKn"
      }
    },
    {
      "cell_type": "code",
      "source": [
        "print(name_list[::-1])\n",
        "print(name_list[::-2])"
      ],
      "metadata": {
        "id": "lvMPuuoFZ_jm",
        "outputId": "18ea658e-1638-4b74-8005-ea1af5ece551",
        "colab": {
          "base_uri": "https://localhost:8080/"
        }
      },
      "execution_count": null,
      "outputs": [
        {
          "output_type": "stream",
          "name": "stdout",
          "text": [
            "['Neptune', 'Uranus', 'Saturn', 'Jupiter', 'Mars', 'Earth', 'Venus', 'Mercury']\n",
            "['Neptune', 'Saturn', 'Mars', 'Venus']\n"
          ]
        }
      ]
    },
    {
      "cell_type": "markdown",
      "source": [
        "Compare the second line in this example to the first line in the previous example. They do not contain the same values! Why? Well, when we specify a negative index, the list basically reverses order FIRST before doing anything else. As a result, we start counting from -1 and then go down to -len(my_list).\n",
        "\n",
        "Run the examples below to see how to use a negative value for step.\n",
        "\n",
        "```\n",
        "print(name_list[1:6:-1])\n",
        "print(name_list[5:0:-1])\n",
        "print(name_list[-3:-8:-1])\n",
        "```"
      ],
      "metadata": {
        "id": "mGOd1rSbdn1Z"
      }
    },
    {
      "cell_type": "code",
      "source": [
        "print(name_list)\n",
        "print(name_list[1:6:-1])\n",
        "print(name_list[5:0:-1])\n",
        "print(name_list[-3:-8:-1])"
      ],
      "metadata": {
        "id": "kRrcBI7whRd1",
        "outputId": "9bda981e-5772-4b07-813f-c94ea859fced",
        "colab": {
          "base_uri": "https://localhost:8080/"
        }
      },
      "execution_count": null,
      "outputs": [
        {
          "output_type": "stream",
          "name": "stdout",
          "text": [
            "['Mercury', 'Venus', 'Earth', 'Mars', 'Jupiter', 'Saturn', 'Uranus', 'Neptune']\n",
            "[]\n",
            "['Saturn', 'Jupiter', 'Mars', 'Earth', 'Venus']\n",
            "['Saturn', 'Jupiter', 'Mars', 'Earth', 'Venus']\n"
          ]
        }
      ]
    },
    {
      "cell_type": "markdown",
      "source": [
        "In the first line, we tried to get the planets from Venus to Saturn in reverse order, but it returned an empty list. The second and the third lines do this successfully.\n",
        "\n",
        "Now it's your turn!\n",
        "\n",
        "1. Get the outer planets again, but this time in reverse order.\n",
        "\n",
        "```\n",
        "print(name_list[start:stop])\n",
        "```\n",
        "2. Try to predict what the output of these two lines will be BEFORE you run them\n",
        "\n",
        "```\n",
        "print(name_list[2:4:2])\n",
        "print(name_list[6::-2])\n",
        "```"
      ],
      "metadata": {
        "id": "9zKNbKa4h9_N"
      }
    },
    {
      "cell_type": "code",
      "source": [
        "print(name_list[-1:-5:-1])\n",
        "print(name_list[8:3:-1])"
      ],
      "metadata": {
        "id": "ULbKJJjYjL03",
        "outputId": "4e95e8d3-1206-4e81-da5f-10a8c70323e7",
        "colab": {
          "base_uri": "https://localhost:8080/"
        }
      },
      "execution_count": null,
      "outputs": [
        {
          "output_type": "stream",
          "name": "stdout",
          "text": [
            "['Neptune', 'Uranus', 'Saturn', 'Jupiter']\n",
            "['Neptune', 'Uranus', 'Saturn', 'Jupiter']\n"
          ]
        }
      ]
    },
    {
      "cell_type": "code",
      "source": [
        "print(name_list[2:4:2])\n",
        "print(name_list[6::-2])"
      ],
      "metadata": {
        "id": "w4vbWAKPjXRM",
        "outputId": "1133ecf3-d788-45ee-ae7f-ea208a9b9f52",
        "colab": {
          "base_uri": "https://localhost:8080/"
        }
      },
      "execution_count": null,
      "outputs": [
        {
          "output_type": "stream",
          "name": "stdout",
          "text": [
            "['Earth']\n",
            "['Uranus', 'Jupiter', 'Earth', 'Mercury']\n"
          ]
        }
      ]
    },
    {
      "cell_type": "markdown",
      "source": [
        "## 2.3 Editing Lists\n",
        "\n",
        "Note that all the methods described below change the list in place. In other words, using any one of these methods permanently changes the contents of the list.\n",
        "\n",
        "### 2.3.1 Appending Items to the List\n",
        "You can use the append method shown below to add items to your lists. The format (or \"syntax\") for using append is as follows:\n",
        "```\n",
        "your_list_here.append(element)\n",
        "```\n",
        "__Note:__ the element you could be appending could be a string, a number, or even a list. The appended item always goes at the end, after all the original values in the list.\n",
        "\n",
        "Lets take a look at this method in action below!\n",
        "```\n",
        "empty_list = []\n",
        "print(empty_list)\n",
        "\n",
        "empty_list.append(3)\n",
        "print(empty_list)\n",
        "\n",
        "empty_list.append(6)\n",
        "empty_list.append(9)\n",
        "print(empty_list)\n",
        "```"
      ],
      "metadata": {
        "id": "NSJWA8bZbA9J"
      }
    },
    {
      "cell_type": "code",
      "source": [
        "empty_list = []\n",
        "print(empty_list)\n",
        "\n",
        "empty_list.append(3)\n",
        "print(empty_list)\n",
        "\n",
        "empty_list.append(6)\n",
        "empty_list.append(9)\n",
        "print(empty_list)"
      ],
      "metadata": {
        "id": "u350BfQtkcMm",
        "outputId": "d474213b-29f6-49c4-e7b4-1ef37d6ec36e",
        "colab": {
          "base_uri": "https://localhost:8080/"
        }
      },
      "execution_count": null,
      "outputs": [
        {
          "output_type": "stream",
          "name": "stdout",
          "text": [
            "[]\n",
            "[3]\n",
            "[3, 6, 9]\n"
          ]
        }
      ]
    },
    {
      "cell_type": "markdown",
      "source": [
        "### 2.3.2 Extending Lists\n",
        "\n",
        "Let's say you have two lists that you want to combine together. You can do this using the extend method:\n",
        "```\n",
        "list1.extend(list2)\n",
        "```\n",
        "Let's see an example below\n",
        "```\n",
        "planets = ['mercury', 'venus', 'earth', 'mars']\n",
        "outer_planets = ['jupiter', 'saturn', 'uranus', 'neptune']\n",
        "\n",
        "planets.extend(outer_planets)\n",
        "print(planets)\n",
        "```"
      ],
      "metadata": {
        "id": "lNVGgTHWthL3"
      }
    },
    {
      "cell_type": "code",
      "source": [
        "planets = ['mercury', 'venus', 'earth', 'mars']\n",
        "outer_planets = ['jupiter', 'saturn', 'uranus', 'neptune']\n",
        "\n",
        "planets.extend(outer_planets)\n",
        "print(planets)"
      ],
      "metadata": {
        "id": "AEWIs9MYtxup",
        "outputId": "7a2e467a-22cc-490b-a977-a1e4ac30837d",
        "colab": {
          "base_uri": "https://localhost:8080/"
        }
      },
      "execution_count": null,
      "outputs": [
        {
          "output_type": "stream",
          "name": "stdout",
          "text": [
            "['mercury', 'venus', 'earth', 'mars', 'jupiter', 'saturn', 'uranus', 'neptune']\n"
          ]
        }
      ]
    },
    {
      "cell_type": "markdown",
      "source": [
        "In the cell below, you can see what happens if you use append instead. As you can see, the behavior is quite different!\n",
        "```\n",
        "planets = ['mercury', 'venus', 'earth', 'mars']\n",
        "outer_planets = ['jupiter', 'saturn', 'uranus', 'neptune']\n",
        "\n",
        "planets.append(outer_planets)\n",
        "print(planets)\n",
        "```"
      ],
      "metadata": {
        "id": "B0nmPniYujZG"
      }
    },
    {
      "cell_type": "code",
      "source": [
        "planets = ['mercury', 'venus', 'earth', 'mars']\n",
        "outer_planets = ['jupiter', 'saturn', 'uranus', 'neptune']\n",
        "\n",
        "planets.append(outer_planets)\n",
        "print(planets)"
      ],
      "metadata": {
        "id": "zWmCsNfkuqSy",
        "outputId": "80ecf05b-5815-40da-ad61-9ad9a578f1dc",
        "colab": {
          "base_uri": "https://localhost:8080/"
        }
      },
      "execution_count": null,
      "outputs": [
        {
          "output_type": "stream",
          "name": "stdout",
          "text": [
            "['mercury', 'venus', 'earth', 'mars', ['jupiter', 'saturn', 'uranus', 'neptune']]\n"
          ]
        }
      ]
    },
    {
      "cell_type": "markdown",
      "source": [
        "### 2.3.3 Specifying the Index\n",
        "\n",
        "Oftentimes, it is useful to *initialize* a list when we know how long the list is going to be and then fill it up with values afterwards for computer memory reasons. This can provide extremely substatial speed ups to your code.\n",
        "```\n",
        "init_list = [0, 0, 0, 0, 0]  # initialize a list with all 0's\n",
        "\n",
        "# Change a couple of the values\n",
        "init_list[0] = 4\n",
        "init_list[3] = 10\n",
        "\n",
        "print(init_list)  # the list is now different from before!\n",
        "```"
      ],
      "metadata": {
        "id": "73XM6jcajqb4"
      }
    },
    {
      "cell_type": "code",
      "source": [
        "init_list = [0, 0, 0, 0, 0]  # initialize a list with all 0's\n",
        "\n",
        "# Change a couple of the values\n",
        "init_list[0] = 4\n",
        "init_list[3] = 10\n",
        "\n",
        "print(init_list)  # the list is now different from before!"
      ],
      "metadata": {
        "id": "nu4V4DtybDM3",
        "outputId": "5e6a7025-91ca-4924-b51f-00441e6cd6f6",
        "colab": {
          "base_uri": "https://localhost:8080/"
        }
      },
      "execution_count": null,
      "outputs": [
        {
          "output_type": "stream",
          "name": "stdout",
          "text": [
            "[4, 0, 0, 10, 0]\n"
          ]
        }
      ]
    },
    {
      "cell_type": "markdown",
      "source": [
        "### 2.3.4 Multiplying Lists\n",
        "\n",
        "Sometimes, it's nice to not have to write something out a bunch of times. This is especially true when we want to have a list with a bunch of the same values repeated. In the previous section, we initialized a list by writing out a bunch of 0's by hand. Clearly, there must be a better way to do this! Naturally, there is! It turns out by multiplying lists by an integer, we can repeat that list that many times! See what happens when you run the below examples:\n",
        "```\n",
        "init_list = 40*[0]\n",
        "print(init_list)\n",
        "\n",
        "other_list = 20*[1,2]\n",
        "print(other_list)\n",
        "```"
      ],
      "metadata": {
        "id": "mPs5EkLuL5kM"
      }
    },
    {
      "cell_type": "code",
      "source": [
        "init_list = 40*[0]\n",
        "print(init_list)\n",
        "\n",
        "other_list = 20*[1,2]\n",
        "print(other_list)"
      ],
      "metadata": {
        "id": "TwMAvQ7uOM0Q",
        "outputId": "d7df995c-e985-42aa-8f63-59afd5a76b67",
        "colab": {
          "base_uri": "https://localhost:8080/"
        }
      },
      "execution_count": null,
      "outputs": [
        {
          "output_type": "stream",
          "name": "stdout",
          "text": [
            "[0, 0, 0, 0, 0, 0, 0, 0, 0, 0, 0, 0, 0, 0, 0, 0, 0, 0, 0, 0, 0, 0, 0, 0, 0, 0, 0, 0, 0, 0, 0, 0, 0, 0, 0, 0, 0, 0, 0, 0]\n",
            "[1, 2, 1, 2, 1, 2, 1, 2, 1, 2, 1, 2, 1, 2, 1, 2, 1, 2, 1, 2, 1, 2, 1, 2, 1, 2, 1, 2, 1, 2, 1, 2, 1, 2, 1, 2, 1, 2, 1, 2]\n"
          ]
        }
      ]
    },
    {
      "cell_type": "markdown",
      "source": [
        "## 2.4 \"for\" Loops\n",
        "### 2.4.1 Basics\n",
        "\n",
        "Now that we have a good understanding of how to work with lists, let's look at one of their most powerful and common uses in Python. The structure of a `for` loop is as follows:\n",
        "```\n",
        "for thing in my_list:\n",
        "    do something with thing # note the indent here\n",
        "\n",
        "now do something else # this isn't indented so it's not in the loop\n",
        "```\n",
        "This code block performs some action for each entry in my_list. Keep in mind when you use a for loop with a list (known as iterating for the list), the order of the list is preserved.\n",
        "\n",
        "Finally, notice the indentation. You MUST have the lines of code after the for statement indented for Python to recognize it as part of the for loop. Once you have a single line of code not indented, you're telling the Python interpreter that the for loop code is over. It will not advance to the unindented lines until it has finished iterating over the code in the for loop. The general practice in python is to use 4 spaces for each level of indentation.\n",
        "\n",
        "Let's look at an example of a for loop using one of the lists from previous examples\n",
        "```\n",
        "for name in name_list:\n",
        "    print('There is a planet named', name)\n",
        "```"
      ],
      "metadata": {
        "id": "tAcWW6Y2u00X"
      }
    },
    {
      "cell_type": "code",
      "source": [
        "for name in name_list:\n",
        "    print(f'There is a planet named {name}.')"
      ],
      "metadata": {
        "id": "1zXZQdeIyLFz",
        "outputId": "d23bf185-9af9-4aa2-9382-d4e0feec5ee8",
        "colab": {
          "base_uri": "https://localhost:8080/"
        }
      },
      "execution_count": null,
      "outputs": [
        {
          "output_type": "stream",
          "name": "stdout",
          "text": [
            "There is a planet named Mercury.\n",
            "There is a planet named Venus.\n",
            "There is a planet named Earth.\n",
            "There is a planet named Mars.\n",
            "There is a planet named Jupiter.\n",
            "There is a planet named Saturn.\n",
            "There is a planet named Uranus.\n",
            "There is a planet named Neptune.\n"
          ]
        }
      ]
    },
    {
      "cell_type": "code",
      "source": [],
      "metadata": {
        "id": "BTzIVrgF_GOs"
      },
      "execution_count": null,
      "outputs": []
    },
    {
      "cell_type": "markdown",
      "source": [
        "If the list contains numbers, we can also do mathematical operations.\n",
        "```\n",
        "for dist in dist_list:\n",
        "    print(dist**3)\n",
        "```"
      ],
      "metadata": {
        "id": "yOncxJ5K0JYl"
      }
    },
    {
      "cell_type": "code",
      "source": [
        "for dist in dist_list:\n",
        "    print(dist**3)"
      ],
      "metadata": {
        "id": "M6fQHC39yVea",
        "outputId": "1394d7bf-2776-44dd-bbd9-b2d5941fe51a",
        "colab": {
          "base_uri": "https://localhost:8080/"
        }
      },
      "execution_count": null,
      "outputs": [
        {
          "output_type": "stream",
          "name": "stdout",
          "text": [
            "0.06400000000000002\n",
            "0.3429999999999999\n",
            "1.0\n",
            "3.375\n",
            "140.608\n",
            "857.375\n",
            "7077.887999999999\n",
            "27270.901000000005\n"
          ]
        }
      ]
    },
    {
      "cell_type": "markdown",
      "source": [
        "### 2.4.2 The range( ) Function\n",
        "\n",
        "In the previous section, we mentioned that it is common to initialize a list and then fill it with values afterwards. We can do this systematically with for loops. One way we can do this is with the range() function.\n",
        "\n",
        "Instead of a list, range() takes an integer and returns an iterable (a cousin of the list) that allows you to loop over integers. Before we repeat the previous example, let's see how this function behaves below.\n",
        "```\n",
        "print(range(10))\n",
        "\n",
        "for i in range(10):\n",
        "    print(i)\n",
        "```"
      ],
      "metadata": {
        "id": "yZLTeDws1S8h"
      }
    },
    {
      "cell_type": "code",
      "source": [
        "print(range(10))\n",
        "\n",
        "for i in range(10):\n",
        "    print(i)"
      ],
      "metadata": {
        "id": "pvikY3Wp2aMk",
        "outputId": "147f5d4c-bee5-4016-e7da-e221527cee9d",
        "colab": {
          "base_uri": "https://localhost:8080/"
        }
      },
      "execution_count": null,
      "outputs": [
        {
          "output_type": "stream",
          "name": "stdout",
          "text": [
            "range(0, 10)\n",
            "0\n",
            "1\n",
            "2\n",
            "3\n",
            "4\n",
            "5\n",
            "6\n",
            "7\n",
            "8\n",
            "9\n"
          ]
        }
      ]
    },
    {
      "cell_type": "markdown",
      "source": [
        "Notice that the inputs of the range function behave similarly to index slicing. The optional start argument defaults to 0. Then we iterate and stop *before* stop, just like in slicing. This is useful because the output of range can be used to directly access the elements of a list without any modification. If you wanted a list containing the numbers from 0 to 9, we could turn the range iterable into a list like so:\n",
        "```\n",
        "list(range(10))\n",
        "```\n",
        "\n"
      ],
      "metadata": {
        "id": "KeCCumUr25hP"
      }
    },
    {
      "cell_type": "code",
      "source": [
        "list(range(10))"
      ],
      "metadata": {
        "id": "-iWNjhceP7oj",
        "outputId": "5d769872-b331-4df2-b6ae-34e579d63070",
        "colab": {
          "base_uri": "https://localhost:8080/"
        }
      },
      "execution_count": null,
      "outputs": [
        {
          "output_type": "execute_result",
          "data": {
            "text/plain": [
              "[0, 1, 2, 3, 4, 5, 6, 7, 8, 9]"
            ]
          },
          "metadata": {},
          "execution_count": 28
        }
      ]
    },
    {
      "cell_type": "markdown",
      "source": [
        "Now, we can redo the previous example using range()\n",
        "```\n",
        "# Create a list with the same length as dist_list, but with all zeros.\n",
        "dist3_list = len(dist_list)*[0]\n",
        "for i in range(len(dist_list)):\n",
        "    dist3_list[i] = dist_list[i]**3\n",
        "\n",
        "print(dist3_list)\n",
        "```"
      ],
      "metadata": {
        "id": "z85KwJCXP8Be"
      }
    },
    {
      "cell_type": "code",
      "source": [
        "dist3_list = len(dist_list)*[0]\n",
        "\n",
        "for i in range(len(dist_list)):\n",
        "    dist3_list[i] = dist_list[i]**3\n",
        "\n",
        "print(dist3_list)"
      ],
      "metadata": {
        "id": "MH5IcqcP2ztN",
        "outputId": "a2e07238-614a-4b9e-d2be-aa96a737833c",
        "colab": {
          "base_uri": "https://localhost:8080/"
        }
      },
      "execution_count": null,
      "outputs": [
        {
          "output_type": "stream",
          "name": "stdout",
          "text": [
            "[0.06400000000000002, 0.3429999999999999, 1.0, 3.375, 140.608, 857.375, 7077.887999999999, 27270.901000000005]\n"
          ]
        }
      ]
    },
    {
      "cell_type": "markdown",
      "source": [
        "### 2.4.3 The zip( ) Function\n",
        "\n",
        "When working with multiple lists, it can be useful to iterate over all of them simultaneously. In principle, we could accomplish the same thing with `range` above (how?), but we can use `zip` to improve the readability of the code. Since `zip` returns two iterables, the syntax for the for loop will reflect this. Let's try this with the lists we created previously, `name_list` and `dist_list`.\n",
        "\n",
        "```\n",
        "for name, dist in zip(name_list, dist_list):\n",
        "    print(name, 'is', dist, 'AU from the Sun')\n",
        "```\n",
        "\n",
        "Notice in the above example I have one iterable for each list I put in the `zip` function. Try running this example yourself in the cell below.\n",
        "\n",
        "Also, keep in mind that the example uses only two lists but you are by no means limited. The `zip` function can take any number of lists as inputs, as long as all of them have the same length. Try modifying the example to add one or two more lists."
      ],
      "metadata": {
        "id": "OUa32MUtEuln"
      }
    },
    {
      "cell_type": "code",
      "source": [
        "for name, dist in zip(name_list, dist_list):\n",
        "    print(name, 'is', dist, 'AU from the Sun')"
      ],
      "metadata": {
        "id": "IhRbzWcdJ9dD",
        "outputId": "28b27fdd-fc67-4826-eaa1-f5b5a9fad8af",
        "colab": {
          "base_uri": "https://localhost:8080/"
        }
      },
      "execution_count": null,
      "outputs": [
        {
          "output_type": "stream",
          "name": "stdout",
          "text": [
            "Mercury is 0.4 AU from the Sun\n",
            "Venus is 0.7 AU from the Sun\n",
            "Earth is 1.0 AU from the Sun\n",
            "Mars is 1.5 AU from the Sun\n",
            "Jupiter is 5.2 AU from the Sun\n",
            "Saturn is 9.5 AU from the Sun\n",
            "Uranus is 19.2 AU from the Sun\n",
            "Neptune is 30.1 AU from the Sun\n"
          ]
        }
      ]
    },
    {
      "cell_type": "code",
      "source": [
        "for name in zip(name_list, dist_list):\n",
        "    print(name, dist)"
      ],
      "metadata": {
        "id": "vunnd0wWOBzr",
        "outputId": "7fbdd707-6933-4282-a20e-dc5699d76044",
        "colab": {
          "base_uri": "https://localhost:8080/"
        }
      },
      "execution_count": null,
      "outputs": [
        {
          "output_type": "stream",
          "name": "stdout",
          "text": [
            "('Mercury', 0.4) 30.1\n",
            "('Venus', 0.7) 30.1\n",
            "('Earth', 1.0) 30.1\n",
            "('Mars', 1.5) 30.1\n",
            "('Jupiter', 5.2) 30.1\n",
            "('Saturn', 9.5) 30.1\n",
            "('Uranus', 19.2) 30.1\n",
            "('Neptune', 30.1) 30.1\n"
          ]
        }
      ]
    },
    {
      "cell_type": "markdown",
      "source": [
        "### 2.4.4 The enumerate( ) Function\n",
        "\n",
        "Another useful function when working with for loops is the `enumerate()` function. This function takes a list of things and allows you to iterate over both those objects and their indices. Since this function returns two different iterables, the syntax for the for loop is similar to what we did with `zip()` above.\n",
        "```\n",
        "for i, name in enumerate(name_list):\n",
        "    print(name, 'is the', i+1, 'planet from the Sun')\n",
        "```\n",
        "\n",
        "Notice in the print statement I used `i+1` instead of `i`. Why?"
      ],
      "metadata": {
        "id": "O4yak54t6Xps"
      }
    },
    {
      "cell_type": "code",
      "source": [
        "for i, name in enumerate(name_list):\n",
        "    print(name, 'is the', i+1, 'planet from the Sun')"
      ],
      "metadata": {
        "id": "FckYu9mrFNGz",
        "outputId": "20f7a484-0ea4-4db9-eff4-673d79d72a45",
        "colab": {
          "base_uri": "https://localhost:8080/"
        }
      },
      "execution_count": null,
      "outputs": [
        {
          "output_type": "stream",
          "name": "stdout",
          "text": [
            "Mercury is the 1 planet from the Sun\n",
            "Venus is the 2 planet from the Sun\n",
            "Earth is the 3 planet from the Sun\n",
            "Mars is the 4 planet from the Sun\n",
            "Jupiter is the 5 planet from the Sun\n",
            "Saturn is the 6 planet from the Sun\n",
            "Uranus is the 7 planet from the Sun\n",
            "Neptune is the 8 planet from the Sun\n"
          ]
        }
      ]
    },
    {
      "cell_type": "markdown",
      "source": [
        "We can also combine the functionality of `enumerate()` with `zip()`. In the below example, we take two lists (different x and y values) and we create a third list with z values given by the function $z=f(x,y)=x^2+y$.\n",
        "\n",
        "```\n",
        "xs = [0, 1, 3, 5, 6]\n",
        "ys = [1, 3, 6, 7, 10]\n",
        "\n",
        "zs = len(xs)*[0]\n",
        "\n",
        "for i, (x, y) in enumerate(zip(xs, ys)):\n",
        "    zs[i] = x*x + y\n",
        "print(zs)\n",
        "```\n",
        "\n",
        "Notice that in the for loop statement I enclose `x, y` in parentheses. This is necessary because zip essentially combines all of its arguments into one list. If you remove the parentheses from the expression, the code will not run. Try this yourself."
      ],
      "metadata": {
        "id": "CVhnm2Zn2cyK"
      }
    },
    {
      "cell_type": "code",
      "source": [
        "xs = [0, 1, 3, 5, 6]\n",
        "ys = [1, 3, 6, 7, 10]\n",
        "\n",
        "zs = len(xs)*[0]\n",
        "\n",
        "for i, (x,y) in enumerate(zip(xs, ys)):\n",
        "    zs[i] = x*x + y\n",
        "print(zs)"
      ],
      "metadata": {
        "id": "3Z9mEOS02cV7",
        "outputId": "c43c0f7a-20a0-4410-a0c2-0ace7bf1a00f",
        "colab": {
          "base_uri": "https://localhost:8080/"
        }
      },
      "execution_count": null,
      "outputs": [
        {
          "output_type": "stream",
          "name": "stdout",
          "text": [
            "[1, 4, 15, 32, 46]\n"
          ]
        }
      ]
    },
    {
      "cell_type": "markdown",
      "source": [
        "### 2.4.5 Nested Loops\n",
        "\n",
        "One final application that we'll discuss is the concept of nested loops. In the previous example, we took the x and y values as five different pairs of points to work with. What if instead we wanted to evaluate the same function for each combination of those different x and y values, in other words for the whole grid of points? Let's see this example below:\n",
        "\n",
        "```\n",
        "xs = [0, 1, 3, 5, 6]\n",
        "ys = [1, 3, 6, 7, 10]\n",
        "\n",
        "zs = len(xs)*[0]\n",
        "for i in range(len(xs)):\n",
        "    zs[i] = len(ys)*[0]\n",
        "\n",
        "for i, x in enumerate(xs):\n",
        "    for j, y in enumerate(ys):\n",
        "        zs[i][j] = x*x + y\n",
        "\n",
        "print(zs)\n",
        "```\n",
        "\n",
        "In this example, you can see an example of a nested for loop, basically just a loop within a loop. In this code, the Python interpreter looped through all the y values for one x value before moving onto the next.\n",
        "\n",
        "In order to store the values, we had to make a nested list, or a list of lists. If you don't understand what's going on in the code, I wouldn't worry too much about it. In the next module, we'll see a much better way of accomplishing similar functionality."
      ],
      "metadata": {
        "id": "MaFhH46TFNn8"
      }
    },
    {
      "cell_type": "code",
      "source": [
        "xs = [0, 1, 3, 5, 6]\n",
        "ys = [1, 3, 6, 7, 10]\n",
        "\n",
        "zs = len(xs)*[0]\n",
        "for i in range(len(xs)):\n",
        "    zs[i] = len(ys)*[0]\n",
        "\n",
        "print(zs)\n",
        "\n",
        "for i, x in enumerate(xs):\n",
        "    for j, y in enumerate(ys):\n",
        "        zs[i][j] = x*x + y\n",
        "\n",
        "print(zs)"
      ],
      "metadata": {
        "id": "LpwfhsYK8UUl",
        "outputId": "e29b06f1-3207-4a56-8d3a-30f8191a459e",
        "colab": {
          "base_uri": "https://localhost:8080/"
        }
      },
      "execution_count": null,
      "outputs": [
        {
          "output_type": "stream",
          "name": "stdout",
          "text": [
            "[[0, 0, 0, 0, 0], [0, 0, 0, 0, 0], [0, 0, 0, 0, 0], [0, 0, 0, 0, 0], [0, 0, 0, 0, 0]]\n",
            "[[1, 3, 6, 7, 10], [2, 4, 7, 8, 11], [10, 12, 15, 16, 19], [26, 28, 31, 32, 35], [37, 39, 42, 43, 46]]\n"
          ]
        }
      ]
    },
    {
      "cell_type": "markdown",
      "source": [
        "## 2.5 Practice Problem: Kepler's Third Law\n",
        "\n",
        "Kepler's third law of planetary motion relates the distance of a planet from the Sun to its orbital period, or the time it takes to complete a full orbit:\n",
        "$$T = 2\\pi\\sqrt{\\frac{a^3}{G(M+m)}}$$\n",
        "\n",
        "Here, G is Newton's gravitational constant, M is the mass of the Sun, m is the mass of the planet, and a is the semimajor axis of the planet, which is essentially just the distance. In practice, the masses of the planets are extremely small compared to the mass of the sun, so we can just assume $M+m\\approx M$ and ignore the mass of the planet in the equation.\n",
        "\n",
        "You have two tasks\n",
        ">- Using the distance list, create a new list that contains the period of each planet in seconds\n",
        ">- Calculate the conversion from seconds to years to create another list that contains the period of each planet in years\n",
        ">- For each planet, print out the following sentence: \"The period of [planet] in years is [period]\"\n",
        "\n",
        "For these tasks, you'll need a few things. You'll need to define variables G (in SI units) and Msun (in kilograms). You can look both of these up. You already have a list of the names of the planets above. You also have a list of the distances, but in units of au, so you'll need to also define a variable to convert from au to meters. If you wish, you can also define a new list with the planet masses in kilograms.\n",
        "\n",
        "You'll also need the value of pi and the square root function. I've defined pi for you below. For the square root function, recall that $sqrt(x)=x^{0.5}$\n",
        "\n"
      ],
      "metadata": {
        "id": "dSY1xVfuAHDZ"
      }
    },
    {
      "cell_type": "code",
      "source": [
        "pi = 3.141592653589793\n",
        "print(pi)\n",
        "print(4**0.5)\n",
        "\n",
        "\n",
        "print(name_list)\n",
        "print(dist_list)"
      ],
      "metadata": {
        "id": "fTm_P5aNYvB1",
        "outputId": "dfccb041-959d-4876-a5b7-dae16e0b0431",
        "colab": {
          "base_uri": "https://localhost:8080/"
        }
      },
      "execution_count": null,
      "outputs": [
        {
          "output_type": "stream",
          "name": "stdout",
          "text": [
            "3.141592653589793\n",
            "2.0\n",
            "['Mercury', 'Venus', 'Earth', 'Mars', 'Jupiter', 'Saturn', 'Uranus', 'Neptune']\n",
            "[0.4, 0.7, 1.0, 1.5, 5.2, 9.5, 19.2, 30.1]\n"
          ]
        }
      ]
    },
    {
      "cell_type": "code",
      "source": [
        "Msun = 1.989e30 #kg\n",
        "G = 6.6743e-11\n",
        "au_to_m = 1.496e11 #number of meters in an au\n",
        "s_to_yr = 3.154e7 #seconds in year\n",
        "\n",
        "mass_list = [0.330e24, 4.87e24, 5.97e24, 0.642e24, 1898e24, 568e24, 86.8e24, 102e24]\n",
        "\n",
        "period_list_sec = len(mass_list)*[0]\n",
        "period_list_yr = len(mass_list)*[0]\n",
        "#print(period_list)\n",
        "\n",
        "for i in range(len(mass_list)):\n",
        "    mass = mass_list[i]\n",
        "    dist = dist_list[i]\n",
        "    period_list_sec[i] = (2 * pi * ((dist*au_to_m)**3 / (G * (Msun + mass)))**0.5)\n",
        "    period_list_yr[i] = period_list_sec[i] / s_to_yr\n",
        "\n",
        "print(period_list_sec)\n",
        "print(period_list_yr)\n",
        "\n",
        "for i in range(len(period_list_yr)):\n",
        "    name = name_list[i]\n",
        "    period = period_list_yr[i]\n",
        "    print(f\"The period of planet {name} is {period} years.\")"
      ],
      "metadata": {
        "id": "8H2cP6hg9vGO",
        "outputId": "85c30a04-4206-44fa-ae1e-b82997485994",
        "colab": {
          "base_uri": "https://localhost:8080/"
        }
      },
      "execution_count": null,
      "outputs": [
        {
          "output_type": "stream",
          "name": "stdout",
          "text": [
            "[7982647.577712807, 18480066.66682776, 31554140.392643567, 57968735.06679225, 373985623.02277285, 923805218.4103478, 2654601724.6511335, 5210694520.405779]\n",
            "[0.25309599168398245, 0.5859247516432391, 1.000448332043233, 1.837943407317446, 11.857502315243273, 29.289956195635632, 84.16619291855211, 165.20908435021494]\n",
            "The period of planet Mercury is 0.25309599168398245 years.\n",
            "The period of planet Venus is 0.5859247516432391 years.\n",
            "The period of planet Earth is 1.000448332043233 years.\n",
            "The period of planet Mars is 1.837943407317446 years.\n",
            "The period of planet Jupiter is 11.857502315243273 years.\n",
            "The period of planet Saturn is 29.289956195635632 years.\n",
            "The period of planet Uranus is 84.16619291855211 years.\n",
            "The period of planet Neptune is 165.20908435021494 years.\n"
          ]
        }
      ]
    },
    {
      "cell_type": "markdown",
      "source": [
        "## 2.6 Practice Problem\n",
        "Redo Practice Problem 2.5 using zip() and enumerate() instead of range()."
      ],
      "metadata": {
        "id": "nDcrB3INp3hd"
      }
    },
    {
      "cell_type": "code",
      "source": [
        "period_list_sec = len(mass_list)*[0]\n",
        "period_list_yr = len(mass_list)*[0]\n",
        "#print(period_list)\n",
        "\n",
        "for i, mass in enumerate(mass_list):\n",
        "    for i, dist in enumerate(dist_list):\n",
        "        period_list_sec[i] = (2 * pi * ((dist*au_to_m)**3 / (G * (Msun + mass)))**0.5)\n",
        "        period_list_yr[i] = period_list_sec[i] / s_to_yr\n",
        "\n",
        "print(period_list_sec)\n",
        "print(period_list_yr)\n",
        "\n",
        "for i, period in enumerate(period_list_yr):\n",
        "    name = name_list[i]\n",
        "    print(f\"The period of planet {name} is {period} years.\")"
      ],
      "metadata": {
        "id": "6dIM5OdPp318",
        "outputId": "3787c250-1dfc-4063-f4ee-495b052fbd92",
        "colab": {
          "base_uri": "https://localhost:8080/"
        }
      },
      "execution_count": null,
      "outputs": [
        {
          "output_type": "stream",
          "name": "stdout",
          "text": [
            "[7982443.564507258, 18479615.460507408, 31553378.696995184, 57967258.10133221, 374154424.47926986, 923913425.0335155, 2654591581.877334, 5210694520.405779]\n",
            "[0.2530895232881185, 0.5859104457992202, 1.0004241818958524, 1.8378965789896071, 11.862854295474632, 29.29338696999098, 84.16587133409429, 165.20908435021494]\n",
            "The period of planet Mercury is 0.2530895232881185 years.\n",
            "The period of planet Venus is 0.5859104457992202 years.\n",
            "The period of planet Earth is 1.0004241818958524 years.\n",
            "The period of planet Mars is 1.8378965789896071 years.\n",
            "The period of planet Jupiter is 11.862854295474632 years.\n",
            "The period of planet Saturn is 29.29338696999098 years.\n",
            "The period of planet Uranus is 84.16587133409429 years.\n",
            "The period of planet Neptune is 165.20908435021494 years.\n"
          ]
        }
      ]
    }
  ]
}