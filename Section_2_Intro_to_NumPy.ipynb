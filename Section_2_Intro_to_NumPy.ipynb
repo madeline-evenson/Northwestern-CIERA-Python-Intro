{
  "nbformat": 4,
  "nbformat_minor": 0,
  "metadata": {
    "colab": {
      "provenance": [],
      "include_colab_link": true
    },
    "kernelspec": {
      "name": "python3",
      "display_name": "Python 3"
    },
    "language_info": {
      "name": "python"
    }
  },
  "cells": [
    {
      "cell_type": "markdown",
      "metadata": {
        "id": "view-in-github",
        "colab_type": "text"
      },
      "source": [
        "<a href=\"https://colab.research.google.com/github/madeline-evenson/Northwestern-CIERA-Python-Intro/blob/main/Section_2_Intro_to_NumPy.ipynb\" target=\"_parent\"><img src=\"https://colab.research.google.com/assets/colab-badge.svg\" alt=\"Open In Colab\"/></a>"
      ]
    },
    {
      "cell_type": "markdown",
      "source": [
        "# Section 2. Intro to NumPy\n",
        "## 2.1 Getting Started with NumPy\n",
        "\n",
        "NumPy (often pronounced \"num-pie\") is a widely used module that is optimized to efficiently execute a variety of mathematical operations. The name Numpy hints at its usefulness for us: Numerical Python. Numpy will be extremely useful for your budding career as an astronomer because of everything it can help you do - read in and manipulate large amounts of data, quickly do simple or complex math, and much much more.\n",
        "\n",
        "Before we do anything else, we must import the module.\n",
        "Try doing this yourself in the cell below.\n",
        "```\n",
        "import numpy as np\n",
        "```\n",
        "Importing this module under the alias \"np\" isn't necessary, strictly speaking, but it will make your life easier by taking up less space on a line of code.\n",
        "It is standard practice to import numpy as np."
      ],
      "metadata": {
        "id": "N3EUWNsfQqLI"
      }
    },
    {
      "cell_type": "code",
      "execution_count": 1,
      "metadata": {
        "id": "x5sKc4xrQpxM"
      },
      "outputs": [],
      "source": [
        "# import numpy below\n",
        "import numpy as np"
      ]
    },
    {
      "cell_type": "markdown",
      "source": [
        "### 2.1.1 Making your first arrays\n",
        "\n",
        "Now that we've imported the module, we can now start talking about why we want to use NumPy.\n",
        "\n",
        "The biggest and main advantage of using NumPy is the use of arrays.\n",
        "An array is similar to a list, except that arrays are optimized for use in mathematical applications.\n",
        "\n",
        "We can turn a list into an array as follows:\n",
        "```\n",
        "list1 = [0, 3, 8, 10, 14]\n",
        "list2 = [9, 5, 3, 2, 4]\n",
        "\n",
        "array1 = np.array([0, 3, 8, 10, 14])\n",
        "array2 = np.array([9, 5, 3, 2, 4])\n",
        "```\n",
        "Above, we defined two lists, list1 and list2.\n",
        "Then, we created two arrays, array1 and array2, using the same numerical values as the lists.\n",
        "We could have also performed the following:\n",
        "```\n",
        "array1 = np.array(list1)\n",
        "```\n",
        "Note that arrays in NumPy have a couple of restrictions regarding what can go in them.\n",
        "For our purposes, arrays should only contain numbers.\n",
        "There are ways to put strings, or other non-numerical items into arrays, but that's beyond the scope of this course.\n",
        "\n",
        "In the code block below, define your own set of lists and arrays using your own values."
      ],
      "metadata": {
        "id": "I2oAOBbmRrSu"
      }
    },
    {
      "cell_type": "code",
      "source": [
        "list1 = [7, 4, 2, 19]\n",
        "list2 = [12, 6, 34, 8]\n",
        "\n",
        "array1 = np.array([1, 2, 3, 4, 5])\n",
        "array2 = np.array([4, 5, 6, 7, 8])"
      ],
      "metadata": {
        "id": "MFz_2Lb23UX-"
      },
      "execution_count": 2,
      "outputs": []
    },
    {
      "cell_type": "markdown",
      "source": [
        "### 2.1.2 Mathematical Manipulation of Arrays\n",
        "To illustrate the difference, let's go back to lists. In the previous module, you were asked to do mathematical operations on two lists. If you wanted to add the entries of two lists together, your code would probably look something like this:\n",
        "```\n",
        "list3 = len(list1)*[0] # first line\n",
        "\n",
        "for i in range(len(list1)): # second line\n",
        "    list3[i] = list1[i] + list2[i] # third line\n",
        "```\n",
        "This took three lines of code, not including where we initialize list1 and list2.\n",
        "\n",
        "Now, here's how you can accomplish the same thing with NumPy:\n",
        "```\n",
        "array3 = array1 + array2\n",
        "```\n",
        "Only one line of code!\n",
        "We won't show it here, but it takes a computer much less time to do this type of operation with arrays instead of lists, especially as the number of entries in your array grows larger and larger.\n",
        "[(Apparently NumPy starts being faster around n=8)](https://stackoverflow.com/a/18713494)\n",
        "\n",
        "What else can we do?\n",
        "Anything you can do to two numbers in Python, you can do to two lists with NumPy.\n",
        "```\n",
        "array1 + array2 # addition\n",
        "array1 * array2 # multiplication\n",
        "array1 - array2 # subtraction\n",
        "array1 / array2 # division\n",
        "array1**array2 # exponentiation\n",
        "```\n",
        "The catch is that if you're doing element-wise operations, both arrays must be the same length.\n",
        "Sometimes we want to do something to all the numbers in a single array.\n",
        "In this case, we can do operations with an array and a number (int or float). For example,\n",
        "```\n",
        "array1 + 2 # add 2 to all numbers\n",
        "array1 / 2 # divide all numbers by 2\n",
        "```\n",
        "In these cases, the rules for the order of operations are the same as for normal mathematical operations."
      ],
      "metadata": {
        "id": "3E52sqvq0155"
      }
    },
    {
      "cell_type": "markdown",
      "source": [
        "### Problem: 3D Function\n",
        "\n",
        "Mathematical functions commonly depend on two or more variables. Let's say we have a function $z=f(x,y)$ which we want to evaluate at different $(x,y)$ locations. Let's say we have the function:\n",
        "\n",
        "$$ z = f(x,y) = \\frac{xy^2}{3} + 2. $$\n",
        "\n",
        "Suppose we want to evaluate the function at the four (x, y) data points:\n",
        "*   (0, 0)\n",
        "*   (1, 2)\n",
        "*   (2, 5)\n",
        "*   (3, 9)\n",
        "\n",
        "In the cell below, write code that solves for z using the function at the four points.\n",
        "Define two arrays, one for $x$ and one for $y$.\n",
        "To check to see if your code is accurate, use one or two of the points to find the value of z either with a calculator or with pencil and paper."
      ],
      "metadata": {
        "id": "pkzu3Brz3aOm"
      }
    },
    {
      "cell_type": "code",
      "source": [
        "def z(x, y):\n",
        "    return ((x * y**2) / 3) + 2\n",
        "\n",
        "x = [0, 1, 2, 3]\n",
        "y = [0, 2, 5, 9]\n",
        "answers = [0, 0, 0, 0]\n",
        "\n",
        "for i in range(len(x)):\n",
        "    answers[i] = (z(x[i], y[i]))\n",
        "\n",
        "for i in range(len(x)):\n",
        "    print(f'For data point ({x[i]}, {y[i]}), z={answers[i]}')"
      ],
      "metadata": {
        "id": "8yzy4wjG0zrL",
        "colab": {
          "base_uri": "https://localhost:8080/"
        },
        "outputId": "5799fad0-e65c-4e1e-a2d0-f7a5b6c575f1"
      },
      "execution_count": 3,
      "outputs": [
        {
          "output_type": "stream",
          "name": "stdout",
          "text": [
            "For data point (0, 0), z=2.0\n",
            "For data point (1, 2), z=3.333333333333333\n",
            "For data point (2, 5), z=18.666666666666668\n",
            "For data point (3, 9), z=83.0\n"
          ]
        }
      ]
    },
    {
      "cell_type": "markdown",
      "source": [
        "### 2.1.3 Special NumPy Functions\n",
        "\n",
        "There are many special mathematical functions that you'll probably often use.\n",
        "We can divide these into different categories.\n",
        "\n",
        "First, there are functions that exist in Python already, like $\\sin(x)$, $\\log(x)$, or $\\exp(x)$.\n",
        "However, the native Python functions only work on single numbers (i.e. floats or ints), so we need a version that works for multidimensional objects.\n",
        "Here are some examples provided by NumPy:\n",
        "```\n",
        "np.sin(x) # sin of each element in x\n",
        "np.log10(x) # log base 10 of each element in x\n",
        "np.exp(x) # e^x for each element in x\n",
        "```\n",
        "\n",
        "Then, there are some functions that only have meaning when we're dealing with collections of numbers.\n",
        "Some of these should be familiar from statistics, like the average, median, or range.\n",
        "Others include things like the product or sum of all elements,\n",
        "the difference between successive elements, or the maximum and minimum values of an array (and their indices).\n",
        "Here are some examples:\n",
        "```\n",
        "np.mean(x) # mean of x\n",
        "np.std(x) # standard deviation of x\n",
        "np.sum(x) # sum of array elements or along an axis\n",
        "np.diff(x) # difference between consecutive elements along an axis\n",
        "np.amin(x) # min value of array or along a given axis\n",
        "np.argmax(x) # indices of max values of array or along a given axis\n",
        "```\n",
        "\n",
        "One nice thing about using these functions is that they typically take \"array-like\" arguments.\n",
        "In other words, you can give these functions a list and they'll convert the list to an array for you! These are also much faster than their Python analogs since they're optimized for arrays.\n",
        "\n",
        "You can find details and additional functions that could be useful to you [here](https://numpy.org/doc/stable/reference/routines.math.html)."
      ],
      "metadata": {
        "id": "0hAAs_GNvxnn"
      }
    },
    {
      "cell_type": "markdown",
      "source": [
        "### 2.1.4 Concatenate Arrays\n",
        "\n",
        "You can also combine separate arrays into a single array using the concatenate function. Consider the two arrays containing the semimajor axes of the inner and outer planets in the Solar System:\n",
        "```python\n",
        "a_inner = np.array([5.76e10, 1.082e11, 1.496e11, 2.280e11])\n",
        "a_outer = np.array([7.785e11, 1.432e12, 2.867e12, 4.515e12])\n",
        "```\n",
        "We can combine both arrays into a single array using the concatenate command. Notice that we need two sets of parenthesis!\n",
        "```python\n",
        "a_all = np.concatenate((a_inner, a_outer))\n",
        "print(a_all)\n",
        "```\n",
        "Try yourself in the following code cell."
      ],
      "metadata": {
        "id": "Y-9NFyKzuBnb"
      }
    },
    {
      "cell_type": "code",
      "source": [
        "a_inner = np.array([5.76e10, 1.082e11, 1.496e11, 2.280e11])\n",
        "a_outer = np.array([7.785e11, 1.432e12, 2.867e12, 4.515e12])\n",
        "\n",
        "a_all = np.concatenate((a_inner, a_outer))\n",
        "print(a_all)"
      ],
      "metadata": {
        "id": "F6b2IqVhuxpa",
        "colab": {
          "base_uri": "https://localhost:8080/"
        },
        "outputId": "2eec5962-00ea-46fb-ee47-1502d226201a"
      },
      "execution_count": 4,
      "outputs": [
        {
          "output_type": "stream",
          "name": "stdout",
          "text": [
            "[5.760e+10 1.082e+11 1.496e+11 2.280e+11 7.785e+11 1.432e+12 2.867e+12\n",
            " 4.515e+12]\n"
          ]
        }
      ]
    },
    {
      "cell_type": "markdown",
      "source": [
        "## 2.2 Multidimensional Arrays\n",
        "\n",
        "Useful data can rarely be described in a single dimension. To describe the motion of a point particle, we need seven numbers: position ($x$, $y$, and $z$) and velocities ($v_x$, $v_y$, and $v_z$) as well as time ($t$).\n",
        "Stars have numerous properties, such as mass, radius, composition, position in the sky, distance, etc.\n",
        "In these cases, it would be unwieldy to have many separate lists of numbers. Luckily for us, the NumPy array datatype is actually called an ndarray, where n stands for N and d stands for dimensions.\n",
        "In other words, our arrays can have any dimensionality we require!\n",
        "For now, let's restrict ourselves to two dimensions, which will be sufficient for most of our use cases.\n",
        "You might have three dimensions (for example, making a 2D animation or running a simulation of particles) and more rarely four or more, but luckily everything we are about see works the same for arrays with higher dimensions.\n",
        "\n",
        "### 2.2.1 Creating Multidimensional Arrays + .shape\n",
        "\n",
        "When you initialize 2D arrays, you should give a list of rows.\n",
        "```\n",
        "A = np.array([[1, 2, 3],\n",
        "              [4, 5, 6]])\n",
        "```\n",
        "In this example, the array has 6 elements, arranged in two rows and three columns. The first row is [1, 2, 3] and the first column is [1, 4]. We could instead arrange these six elements in a host of different ways. For example:\n",
        "```\n",
        "B = np.array([[1, 2], # three rows and two columns\n",
        "              [3, 4],\n",
        "              [5, 6]])\n",
        "C = np.array([[1, 2, 3, 4, 5, 6]]) # one row and six columns\n",
        "D = np.array([[1], # six rows and one column\n",
        "              [2],\n",
        "              [3],\n",
        "              [4],\n",
        "              [5],\n",
        "              [6]])\n",
        "```\n",
        "That's four different ways to arrange six numbers! For larger collections of numbers, there can be even more combinations. We may need to check the shape our arrays, which can can do with the shape parameter:\n",
        "```\n",
        "A.shape # (2, 3)\n",
        "```\n",
        "The shape parameter outputs (# of rows, # of columns) for 2D arrays.\n",
        "\n",
        "In the cell below, create some 2D arrays and make sure they have the shape you expect by printing the shape parameter."
      ],
      "metadata": {
        "id": "rnMGSMLlrghE"
      }
    },
    {
      "cell_type": "code",
      "source": [
        "array1 = np.array([[1, 2, 3],\n",
        "                  [4, 5, 6]])\n",
        "\n",
        "array1.shape\n",
        "\n",
        "array2 = np.array([[1, 2],\n",
        "                   [3, 4],\n",
        "                   [5, 6]])\n",
        "\n",
        "array2.shape"
      ],
      "metadata": {
        "id": "APv5e6DM4-7c",
        "colab": {
          "base_uri": "https://localhost:8080/"
        },
        "outputId": "a7dbc790-dd74-428b-b34b-c7aadb6484dd"
      },
      "execution_count": 5,
      "outputs": [
        {
          "output_type": "execute_result",
          "data": {
            "text/plain": [
              "(3, 2)"
            ]
          },
          "metadata": {},
          "execution_count": 5
        }
      ]
    },
    {
      "cell_type": "markdown",
      "source": [
        "It's common for data to be given to us. For example, maybe I can give you three lists of planetary mass, radii, and distances (units in SI, first four planets only). We can combine them like this:\n",
        "```\n",
        "masses = [3.3e23, 4.9e24, 6.0e24, 6.4e23] # kg\n",
        "radii = [2439, 6052, 6378, 3398] # m\n",
        "periods = [5.7e10, 1.1e11, 1.5e11, 2.3e11] # m\n",
        "\n",
        "planets = np.array([masses, radii, periods])\n",
        "```\n",
        "Thus each column describes a planet, and each property is a row.\n",
        "If you want to make it the other way around, you can do so by taking the transpose of the array.\n",
        "```\n",
        "planets_T = planets.transpose()\n",
        "```\n",
        "Try this yourself below.\n",
        "Also, compare the shapes and entries of planets and planets_T to make sure everything looks right."
      ],
      "metadata": {
        "id": "CnGM8IsBYs8t"
      }
    },
    {
      "cell_type": "code",
      "source": [
        "masses = [3.3e23, 4.9e24, 6.0e24, 6.4e23] # kg\n",
        "radii = [2439, 6052, 6378, 3398] # m\n",
        "periods = [5.7e10, 1.1e11, 1.5e11, 2.3e11] # m\n",
        "\n",
        "planets = np.array([masses, radii, periods])\n",
        "print(planets, planets.shape)\n",
        "\n",
        "planets_T = planets.transpose()\n",
        "print(planets_T, planets_T.shape)"
      ],
      "metadata": {
        "id": "-twFB-nmZJ1Y",
        "colab": {
          "base_uri": "https://localhost:8080/"
        },
        "outputId": "d0ea8707-7f58-4ec2-ffd9-db829fc9e959"
      },
      "execution_count": 6,
      "outputs": [
        {
          "output_type": "stream",
          "name": "stdout",
          "text": [
            "[[3.300e+23 4.900e+24 6.000e+24 6.400e+23]\n",
            " [2.439e+03 6.052e+03 6.378e+03 3.398e+03]\n",
            " [5.700e+10 1.100e+11 1.500e+11 2.300e+11]] (3, 4)\n",
            "[[3.300e+23 2.439e+03 5.700e+10]\n",
            " [4.900e+24 6.052e+03 1.100e+11]\n",
            " [6.000e+24 6.378e+03 1.500e+11]\n",
            " [6.400e+23 3.398e+03 2.300e+11]] (4, 3)\n"
          ]
        }
      ]
    },
    {
      "cell_type": "markdown",
      "source": [
        "### 2.2.2 np.zeros() and np.ones()\n",
        "\n",
        "It's extremely unwieldy to make 2D arrays.\n",
        "Just as we are able to make lists with placeholders very quickly, there are some functions that make simple arrays for you very easily.\n",
        "The two most common are np.zeros() and np.ones().\n",
        "The first gives you an array with all zeros and the second an array with all ones.\n",
        "Both functions take the same arguments.\n",
        "As an example, let's consider np.zeros().\n",
        "The main argument is the shape of the array you want.\n",
        "\n",
        "For example,\n",
        "```\n",
        "np.zeros(5) # this returns an array of length 5\n",
        "\n",
        "np.zeros((2, 6)) # this returns an array with 2 rows and 6 columns\n",
        "```\n",
        "Try yourself in the code cell."
      ],
      "metadata": {
        "id": "ayVxVgPd4_Q7"
      }
    },
    {
      "cell_type": "code",
      "source": [
        "np.zeros(5)\n",
        "np.zeros((2, 6))"
      ],
      "metadata": {
        "id": "m8z2-VHjgaSQ",
        "colab": {
          "base_uri": "https://localhost:8080/"
        },
        "outputId": "0d9fc83b-0031-4015-cc2f-7aa411a61c48"
      },
      "execution_count": 7,
      "outputs": [
        {
          "output_type": "execute_result",
          "data": {
            "text/plain": [
              "array([[0., 0., 0., 0., 0., 0.],\n",
              "       [0., 0., 0., 0., 0., 0.]])"
            ]
          },
          "metadata": {},
          "execution_count": 7
        }
      ]
    },
    {
      "cell_type": "markdown",
      "source": [
        "### 2.2.3 np.arange and np.linspace()\n",
        "\n",
        "The np.arange function is exactly the same as range() from before, but it returns an array. Technically, the other main difference is that we can use non-integer step sizes. However, in those cases, it's better to use the next function.\n",
        "\n",
        "np.linspace is a little different. This lets us make an array with equally spaced numbers by specifying the start, end, and number of points. This is extremely useful in a variety of applications, especially plotting. Note that, given the nature of these functions, we can only make 1D arrays in this manner.\n",
        "\n",
        "```\n",
        "# 50 (default) linearly-spaced numbers from 0 to 10\n",
        "np.linspace(0, 10)\n",
        "\n",
        "# With 3 arguments, this generates 200 numbers should generated\n",
        "np.linspace(0, 10, 200)\n",
        "\n",
        "# This is helpful, for example, if you wanted to plot the sin( ) function\n",
        "x = np.linspace(0, 2*np.pi, 100)\n",
        "```\n",
        "It is possible to reshape arrays.\n",
        "In the cell below, compare the output from these two lines of code.\n",
        "```\n",
        "print(np.arange(12))\n",
        "print(np.arange(12).reshape(4, 3))\n",
        "```"
      ],
      "metadata": {
        "id": "ndIhvYsUgaxS"
      }
    },
    {
      "cell_type": "code",
      "source": [
        "print(np.arange(12))\n",
        "print(np.arange(12).reshape(4, 3))"
      ],
      "metadata": {
        "id": "8GTNCxEVj_7B",
        "colab": {
          "base_uri": "https://localhost:8080/"
        },
        "outputId": "39ec38d1-341f-4bff-e0bc-91a36f34b5b3"
      },
      "execution_count": 8,
      "outputs": [
        {
          "output_type": "stream",
          "name": "stdout",
          "text": [
            "[ 0  1  2  3  4  5  6  7  8  9 10 11]\n",
            "[[ 0  1  2]\n",
            " [ 3  4  5]\n",
            " [ 6  7  8]\n",
            " [ 9 10 11]]\n"
          ]
        }
      ]
    },
    {
      "cell_type": "markdown",
      "source": [
        "### 2.2.4 np.loadtxt()\n",
        "\n",
        "We can also import a data file into an array.\n",
        "All you need to do is supply a filename. In this case,  we will load the file named 'example.txt'\n",
        "```\n",
        "data = np.loadtxt('example.txt')\n",
        "```\n",
        "After you load the data, do the following:\n",
        "1. Get the shape of the array\n",
        "2. Sum all the elements of the array\n",
        "3. The the max values of each row (axis=0) and each column (axis=1)\n",
        "4. Finally, sum each row and column individually. Your answer might surprise you."
      ],
      "metadata": {
        "id": "LsDT2aqQkAUa"
      }
    },
    {
      "cell_type": "code",
      "source": [
        "# Running in Google Colab? Run this cell to download the file\n",
        "!wget https://raw.githubusercontent.com/CIERA-Northwestern/REACHpy/main/Module_2/data/example.txt\n",
        "\n",
        "# If you're not running in Colab, this file should be in the data directory.\n",
        "# Change the loading path of the file to include 'data/' when the file is loaded"
      ],
      "metadata": {
        "id": "i7M1XTlXH2_Y",
        "colab": {
          "base_uri": "https://localhost:8080/"
        },
        "outputId": "41475706-1646-485f-af06-41c839f33a40"
      },
      "execution_count": 9,
      "outputs": [
        {
          "output_type": "stream",
          "name": "stdout",
          "text": [
            "--2025-06-02 17:44:05--  https://raw.githubusercontent.com/CIERA-Northwestern/REACHpy/main/Module_2/data/example.txt\n",
            "Resolving raw.githubusercontent.com (raw.githubusercontent.com)... 185.199.108.133, 185.199.109.133, 185.199.110.133, ...\n",
            "Connecting to raw.githubusercontent.com (raw.githubusercontent.com)|185.199.108.133|:443... connected.\n",
            "HTTP request sent, awaiting response... 200 OK\n",
            "Length: 189 [text/plain]\n",
            "Saving to: ‘example.txt’\n",
            "\n",
            "example.txt         100%[===================>]     189  --.-KB/s    in 0s      \n",
            "\n",
            "2025-06-02 17:44:05 (2.75 MB/s) - ‘example.txt’ saved [189/189]\n",
            "\n"
          ]
        }
      ]
    },
    {
      "cell_type": "code",
      "source": [
        "data = np.loadtxt('example.txt')"
      ],
      "metadata": {
        "id": "rcRzFCmxlQV-"
      },
      "execution_count": 10,
      "outputs": []
    },
    {
      "cell_type": "markdown",
      "source": [
        "In the above example, the file assumed the columns are separated by whitespace, which loadtxt assumes by default.\n",
        "This isn't always the case.\n",
        "For example, some files may instead separate values by commas. In the case of comma-separated values (CSV) file format, you would need to pass a delimiter option:\n",
        "```\n",
        "data = np.loadtxt('example.txt', delimiter=',')\n",
        "```\n",
        "We will not be doing an example here, but we may see it in future Challenge Problems."
      ],
      "metadata": {
        "id": "Bfx8ex9dlQhn"
      }
    },
    {
      "cell_type": "markdown",
      "source": [
        "### 2.2.5 np.meshgrid()\n",
        "\n",
        "In the lists section, we discussed a way of evaluating a function on a *grid* of points by using nested for loops. We can accomplish something similar without needing to use loops with the function `np.meshgrid`. The example from that section was\n",
        "```\n",
        "xs = [0,1,3,5,6]\n",
        "ys = [1,3,6,7,10]\n",
        "\n",
        "zs = len(xs)*[0]\n",
        "for i in range(len(xs)):\n",
        "    zs[i] = len(ys)*[0]\n",
        "\n",
        "for i, x in enumerate(xs):\n",
        "    for j, y in enumerate(ys):\n",
        "        zs[i][j] = x*x + y\n",
        "\n",
        "print(zs)\n",
        "```\n",
        "Here's one way we could do this in numpy:\n",
        "\n",
        "```\n",
        "xs = np.array([0, 1, 3, 5, 6])\n",
        "ys = np.array([1, 3, 6, 7, 10])\n",
        "\n",
        "xx, yy = np.meshgrid(xs, ys)\n",
        "zz = xx*xx + yy\n",
        "```\n",
        "Run the NumPy example below and print out xx and yy to see what's going on. Essentially, the function takes your x and y values and clones the x values along each row and the y values along each column so you work with 2D arrays."
      ],
      "metadata": {
        "id": "m8zG05ZsIxUB"
      }
    },
    {
      "cell_type": "code",
      "source": [
        "xs = np.array([0, 1, 3, 5, 6])\n",
        "ys = np.array([1, 3, 6, 7, 10])\n",
        "\n",
        "xx, yy = np.meshgrid(xs, ys)\n",
        "zz = xx*xx + yy\n",
        "\n",
        "print(xx)\n",
        "print()\n",
        "print(yy)\n",
        "print()\n",
        "print(zz)"
      ],
      "metadata": {
        "id": "ja7Rkx3LC4CD",
        "colab": {
          "base_uri": "https://localhost:8080/"
        },
        "outputId": "905e8e6a-f3b4-4b01-9584-4645c00163c0"
      },
      "execution_count": 11,
      "outputs": [
        {
          "output_type": "stream",
          "name": "stdout",
          "text": [
            "[[0 1 3 5 6]\n",
            " [0 1 3 5 6]\n",
            " [0 1 3 5 6]\n",
            " [0 1 3 5 6]\n",
            " [0 1 3 5 6]]\n",
            "\n",
            "[[ 1  1  1  1  1]\n",
            " [ 3  3  3  3  3]\n",
            " [ 6  6  6  6  6]\n",
            " [ 7  7  7  7  7]\n",
            " [10 10 10 10 10]]\n",
            "\n",
            "[[ 1  2 10 26 37]\n",
            " [ 3  4 12 28 39]\n",
            " [ 6  7 15 31 42]\n",
            " [ 7  8 16 32 43]\n",
            " [10 11 19 35 46]]\n"
          ]
        }
      ]
    },
    {
      "cell_type": "markdown",
      "source": [
        "## 2.3 Indexing and Slicing in NumPy\n",
        "\n",
        "### 2.3.1 Commonalities with Lists\n",
        "\n",
        "Luckily for us, accessing the data in 1D arrays is essentially the same as working with normal lists! Just to review with some examples,\n",
        "```\n",
        "my_array = np.arange(8)\n",
        "\n",
        "my_array[3] # this gets the 4th element of my_array\n",
        "my_array[-5:] # this gets the last 5 elements of my_array\n",
        "my_array[1:6:2] # this gets every other element of my_array, starting with the 2nd and stopping by the 7th\n",
        "```\n",
        "Try yourself in the code cell."
      ],
      "metadata": {
        "id": "aLRNHiQ1IvSd"
      }
    },
    {
      "cell_type": "code",
      "source": [
        "my_array = np.arange(8)\n",
        "\n",
        "print(my_array[3])\n",
        "print(my_array[-5:])\n",
        "print(my_array[1:6:2])"
      ],
      "metadata": {
        "id": "V78nMcIGrNk8",
        "colab": {
          "base_uri": "https://localhost:8080/"
        },
        "outputId": "fb0d45f0-dd7b-450d-ad26-c0eb9f1eb9a9"
      },
      "execution_count": 12,
      "outputs": [
        {
          "output_type": "stream",
          "name": "stdout",
          "text": [
            "3\n",
            "[3 4 5 6 7]\n",
            "[1 3 5]\n"
          ]
        }
      ]
    },
    {
      "cell_type": "markdown",
      "source": [
        "### 2.3.2 Working with 2D Arrays\n",
        "\n",
        "Now that we have multiple dimensions, we can access the arrays along multiple dimensions.\n",
        "In order to specify multiple axes, we can separate them with commas:\n",
        "```\n",
        "my_array = np.arange(48).reshape(6, 8)\n",
        "\n",
        "my_array[2, 3] # accesses the element in the 3rd row, 4th column\n",
        "```\n",
        "The various rules for slicing also apply here.\n",
        "```\n",
        "my_array[1:-1,::2] # get all but the first and last row, every other column\n",
        "```\n",
        "What if we only want to get certain rows? Since a 2D array is basically an array of arrays, we can access rows by pretending we're working with a 1D array.\n",
        "```\n",
        "my_array[4] # access the 5th row\n",
        "my_array[2:5] # access rows 3 through 6\n",
        "```\n",
        "What about columns? If we want to access part or all of a column in every row, use a colon before the comma:\n",
        "```\n",
        "my_array[:, 4] # access the 5th col\n",
        "my_array[:, 2:5] # access cols 3 through 6\n",
        "```\n",
        "Try to work through these examples in your head before you try to run them in the cell below."
      ],
      "metadata": {
        "id": "1L4RdtHsrOCU"
      }
    },
    {
      "cell_type": "code",
      "source": [
        "my_array = np.arange(48).reshape(6, 8)\n",
        "print(my_array)\n",
        "print()\n",
        "\n",
        "#my_array[2, 3]\n",
        "#my_array[1:-1, ::2]\n",
        "\n",
        "my_array[:, 2:5]"
      ],
      "metadata": {
        "id": "BJmZy3cytxPQ",
        "colab": {
          "base_uri": "https://localhost:8080/"
        },
        "outputId": "62bbc3b0-2844-4ce8-866b-e2c8760728c3"
      },
      "execution_count": 13,
      "outputs": [
        {
          "output_type": "stream",
          "name": "stdout",
          "text": [
            "[[ 0  1  2  3  4  5  6  7]\n",
            " [ 8  9 10 11 12 13 14 15]\n",
            " [16 17 18 19 20 21 22 23]\n",
            " [24 25 26 27 28 29 30 31]\n",
            " [32 33 34 35 36 37 38 39]\n",
            " [40 41 42 43 44 45 46 47]]\n",
            "\n"
          ]
        },
        {
          "output_type": "execute_result",
          "data": {
            "text/plain": [
              "array([[ 2,  3,  4],\n",
              "       [10, 11, 12],\n",
              "       [18, 19, 20],\n",
              "       [26, 27, 28],\n",
              "       [34, 35, 36],\n",
              "       [42, 43, 44]])"
            ]
          },
          "metadata": {},
          "execution_count": 13
        }
      ]
    },
    {
      "cell_type": "markdown",
      "source": [
        "### 2.3.3 Accessing Specific Indices\n",
        "\n",
        "NumPy can access multiple indices and values at once. For example,\n",
        "```\n",
        "my_array = np.arange(8)\n",
        "\n",
        "my_array[[0, 2, 3, 6]] # this gets the elements at all the specified positions\n",
        "```\n",
        "\n",
        "Try the example in the code cell."
      ],
      "metadata": {
        "id": "n252YVGJtxZ9"
      }
    },
    {
      "cell_type": "code",
      "source": [
        "my_array = np.arange(8)\n",
        "print(my_array)\n",
        "\n",
        "my_array[[0, 2, 3, 6]]"
      ],
      "metadata": {
        "id": "9tsZa9V_t1t6",
        "colab": {
          "base_uri": "https://localhost:8080/"
        },
        "outputId": "38e8b080-570c-4780-9888-9a20a8ce4e11"
      },
      "execution_count": 14,
      "outputs": [
        {
          "output_type": "stream",
          "name": "stdout",
          "text": [
            "[0 1 2 3 4 5 6 7]\n"
          ]
        },
        {
          "output_type": "execute_result",
          "data": {
            "text/plain": [
              "array([0, 2, 3, 6])"
            ]
          },
          "metadata": {},
          "execution_count": 14
        }
      ]
    },
    {
      "cell_type": "markdown",
      "source": [
        "### 2.3.4 Boolean Indexing\n",
        "\n",
        "The word Boolean means we're dealing with conditional logic (True or False).\n",
        "\n",
        "Instead of accessing data based on the index, we can do it based on the nature of the data itself! For example, in the following list, suppose we want only the even numbers.\n",
        "```\n",
        "a = np.arange(12)\n",
        "\n",
        "a[a%2 == 0]\n",
        "```\n",
        "Here, the == means 'is equal to', as opposed to =, which is just assignment. Here's a list of the different comparison operators you'll probably use:\n",
        "```\n",
        "== # equal to\n",
        "!= # not equal to\n",
        "<= # less than or equal to\n",
        "<  # less than\n",
        ">= # greater than or equal to\n",
        ">  # greater than\n",
        "```\n",
        "In addition, we can chain logical statements together with these operators:\n",
        "```\n",
        "& # logical and\n",
        "| # logical or\n",
        "~ # logical not\n",
        "```\n",
        "Here's an example. Note that we need to enclose different logical statements in parentheses.\n",
        "```\n",
        "a[(a%2 == 0) & (a > 7)] # return elements even and greater than 7\n",
        "a[(a%2 == 0) & ((a > 7) | (a < 3))] # return elements even and greater than 7 or less than 3\n",
        "a[~(a%2 == 0) & ((a > 7) | (a < 3))] # return elements NOT even (ie odd) and greater than 7 or less than 3\n",
        "```\n",
        "Try to predict the output of each of these lines before running the code below."
      ],
      "metadata": {
        "id": "C4LS3gnit11P"
      }
    },
    {
      "cell_type": "code",
      "source": [
        "a = np.arange(12)\n",
        "print(a)\n",
        "\n",
        "#a[a%2 == 0]\n",
        "#a[(a%2 == 0) & (a > 7)]\n",
        "#a[(a%2 == 0) & ((a > 7) | (a < 3))]\n",
        "a[~(a%2 == 0) & ((a > 7) | (a < 3))]"
      ],
      "metadata": {
        "id": "JtNtjudvt8aj",
        "colab": {
          "base_uri": "https://localhost:8080/"
        },
        "outputId": "5cf65eb1-6909-47a7-ee3d-39956965120e"
      },
      "execution_count": 15,
      "outputs": [
        {
          "output_type": "stream",
          "name": "stdout",
          "text": [
            "[ 0  1  2  3  4  5  6  7  8  9 10 11]\n"
          ]
        },
        {
          "output_type": "execute_result",
          "data": {
            "text/plain": [
              "array([ 1,  9, 11])"
            ]
          },
          "metadata": {},
          "execution_count": 15
        }
      ]
    },
    {
      "cell_type": "markdown",
      "source": [
        "### 2.3.5 Boolean Indexing in 2D\n",
        "\n",
        "For two dimensions, we need to specify the row or column.\n",
        "\n",
        "First, consider selecting rows based on different column values:\n",
        "```\n",
        "b = np.arange(48).reshape(6,8)\n",
        "b[b[:,4] > 20] # get all rows where column 5 is greater than 20\n",
        "b[(b[:,4] > 20) | (b[:,2] < 30)] # get all rows where column 5 is greater than 20 or column 3 is less than 30\n",
        "```\n",
        "Next, consider selecting columns based on different row values:\n",
        "```\n",
        "b[:,b[0,:] > 3] # get all columns where first row value is greater than 3\n",
        "b[:,(b[0,:] > 3) & b[0,:]%2 == 1] # get all columns where first row value is greater than 3 and odd\n",
        "```\n",
        "Try to predict the output of each of these lines before running the code below."
      ],
      "metadata": {
        "id": "ENgOKPhE5uL2"
      }
    },
    {
      "cell_type": "code",
      "source": [
        "b = np.arange(48).reshape(6, 8)\n",
        "print(b)\n",
        "print()\n",
        "\n",
        "#b[b[:, 4] > 20]\n",
        "#b[(b[:, 4] > 20) | (b[:, 2] < 30)]\n",
        "#b[:, b[0,:] > 3]\n",
        "b[:, (b[0, :] > 3) & b[0, :]%2 == 1]"
      ],
      "metadata": {
        "id": "vuZg80xh-ARb",
        "colab": {
          "base_uri": "https://localhost:8080/"
        },
        "outputId": "fc6174e3-c670-4af5-d378-27781dc9adab"
      },
      "execution_count": 16,
      "outputs": [
        {
          "output_type": "stream",
          "name": "stdout",
          "text": [
            "[[ 0  1  2  3  4  5  6  7]\n",
            " [ 8  9 10 11 12 13 14 15]\n",
            " [16 17 18 19 20 21 22 23]\n",
            " [24 25 26 27 28 29 30 31]\n",
            " [32 33 34 35 36 37 38 39]\n",
            " [40 41 42 43 44 45 46 47]]\n",
            "\n"
          ]
        },
        {
          "output_type": "execute_result",
          "data": {
            "text/plain": [
              "array([[ 5,  7],\n",
              "       [13, 15],\n",
              "       [21, 23],\n",
              "       [29, 31],\n",
              "       [37, 39],\n",
              "       [45, 47]])"
            ]
          },
          "metadata": {},
          "execution_count": 16
        }
      ]
    },
    {
      "cell_type": "markdown",
      "source": [
        "### 2.3.6 np.where()\n",
        "\n",
        "Boolean indexing is extremely useful, but sometimes we want to work with data in the same column(s) differently based on some condition. This is where the function `np.where` comes in handy. The syntax for `np.where` is\n",
        "```\n",
        "np.where(condition,if true do this, else do this)\n",
        "```\n",
        "This is simply an if-else statement.\n",
        "An example of this is as follows:\n",
        "```\n",
        "# Create masses of black holes\n",
        "m1 = np.random.uniform(5, 50, size=10)\n",
        "m2 = np.random.uniform(5, 50, size=10)\n",
        "\n",
        "# Define mass ratio to always be less than 1\n",
        "q = np.where(m2 < m1, m2/m1, m1/m2)\n",
        "print(q)\n",
        "```\n",
        "In the above example, the first two lines create masses of objects in a binary star system to be between 5 and 50 (in some unit system).\n",
        "Typically, in binary star system, the mass ratio is defined such that we divide the smaller mass by the larger mass.\n",
        "We could do this with a for loop and an if-else statement.\n",
        "This way is more compact and faster!\n",
        "\n",
        "There is a second use case for `np.where`.\n",
        "If you leave off the second and third arguments of the function, then the function will return a list. The first element of this list contains the indices where the condition is true.\n",
        "For example, the following code will return all the indices where the number is negative.\n",
        "```\n",
        "a = np.random.uniform(-1, 1, size=10)\n",
        "b = np.where(a < 0)[0]\n",
        "print(b)\n",
        "```\n"
      ],
      "metadata": {
        "id": "b-_VU0nTCo-h"
      }
    },
    {
      "cell_type": "code",
      "source": [
        "m1 = np.random.uniform(5, 50, size=10)\n",
        "m2 = np.random.uniform(5, 50, size=10)\n",
        "\n",
        "print(m1)\n",
        "print()\n",
        "print(m2)\n",
        "print()\n",
        "\n",
        "#define mass ratio to always be less than 1\n",
        "q = np.where(m2<m1, m2/m1, m1/m2)\n",
        "print(q)"
      ],
      "metadata": {
        "id": "TIS-kXE7CoFC",
        "colab": {
          "base_uri": "https://localhost:8080/"
        },
        "outputId": "d96e10df-7431-47e6-ce7c-77bdb4a17d1f"
      },
      "execution_count": 17,
      "outputs": [
        {
          "output_type": "stream",
          "name": "stdout",
          "text": [
            "[44.66261145 47.26238243 19.05222639 28.81805818 25.2325127  37.33398264\n",
            " 18.59330584 16.70721202 36.63343577 44.53810247]\n",
            "\n",
            "[ 5.09945277 31.12815774 16.27452038 24.49525788 27.29807624 33.00615982\n",
            " 42.61922456 27.42750349 19.17151747 17.5819384 ]\n",
            "\n",
            "[0.11417722 0.65862439 0.8542057  0.84999682 0.924333   0.88407819\n",
            " 0.4362657  0.60914082 0.52333386 0.39476173]\n"
          ]
        }
      ]
    },
    {
      "cell_type": "code",
      "source": [
        "a = np.random.uniform(-1, 1, size=10)\n",
        "print(a)\n",
        "b = np.where(a < 0)[0]\n",
        "print(b)"
      ],
      "metadata": {
        "colab": {
          "base_uri": "https://localhost:8080/"
        },
        "id": "Jt8UWzO8Hph-",
        "outputId": "f44eb475-f4a6-4bbd-a771-0732edf5c73b"
      },
      "execution_count": 18,
      "outputs": [
        {
          "output_type": "stream",
          "name": "stdout",
          "text": [
            "[ 0.21051993  0.71990054 -0.36463385 -0.16106607 -0.5804942   0.67891591\n",
            "  0.54567213 -0.32600691  0.32056207  0.67412116]\n",
            "[2 3 4 7]\n"
          ]
        }
      ]
    },
    {
      "cell_type": "markdown",
      "source": [
        "## 2.4 Practice Problem\n",
        "\n",
        "Use np.loadtxt to open the file named 'binaries.txt'. Characterize it. In particular,\n",
        "\n",
        "1. How many rows does it have?\n",
        "2. How many columns does it have?\n",
        "3. What kinds of values do each column contain? That is, how big or small are the numbers in each column? What's the smallest/largest number? The median? The average? If you notice anything else interesting, write that down too.\n",
        "\n",
        "Answer:\n",
        "1. the file has 200 rows and 6 columns\n"
      ],
      "metadata": {
        "id": "mXZXUcint8lv"
      }
    },
    {
      "cell_type": "code",
      "source": [
        "# Running in Google Colab? Run this cell to download the file\n",
        "!wget https://raw.githubusercontent.com/CIERA-Northwestern/REACHpy/main/Module_2/data/binaries.txt\n",
        "\n",
        "# If you're not running in Colab, this file should be in the data directory.\n",
        "# Change the loading path of the file to include 'data/' when the file is loaded"
      ],
      "metadata": {
        "id": "qrJ8tafHIz6-",
        "colab": {
          "base_uri": "https://localhost:8080/"
        },
        "outputId": "a3c21b1a-9ec0-409d-a36c-6538ac88d609"
      },
      "execution_count": 19,
      "outputs": [
        {
          "output_type": "stream",
          "name": "stdout",
          "text": [
            "--2025-06-02 17:44:06--  https://raw.githubusercontent.com/CIERA-Northwestern/REACHpy/main/Module_2/data/binaries.txt\n",
            "Resolving raw.githubusercontent.com (raw.githubusercontent.com)... 185.199.111.133, 185.199.110.133, 185.199.108.133, ...\n",
            "Connecting to raw.githubusercontent.com (raw.githubusercontent.com)|185.199.111.133|:443... connected.\n",
            "HTTP request sent, awaiting response... 200 OK\n",
            "Length: 30000 (29K) [text/plain]\n",
            "Saving to: ‘binaries.txt’\n",
            "\n",
            "binaries.txt        100%[===================>]  29.30K  --.-KB/s    in 0.003s  \n",
            "\n",
            "2025-06-02 17:44:06 (9.44 MB/s) - ‘binaries.txt’ saved [30000/30000]\n",
            "\n"
          ]
        }
      ]
    },
    {
      "cell_type": "code",
      "source": [
        "data = np.loadtxt('binaries.txt')\n",
        "print(data)\n",
        "print(data.shape)\n",
        "print()\n",
        "\n",
        "# the file has 200 rows and 6 columns\n",
        "\n",
        "for i in range(data.shape[1]):\n",
        "    print(f'The max value in column {i} is {np.max(data[:, i])}')\n",
        "    print(f'The min value in column {i} is {np.min(data[:, i])}')\n",
        "    print(f'The median value in column {i} is {np.median(data[:, i])}')\n",
        "    print(f'The average value in column {i} is {np.average(data[:, i])}')\n",
        "    print()"
      ],
      "metadata": {
        "id": "T_Dvm8a40RLy",
        "colab": {
          "base_uri": "https://localhost:8080/"
        },
        "outputId": "e7713ca5-7b53-46f9-9ed2-2ce86ec3d793"
      },
      "execution_count": 20,
      "outputs": [
        {
          "output_type": "stream",
          "name": "stdout",
          "text": [
            "[[1.00000000e+00 1.00000000e+00 8.81212551e-01 7.76804862e-01\n",
            "  6.28615959e+04 2.06867218e-02]\n",
            " [1.00000000e+00 1.00000000e+00 1.77039360e+00 1.34342425e+00\n",
            "  1.47145158e+04 4.70694691e-01]\n",
            " [1.00000000e+00 0.00000000e+00 9.92801200e-01 5.66901650e-01\n",
            "  2.50524376e+04 8.24416117e-01]\n",
            " ...\n",
            " [1.00000000e+00 1.00000000e+00 3.46500488e+00 8.50591883e-01\n",
            "  7.04027404e+04 5.51253701e-01]\n",
            " [1.00000000e+00 1.00000000e+00 1.21141564e+00 1.10036871e+00\n",
            "  4.16808849e+06 7.62588117e-01]\n",
            " [1.00000000e+00 1.00000000e+00 3.18885496e+00 2.48999519e+00\n",
            "  7.33612769e+04 5.33781888e-01]]\n",
            "(200, 6)\n",
            "\n",
            "The max value in column 0 is 1.0\n",
            "The min value in column 0 is 0.0\n",
            "The median value in column 0 is 1.0\n",
            "The average value in column 0 is 0.92\n",
            "\n",
            "The max value in column 1 is 1.0\n",
            "The min value in column 1 is 0.0\n",
            "The median value in column 1 is 1.0\n",
            "The average value in column 1 is 0.71\n",
            "\n",
            "The max value in column 2 is 63.97121983076745\n",
            "The min value in column 2 is 0.5211138827114205\n",
            "The median value in column 2 is 2.011815465280975\n",
            "The average value in column 2 is 4.358941377137873\n",
            "\n",
            "The max value in column 3 is 35.97795541345767\n",
            "The min value in column 3 is 0.503068107966992\n",
            "The median value in column 3 is 0.9540186649497882\n",
            "The average value in column 3 is 2.159276756778197\n",
            "\n",
            "The max value in column 4 is 67915281.32414712\n",
            "The min value in column 4 is 1.801811702332768\n",
            "The median value in column 4 is 5348.549675919522\n",
            "The average value in column 4 is 1290817.759224778\n",
            "\n",
            "The max value in column 5 is 0.9293536062124865\n",
            "The min value in column 5 is 0.0019850130035782634\n",
            "The median value in column 5 is 0.5298643483839818\n",
            "The average value in column 5 is 0.49109972258356294\n",
            "\n"
          ]
        }
      ]
    },
    {
      "cell_type": "markdown",
      "source": [
        "Now that you've done that, I should tell you what you're looking at. I used a program called [COSMIC](https://cosmic-popsynth.github.io/docs/stable/index.html) to create a list of binary star systems based on the properties of observed systems. To be clear, the data here is completely synthetic. Each row represents a different binary star system. The columns are as follows\n",
        "\n",
        "1) The k-type of star 1\n",
        "\n",
        "2) The k-type of star 2\n",
        "\n",
        "3) The mass of star 1 in units of solar mass\n",
        "\n",
        "4) The mass of star 2 in units of solar mass\n",
        "\n",
        "5) The orbital period in days.\n",
        "\n",
        "6) The orbital eccentricity which ranges between 0 and 1.\n",
        "\n",
        "The k-type is related to the evolutionary state of the star. Here, all of the k-types are either 0 or 1, both of which correspond to main-sequence stars.\n",
        "\n",
        "Now, here are your next tasks:\n",
        "\n",
        "1. How many binaries have stars where at least one is above 1 solar mass? 5 solar masses? 10?\n",
        "2. How many stars in this sample have masses above 1, 5 and 10 solar masses?\n",
        "3. How many binaries have orbital periods shorter than a month? A year? What are the shortest and longest orbital periods?\n",
        "4. As stated before, the k-type for all these stars are either 0 or 1. A main-sequence star will have k-type 0 below a certain mass and k-type 1 above that mass. See if you can find a range of values where the cutoff mass might be. State your answer in solar masses.\n",
        "5. Using Kepler's Third Law, make another array that corresponds to the semimajor axis of each binary system. Make sure you explicitly state what units you're using (ie meters, kilometers, AU). Once again, Keplers Third Law is\n",
        "\n",
        "$$T = 2\\pi \\sqrt{\\frac{a^3}{G(M_1 + M_2)}}$$"
      ],
      "metadata": {
        "id": "KTndNlqg0b1r"
      }
    },
    {
      "cell_type": "code",
      "source": [
        "#mass and period calculations\n",
        "\n",
        "def mass_1(M):\n",
        "    count = 0\n",
        "    for row in data:\n",
        "        if row[2] > M:\n",
        "            count += 1\n",
        "        elif row[3] > M:\n",
        "            count += 1\n",
        "    return count\n",
        "\n",
        "print(f'The number of binaries with at least one star above 1 solar mass is: {mass_1(1)}')\n",
        "print(f'The number of binaries with at least one star above 5 solar mass is: {mass_1(5)}')\n",
        "print(f'The number of binaries with at least one star above 10 solar mass is: {mass_1(10)}')\n",
        "print()\n",
        "\n",
        "def mass_2(M):\n",
        "    count = 0\n",
        "    for row in data:\n",
        "        if row[2] > M:\n",
        "            count += 1\n",
        "        if row[3] > M:\n",
        "            count += 1\n",
        "    return count\n",
        "\n",
        "print(f'The number of stars above 1 solar mass is: {mass_2(1)}')\n",
        "print(f'The number of stars above 5 solar mass is: {mass_2(5)}')\n",
        "print(f'The number of stars above 10 solar mass is: {mass_2(10)}')\n",
        "print()\n",
        "\n",
        "#where time is in units of days\n",
        "def period_1(time):\n",
        "    count = 0\n",
        "    for row in data:\n",
        "        if row[4] < time:\n",
        "            count += 1\n",
        "    return count\n",
        "\n",
        "print(f'The number of binaries with orbital periods less than a month is: {period_1(31)}') #assuming 1 month = 31 days\n",
        "print(f'The number of binaries with orbital periods less than a year is: {period_1(365)}') #assuming 1 year = 365 days\n",
        "print(f'The shortest orbital period is: {np.min(data[:, 4])} days')\n",
        "print(f'The longest orbital period is: {np.max(data[:, 4])} days')"
      ],
      "metadata": {
        "id": "ZsqxFhPZtbqo",
        "colab": {
          "base_uri": "https://localhost:8080/"
        },
        "outputId": "6d72624d-b829-49f7-e187-8b217bbab2e9"
      },
      "execution_count": 33,
      "outputs": [
        {
          "output_type": "stream",
          "name": "stdout",
          "text": [
            "The number of binaries with at least one star above 1 solar mass is: 148\n",
            "The number of binaries with at least one star above 5 solar mass is: 42\n",
            "The number of binaries with at least one star above 10 solar mass is: 18\n",
            "\n",
            "The number of stars above 1 solar mass is: 240\n",
            "The number of stars above 5 solar mass is: 62\n",
            "The number of stars above 10 solar mass is: 25\n",
            "\n",
            "The number of binaries with orbital periods less than a month is: 33\n",
            "The number of binaries with orbital periods less than a year is: 57\n",
            "The shortest orbital period is: 1.801811702332768 days\n",
            "The longest orbital period is: 67915281.32414712 days\n"
          ]
        }
      ]
    },
    {
      "cell_type": "code",
      "source": [
        "#k type\n",
        "\n",
        "masses_k0 = []\n",
        "masses_k1 = []\n",
        "\n",
        "for row in data:\n",
        "    if row[0] == 0:\n",
        "        masses_k0.append(row[2])\n",
        "    elif row[0] == 1:\n",
        "        masses_k1.append(row[2])\n",
        "    if row[1] == 0:\n",
        "        masses_k0.append(row[3])\n",
        "    elif row[1] == 1:\n",
        "        masses_k1.append(row[3])\n",
        "\n",
        "#print(masses_k0)\n",
        "#print(np.max(masses_k0))\n",
        "#print()\n",
        "#print(masses_k1)\n",
        "#print(np.min(masses_k1))\n",
        "#print()\n",
        "\n",
        "print(f'The range of cut of values is {np.max(masses_k0)} - {np.min(masses_k1)}')"
      ],
      "metadata": {
        "colab": {
          "base_uri": "https://localhost:8080/"
        },
        "id": "tE89kZfRyIco",
        "outputId": "4ec9b9fd-157f-46dc-c9d4-80fde02f9012"
      },
      "execution_count": 48,
      "outputs": [
        {
          "output_type": "stream",
          "name": "stdout",
          "text": [
            "The range of cut of values is 0.6987089484923723 - 0.7004746614537776\n"
          ]
        }
      ]
    },
    {
      "cell_type": "code",
      "source": [
        "#kepler's 3rd law\n",
        "\n",
        "G = 6.6743e-11\n",
        "sm_axis = []\n",
        "\n",
        "def kepler3(period, m1, m2):\n",
        "    #period in days\n",
        "    #masses in kg\n",
        "    #semimajor axis in meters\n",
        "    sm_axis.append(((period**2 * G * (m1 + m2)) / (2 * np.pi)**2)**(1/3))\n",
        "\n",
        "for row in data:\n",
        "    kepler3(row[4], (row[2] * 2e30), (row[3] * 2e30))\n",
        "\n",
        "print(sm_axis)"
      ],
      "metadata": {
        "colab": {
          "base_uri": "https://localhost:8080/"
        },
        "id": "bhQP1KnO2qSZ",
        "outputId": "342878cc-5898-4712-e7d6-3fe84f301724"
      },
      "execution_count": 55,
      "outputs": [
        {
          "output_type": "stream",
          "name": "stdout",
          "text": [
            "[np.float64(2808527140.0621166), np.float64(1316094412.34478), np.float64(1490296250.136552), np.float64(1478803343.34794), np.float64(228944933.20329505), np.float64(1030755676.6907907), np.float64(53088429.855599955), np.float64(300093297.493493), np.float64(669279745.3917493), np.float64(11717960911.822996), np.float64(14176819348.02289), np.float64(5602286920.607237), np.float64(163197962.03903395), np.float64(228664795.28959942), np.float64(6843900838.029072), np.float64(1315541471.4807084), np.float64(5365615585.472836), np.float64(1989185012.8687332), np.float64(19396648.26946027), np.float64(187682482.79899877), np.float64(9383383284.927357), np.float64(289743095.3479885), np.float64(5977886315.2369375), np.float64(190976923.14961272), np.float64(765654668.8631036), np.float64(2891892.6107231025), np.float64(9196663268.710562), np.float64(678525572.7156595), np.float64(10267166326.060072), np.float64(8656807.810869657), np.float64(8035230.860858594), np.float64(32326692532.210117), np.float64(35457500.91443348), np.float64(185991705.47436076), np.float64(34252154.56055839), np.float64(60567185162.072556), np.float64(18830400.1537059), np.float64(39212336667.755325), np.float64(310043353.982943), np.float64(857458489.7259815), np.float64(146893620.71673882), np.float64(270802088.5524427), np.float64(76629341.37112412), np.float64(16929258297.772757), np.float64(6735172.888782789), np.float64(73821689113.76646), np.float64(562221976.0459125), np.float64(823982659.8575857), np.float64(57735617.611348026), np.float64(170652342.68534374), np.float64(16374718.6400678), np.float64(680582117.1178058), np.float64(10391114.670391783), np.float64(93496868352.44498), np.float64(7152370925.191186), np.float64(16627686.235259619), np.float64(669092768.855454), np.float64(57814260637.5119), np.float64(13456406022.363642), np.float64(333719045230.73566), np.float64(31596587416.51095), np.float64(53383685.33953931), np.float64(4560515.595266952), np.float64(11655923580.665737), np.float64(13032146138.58664), np.float64(468038785.2125904), np.float64(369733002.0974912), np.float64(922673179.6052685), np.float64(2577494221.4032493), np.float64(2444744681.265567), np.float64(55212281.276225656), np.float64(174698316.24604508), np.float64(1458188352.7861233), np.float64(106375302347.17688), np.float64(12848356.83971806), np.float64(1319029276.1571662), np.float64(152239060.90565896), np.float64(10958233320.792118), np.float64(128095071860.45793), np.float64(24868905353.500046), np.float64(1377574747.546818), np.float64(38242864923.596535), np.float64(160844415.32115856), np.float64(16252391.36950456), np.float64(141207071.37695092), np.float64(57110203.40690597), np.float64(19367786.23783391), np.float64(327047742265.96826), np.float64(362211358.5304943), np.float64(10331699329.513155), np.float64(13630456.722813884), np.float64(51847453024.66168), np.float64(276721790.2517709), np.float64(85266751.09363696), np.float64(13150305534.819054), np.float64(95182753.8708344), np.float64(356264281.3311049), np.float64(9988563032.20701), np.float64(1021260865.3327498), np.float64(3192814609.290555), np.float64(15583132731.02517), np.float64(18811315120.57024), np.float64(14425327484.555601), np.float64(8699847.358022215), np.float64(403675890.41468453), np.float64(2057270247.6466866), np.float64(108799559380.08519), np.float64(129231260.06589821), np.float64(44137121.58496684), np.float64(1384526688.5405009), np.float64(2127062296.459318), np.float64(478501999.1172851), np.float64(6970213.427851235), np.float64(11198662292.472967), np.float64(5608224621.6409025), np.float64(105427176505.99503), np.float64(1329394211.8402195), np.float64(8315794.412606073), np.float64(264779125.03538406), np.float64(22143211558.65565), np.float64(37882974.01418258), np.float64(15694370.46482659), np.float64(55672386245.72263), np.float64(4154687.121469727), np.float64(247866853.49354163), np.float64(15060756.725254133), np.float64(49728565.61882647), np.float64(1066203672.6835369), np.float64(632934244.7879854), np.float64(9846140.958677627), np.float64(3988493.894708765), np.float64(2359813506.108757), np.float64(9081591339.843336), np.float64(32541970.459609494), np.float64(28181480.467930403), np.float64(3623264087.4750433), np.float64(137295104.14750603), np.float64(845747621.6543955), np.float64(28932022664.732273), np.float64(6165969428.470083), np.float64(7594314.169481074), np.float64(1191263235.944563), np.float64(1927133026.9319847), np.float64(126891889.20598671), np.float64(390700984.01807344), np.float64(494856464.8683001), np.float64(23273278466.594486), np.float64(113053567.23289445), np.float64(10129548280.467154), np.float64(9330391.941079685), np.float64(645174176.4259434), np.float64(5079153055.752361), np.float64(791807974.9500769), np.float64(13781787850.935175), np.float64(65795975.754712574), np.float64(231821392.752965), np.float64(240571873.47077942), np.float64(2300427706.3267574), np.float64(66857685.25438486), np.float64(197356732.46230385), np.float64(1016294359.613568), np.float64(1138314723.4664423), np.float64(4693420702.887469), np.float64(6104032.806043028), np.float64(28213253.56293459), np.float64(3615900864.244082), np.float64(19856714872.88915), np.float64(6500268628.389921), np.float64(1342724749.8014307), np.float64(20082861.658840913), np.float64(8711632.403185599), np.float64(26270339408.00178), np.float64(1255354844.3136735), np.float64(63081767.19248576), np.float64(130508646.86689219), np.float64(97555530.0667636), np.float64(50207945.3261557), np.float64(63630521.68020945), np.float64(1590881718.4566455), np.float64(35248972.10833175), np.float64(12882866.799875073), np.float64(12876748.403701833), np.float64(5415953.462302458), np.float64(10145050144.036816), np.float64(13441742746.003008), np.float64(527904935.23195946), np.float64(1039963763.223095), np.float64(2177422221.772512), np.float64(515035176.6775246), np.float64(7571442787.300527), np.float64(107787572.63080171), np.float64(65019535.47479599), np.float64(265490798.85552162), np.float64(4901104012.98581), np.float64(1537018107.4334753), np.float64(151123693.23837999), np.float64(45736690374.49914), np.float64(4166441831.865136), np.float64(51400307940.22385), np.float64(4692706417.938354)]\n"
          ]
        }
      ]
    },
    {
      "cell_type": "markdown",
      "source": [],
      "metadata": {
        "id": "oqO-wvoX3kuU"
      }
    }
  ]
}