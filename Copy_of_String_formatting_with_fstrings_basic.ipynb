{
  "nbformat": 4,
  "nbformat_minor": 0,
  "metadata": {
    "colab": {
      "provenance": [],
      "include_colab_link": true
    },
    "kernelspec": {
      "name": "python3",
      "display_name": "Python 3"
    },
    "language_info": {
      "name": "python"
    }
  },
  "cells": [
    {
      "cell_type": "markdown",
      "metadata": {
        "id": "view-in-github",
        "colab_type": "text"
      },
      "source": [
        "<a href=\"https://colab.research.google.com/github/madeline-evenson/Northwestern-CIERA-Python-Intro/blob/main/Copy_of_String_formatting_with_fstrings_basic.ipynb\" target=\"_parent\"><img src=\"https://colab.research.google.com/assets/colab-badge.svg\" alt=\"Open In Colab\"/></a>"
      ]
    },
    {
      "cell_type": "markdown",
      "source": [
        "# Advanced string formatting with f-strings (fast strings)."
      ],
      "metadata": {
        "id": "q6nyvzZdj2Ao"
      }
    },
    {
      "cell_type": "markdown",
      "source": [
        "## Limitations of simple string formatting\n",
        "\n",
        "One of the simplest ways to output information from a script is to use the following:\n",
        "\n",
        "```python\n",
        "print(\"The square root of\", 2, \"is\", 2 ** 0.5)\n",
        "```\n",
        "```text\n",
        "The square root of 2 is 1.4142135623730951\n",
        "```\n",
        "\n",
        "A few things to notice about this simple way of displaying output:\n",
        "- White space is added between every entry separated by a comma.\n",
        "- The mandatory white space could look weird in some cases.\n",
        "- The floats are unnecessarily long.\n",
        "- We are unable to align values in a consistent manner for easy reading.\n",
        "\n",
        "For instance, consider the following example where we list the square root of 5 values.\n",
        "\n",
        "```python\n",
        "for i in [1, 10, 100, 1000, 10000]:\n",
        "    print(\"The square root of\", i, \"is\", i ** 0.5)\n",
        "\n",
        "```\n",
        "\n",
        "```text\n",
        "The square root of 1 is 1.0\n",
        "The square root of 10 is 3.1622776601683795\n",
        "The square root of 100 is 10.0\n",
        "The square root of 1000 is 31.622776601683793\n",
        "The square root of 10000 is 100.0\n",
        "```\n",
        "\n",
        "The output may be a bit easier to compare if it were instead written as:\n",
        "\n",
        "```text\n",
        "The square root of     1 is   1.0\n",
        "The square root of    10 is   3.2\n",
        "The square root of   100 is  10.0\n",
        "The square root of  1000 is  31.6\n",
        "The square root of 10000 is 100.0\n",
        "```\n"
      ],
      "metadata": {
        "id": "B0_IyGMIwo_Q"
      }
    },
    {
      "cell_type": "markdown",
      "source": [
        "# Using f-strings"
      ],
      "metadata": {
        "id": "A_m99YKP2h8Q"
      }
    },
    {
      "cell_type": "markdown",
      "source": [
        "To use an f-string, you place an `f` infront of your string, and you place your variable within curly brackets (`{}`). Here is a simple example."
      ],
      "metadata": {
        "id": "-AxKSOC15lQQ"
      }
    },
    {
      "cell_type": "markdown",
      "source": [
        "\n",
        "\n",
        "```python\n",
        "variable = 2\n",
        "print(f\"My variable has value: {variable}\")\n",
        "```\n",
        "\n",
        "```text\n",
        "My variable has value: 2\n",
        "```"
      ],
      "metadata": {
        "id": "mmYaHfYPj6HI"
      }
    },
    {
      "cell_type": "markdown",
      "source": [
        "Notice this has no extra padding.\n",
        "\n",
        "You can also contain complete calculations inside of `{}`.\n",
        "\n",
        "```python\n",
        "print(f\"The square root of 2 is {2 ** 0.5}.\")\n",
        "```\n",
        "```text\n",
        "The square root of 2 is 1.4142135623730951.\n",
        "```"
      ],
      "metadata": {
        "id": "1sV3WwLw5-lk"
      }
    },
    {
      "cell_type": "markdown",
      "source": [
        "## Specifying data type\n",
        "\n",
        "If you add a colon after your variable or calculation in the curly brackets, you can specify the data type expected. This table lists some examples:\n",
        "\n",
        "| Data type           | Syntas   |\n",
        "| :-----------------   | :------- |\n",
        "| __integer__          | `d`  |\n",
        "| __float__             | `f`  |\n",
        "| __float (scientific notation)__            | `e`  |\n",
        "| __string__        | `s`  |\n",
        "\n",
        "Try the following examples\n",
        "```python\n",
        "# Example using a string\n",
        "print(f\"{'This is a string':s}\")\n",
        "\n",
        "# Example using an integer\n",
        "print(f\"{4:d} is an integer.\")\n",
        "\n",
        "# Example using a float\n",
        "print(f\"{4.:f} is a float.\")\n",
        "```"
      ],
      "metadata": {
        "id": "Gv0k67FJ7T6g"
      }
    },
    {
      "cell_type": "code",
      "source": [
        "# Place your code here\n",
        "# Example using a string\n",
        "print(f\"{'This is a string':s}\")\n",
        "\n",
        "# Example using an integer\n",
        "print(f\"{4:d} is an integer.\")\n",
        "\n",
        "# Example using a float\n",
        "print(f\"{4.:f} is a float.\")"
      ],
      "metadata": {
        "id": "ELkFk0EZ6sPc",
        "colab": {
          "base_uri": "https://localhost:8080/"
        },
        "outputId": "5284d906-0c0f-4e1c-e239-5da282db0aa7"
      },
      "execution_count": 1,
      "outputs": [
        {
          "output_type": "stream",
          "name": "stdout",
          "text": [
            "This is a string\n",
            "4 is an integer.\n",
            "4.000000 is a float.\n"
          ]
        }
      ]
    },
    {
      "cell_type": "markdown",
      "source": [
        "## Adjusting text length\n",
        "\n",
        "After specifying the data type, we can adjust the padding around the output by adding a number immediately after the colon in the `{}`.\n",
        "\n",
        "A common use case is aligning digits in your output.\n",
        "\n",
        "For example, if you are looping over a sequence of one and two digit numbers but want to keep the ones digits aligned, you can add a `2` after the colon:\n",
        "\n",
        "```python\n",
        "for i in range(5, 12):\n",
        "    print(f\"{i:2d}\")\n",
        "```"
      ],
      "metadata": {
        "id": "LB7Tn1qT6_mg"
      }
    },
    {
      "cell_type": "code",
      "source": [
        "# Run the code to see the output.\n",
        "for i in range(5, 12):\n",
        "    print(f\"{i:2d}\")"
      ],
      "metadata": {
        "id": "_zaC3rm-w60o",
        "colab": {
          "base_uri": "https://localhost:8080/"
        },
        "outputId": "06be3fe6-58b3-4929-b110-93c46efd564a"
      },
      "execution_count": 2,
      "outputs": [
        {
          "output_type": "stream",
          "name": "stdout",
          "text": [
            " 5\n",
            " 6\n",
            " 7\n",
            " 8\n",
            " 9\n",
            "10\n",
            "11\n"
          ]
        }
      ]
    },
    {
      "cell_type": "markdown",
      "source": [
        "Strings work similarly. Run the code below including a string variable and see what happens.\n",
        "\n",
        "Also note what happens when the number passed is less than the string length.\n",
        "\n",
        "```python\n",
        "planet_name = 'Mercury'\n",
        "print(f\"{planet_name:6s} is a planet.\")\n",
        "print(f\"{planet_name:7s} is a planet.\")\n",
        "print(f\"{planet_name:8s} is a planet.\")\n",
        "```"
      ],
      "metadata": {
        "id": "hcjWFR212ERA"
      }
    },
    {
      "cell_type": "code",
      "source": [
        "# Run the code to see the output\n",
        "planet_name = 'Mercury'\n",
        "print(f\"{planet_name:6s} is a planet.\")\n",
        "print(f\"{planet_name:7s} is a planet.\")\n",
        "print(f\"{planet_name:8s} is a planet.\")"
      ],
      "metadata": {
        "id": "z7Zwe6ORvY8k",
        "colab": {
          "base_uri": "https://localhost:8080/"
        },
        "outputId": "253900a8-abac-47e5-b916-1184237274f9"
      },
      "execution_count": 3,
      "outputs": [
        {
          "output_type": "stream",
          "name": "stdout",
          "text": [
            "Mercury is a planet.\n",
            "Mercury is a planet.\n",
            "Mercury  is a planet.\n"
          ]
        }
      ]
    },
    {
      "cell_type": "markdown",
      "source": [
        "## Text justification\n",
        "\n",
        "Left and right text justification can be chosen using `<` and `>` after the colon. It's easy to think of them as arrows pointing to the way the text will be justified.\n",
        "\n",
        "Try the two previous examples using `<` and `>` to see how the formatting changes.\n",
        "\n",
        "```python\n",
        "for i in range(5, 12):\n",
        "    print(f\"{i:<2d}\")\n",
        "for i in range(5, 12):\n",
        "    print(f\"{i:>2d}\")\n",
        "```"
      ],
      "metadata": {
        "id": "1br8Omkt28AM"
      }
    },
    {
      "cell_type": "code",
      "source": [
        "# Try the integer example using text justification.\n",
        "for i in range(5, 12):\n",
        "    print(f\"{i:<2d}\")\n",
        "for i in range(5, 12):\n",
        "    print(f\"{i:>2d}\")"
      ],
      "metadata": {
        "id": "vvm8WcJE3wyU",
        "colab": {
          "base_uri": "https://localhost:8080/"
        },
        "outputId": "4bc3fb11-25b3-418d-ae44-be6bc1f7ab87"
      },
      "execution_count": 4,
      "outputs": [
        {
          "output_type": "stream",
          "name": "stdout",
          "text": [
            "5 \n",
            "6 \n",
            "7 \n",
            "8 \n",
            "9 \n",
            "10\n",
            "11\n",
            " 5\n",
            " 6\n",
            " 7\n",
            " 8\n",
            " 9\n",
            "10\n",
            "11\n"
          ]
        }
      ]
    },
    {
      "cell_type": "markdown",
      "source": [
        "Try the following example of using text justification with a string.\n",
        "\n",
        "```python\n",
        "planet_name = 'Mercury'\n",
        "print(f\"{planet_name:<8s} is a planet.\")\n",
        "print(f\"{planet_name:>8s} is a planet.\")\n",
        "```"
      ],
      "metadata": {
        "id": "krOhG6I131QQ"
      }
    },
    {
      "cell_type": "code",
      "source": [
        "# Try the string example using text justification\n",
        "planet_name = 'Mercury'\n",
        "print(f\"{planet_name:<8s} is a planet.\")\n",
        "print(f\"{planet_name:>8s} is a planet.\")"
      ],
      "metadata": {
        "id": "u7AJcHAk4D4M",
        "colab": {
          "base_uri": "https://localhost:8080/"
        },
        "outputId": "69c67334-348f-4f3f-9c98-e3fe838dd56f"
      },
      "execution_count": 5,
      "outputs": [
        {
          "output_type": "stream",
          "name": "stdout",
          "text": [
            "Mercury  is a planet.\n",
            " Mercury is a planet.\n"
          ]
        }
      ]
    },
    {
      "cell_type": "markdown",
      "source": [
        "## Specifying numerical precision with floats\n",
        "\n",
        "Text justification, and length can also be specified for floats; however, often times we want to specify the precision displayed for floats.\n",
        "\n",
        "Recall the earlier example:\n",
        "\n",
        "```python\n",
        "print(f\"The square root of 2 is {2 ** 0.5}.\")\n",
        "```\n",
        "```text\n",
        "The square root of 2 is 1.4142135623730951.\n",
        "```\n",
        "\n",
        "It is unlikely 16 digits after the decimal place are necessary. We can specify the precision after the decimal by placing a decimal followed by a number in the f-string.\n",
        "\n",
        "```python\n",
        "print(f\"The square root of 2 is {2 ** 0.5:.2f}.\")\n",
        "```\n",
        "```text\n",
        "The square root of 2 is 1.41.\n",
        "```\n",
        "Try a few yourself:\n",
        "```python\n",
        "pi = 3.141592653589793115997963468544185161590576171875\n",
        "print(f\"We can specify pi to a few digits: {pi:.3f}.\")\n",
        "print(f\"We can specify pi to many digits: {pi:.30f}.\")\n",
        "```"
      ],
      "metadata": {
        "id": "tHgFeYa4e0Qw"
      }
    },
    {
      "cell_type": "code",
      "source": [
        "pi = 3.141592653589793115997963468544185161590576171875\n",
        "print(f\"We can specify pi to a few digits: {pi:.3f}.\")\n",
        "print(f\"We can specify pi to many digits: {pi:.30f}.\")"
      ],
      "metadata": {
        "id": "TQalVlBLtnpA",
        "colab": {
          "base_uri": "https://localhost:8080/"
        },
        "outputId": "b9586dd0-8651-4709-e11e-252889214612"
      },
      "execution_count": 6,
      "outputs": [
        {
          "output_type": "stream",
          "name": "stdout",
          "text": [
            "We can specify pi to a few digits: 3.142.\n",
            "We can specify pi to many digits: 3.141592653589793115997963468544.\n"
          ]
        }
      ]
    },
    {
      "cell_type": "markdown",
      "source": [
        "### Scientific notation\n",
        "\n",
        "You can also adjust the precision for numbers in scientific notation. Run the following code to see the result.\n",
        "\n",
        "```python\n",
        "M_sun = 1.989e30 # kg\n",
        "print(f\"The mass of the Sun is {M_sun:.1e} kg.\")\n",
        "print(f\"The mass of the Sun is {M_sun:.2e} kg.\")\n",
        "print(f\"The mass of the Sun is {M_sun:.3e} kg.\")\n",
        "print(f\"The mass of the Sun is {M_sun:.4e} kg.\")\n",
        "```"
      ],
      "metadata": {
        "id": "7oHLg12iozM8"
      }
    },
    {
      "cell_type": "code",
      "source": [
        "# Put your code here\n",
        "M_sun = 1.989e30 # kg\n",
        "print(f\"The mass of the Sun is {M_sun:.1e} kg.\")\n",
        "print(f\"The mass of the Sun is {M_sun:.2e} kg.\")\n",
        "print(f\"The mass of the Sun is {M_sun:.3e} kg.\")\n",
        "print(f\"The mass of the Sun is {M_sun:.4e} kg.\")"
      ],
      "metadata": {
        "id": "hxsw6ZhvqKzM",
        "colab": {
          "base_uri": "https://localhost:8080/"
        },
        "outputId": "1b60bbfb-9f4c-4932-ffe1-e1a200ef4e5b"
      },
      "execution_count": 7,
      "outputs": [
        {
          "output_type": "stream",
          "name": "stdout",
          "text": [
            "The mass of the Sun is 2.0e+30 kg.\n",
            "The mass of the Sun is 1.99e+30 kg.\n",
            "The mass of the Sun is 1.989e+30 kg.\n",
            "The mass of the Sun is 1.9890e+30 kg.\n"
          ]
        }
      ]
    },
    {
      "cell_type": "markdown",
      "source": [
        "## Problem 1\n",
        "\n",
        "Recall our problematic example:\n",
        "```python\n",
        "for i in [1, 10, 100, 1000, 10000]:\n",
        "    print(\"The square root of\", i, \"is\", i ** 0.5)\n",
        "```\n",
        "\n",
        "Use f-strings so you end-up with the following output:\n",
        "```text\n",
        "The square root of     1 is   1.0\n",
        "The square root of    10 is   3.2\n",
        "The square root of   100 is  10.0\n",
        "The square root of  1000 is  31.6\n",
        "The square root of 10000 is 100.0\n",
        "```"
      ],
      "metadata": {
        "id": "9jPhD_hIhMEY"
      }
    },
    {
      "cell_type": "code",
      "source": [
        "# Place your code here\n",
        "for i in [1, 10, 100, 1000, 10000]:\n",
        "    print(f\"The square root of {i:5.0f} is {i**0.5:5.1f}\")"
      ],
      "metadata": {
        "id": "2n4z4truh1YI",
        "colab": {
          "base_uri": "https://localhost:8080/"
        },
        "outputId": "aee65dd5-8470-4021-fa93-6334ea270552"
      },
      "execution_count": 8,
      "outputs": [
        {
          "output_type": "stream",
          "name": "stdout",
          "text": [
            "The square root of     1 is   1.0\n",
            "The square root of    10 is   3.2\n",
            "The square root of   100 is  10.0\n",
            "The square root of  1000 is  31.6\n",
            "The square root of 10000 is 100.0\n"
          ]
        }
      ]
    },
    {
      "cell_type": "markdown",
      "source": [
        "## Problem 2\n",
        "\n",
        "We can use details of the Julian moons to calculate the mass of Jupiter using the following equation:\n",
        "\n",
        "\\begin{equation}\n",
        "M = \\frac{4 \\pi^2}{G \\, P^2} a^3,\n",
        "\\end{equation}\n",
        "\n",
        "where G is Newton's gravitational constant, P is the orbital period, and a is the semimajor axis.\n",
        "\n",
        "\n",
        "1. Calculate the mass of Jupiter using each moon.\n",
        "3. Then use a for loop to write the output of your calculation similar to the following (but with real information in the place of the `#` symbols).\n",
        "\n",
        "```text\n",
        "Jupiter's mass based on moon ##       (moon 1) is #.##e+## kg.\n",
        "Jupiter's mass based on moon ######   (moon 2) is #.##e+## kg.\n",
        "Jupiter's mass based on moon ######## (moon 3) is #.##e+## kg.\n",
        "Jupiter's mass based on moon ######## (moon 4) is #.##e+## kg.\n",
        "```\n",
        "The following should help get you started.\n",
        "\n",
        "```python\n",
        "# Define fundamental units and constants\n",
        "G = 6.6743e-11 # m^3 / kg / s^2\n",
        "pi = 3.141592653589793115997963468544185161590576171875\n",
        "\n",
        "#\n",
        "# Define p in SI units\n",
        "#\n",
        "p_moon = [1.523e5, # Io\n",
        "          3.046e5, # Europa\n",
        "          6.182e5, # Ganymede\n",
        "          1.442e6] # Callisto\n",
        "\n",
        "#\n",
        "# Define a in SI units\n",
        "#\n",
        "a_moon = [4.218e8, # Io\n",
        "          6.711e8, # Europa\n",
        "          1.070e9, # Ganymede\n",
        "          1.883e9] # Callisto\n",
        "\n",
        "#\n",
        "# Define names for reference\n",
        "#\n",
        "name_moon = ['Io', 'Europa', 'Ganymede', 'Callisto']\n",
        "```"
      ],
      "metadata": {
        "id": "RPUjbT4Bh3D8"
      }
    },
    {
      "cell_type": "code",
      "source": [
        "# Define fundamental units and constants\n",
        "G = 6.6743e-11 # m^3 / kg / s^2\n",
        "pi = 3.141592653589793115997963468544185161590576171875\n",
        "\n",
        "#\n",
        "# Define p in SI units\n",
        "#\n",
        "p_moon = [1.523e5, # Io\n",
        "          3.046e5, # Europa\n",
        "          6.182e5, # Ganymede\n",
        "          1.442e6] # Callisto\n",
        "\n",
        "#\n",
        "# Define a in SI units\n",
        "#\n",
        "a_moon = [4.218e8, # Io\n",
        "          6.711e8, # Europa\n",
        "          1.070e9, # Ganymede\n",
        "          1.883e9] # Callisto\n",
        "\n",
        "#\n",
        "# Define names for reference\n",
        "#\n",
        "name_moon = ['Io', 'Europa', 'Ganymede', 'Callisto']\n",
        "\n",
        "def mass(a, P):\n",
        "    return (4 * pi**2 * a**3) / (G * P**2)\n",
        "\n",
        "for i, moon in enumerate(name_moon):\n",
        "    print(f\"Jupiter's mass based on moon {moon:9} (moon {i+1}) is {mass(a_moon[i], p_moon[i]):.2e} kg.\")"
      ],
      "metadata": {
        "colab": {
          "base_uri": "https://localhost:8080/"
        },
        "id": "v58Tt5OK2ntQ",
        "outputId": "1c3877de-0f5a-4a84-cf45-7690516237fb"
      },
      "execution_count": 48,
      "outputs": [
        {
          "output_type": "stream",
          "name": "stdout",
          "text": [
            "Jupiter's mass based on moon Io        (moon 1) is 1.91e+27 kg.\n",
            "Jupiter's mass based on moon Europa    (moon 2) is 1.93e+27 kg.\n",
            "Jupiter's mass based on moon Ganymede  (moon 3) is 1.90e+27 kg.\n",
            "Jupiter's mass based on moon Callisto  (moon 4) is 1.90e+27 kg.\n"
          ]
        }
      ]
    }
  ]
}