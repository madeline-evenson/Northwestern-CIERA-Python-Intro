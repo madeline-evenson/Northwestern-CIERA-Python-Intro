{
  "cells": [
    {
      "cell_type": "markdown",
      "metadata": {
        "id": "view-in-github",
        "colab_type": "text"
      },
      "source": [
        "<a href=\"https://colab.research.google.com/github/madeline-evenson/Northwestern-CIERA-Python-Intro/blob/main/Copy_of_Challenge_1_Keplers_Laws_Solar_Mass.ipynb\" target=\"_parent\"><img src=\"https://colab.research.google.com/assets/colab-badge.svg\" alt=\"Open In Colab\"/></a>"
      ]
    },
    {
      "cell_type": "markdown",
      "metadata": {
        "id": "B_G4eNaH7eek"
      },
      "source": [
        "# Challenge 1: Calculating the Mass of The Sun\n",
        "\n",
        "## Section 2.0: Background\n",
        "One of the most important relationships in astronomy is Kepler's laws of planetary motion. These relationships allow us to calculate the masses of astronomical objects. Kepler's third law relates the period, orbital distance, and masses of two objects:\n",
        "\n",
        "\\begin{equation}\n",
        "P^2 = \\frac{4 \\pi^2}{G (m_1 + m_2)} a^3\n",
        "\\end{equation}\n",
        "\n",
        "\n",
        "- $G$ is Newton's constant of gravitation,\n",
        "- $m_1$ and $m_2$ are the masses of the two bodies orbiting eachother,\n",
        "- $P$ is the period of their orbit, and\n",
        "- $a$ is the distance between the two objects.\n",
        "\n",
        "In the case of our Solar System, the mass of the Sun is significantly greater than the mass of any of the planets (i.e. $m_1 + m_2 \\approx m_1$), thus we can reduce the equation to:\n",
        "\n",
        "\\begin{equation}\n",
        "P^2 = \\frac{4 \\pi^2}{G \\, M} a^3,\n",
        "\\end{equation}\n",
        "\n",
        "where $M$ is the mass of the larger object.\n",
        "\n",
        "Since we know the periods and orbital separations for all of the planets, we use can calculate the mass of the object being orbited, i.e. the Sun."
      ]
    },
    {
      "cell_type": "markdown",
      "source": [
        "## Section 2.1.0: Calculating the Mass of the Sun"
      ],
      "metadata": {
        "id": "PejRM2ORfzoQ"
      }
    },
    {
      "cell_type": "markdown",
      "metadata": {
        "id": "DJE2zLO-7eek"
      },
      "source": [
        "First, pick your favorite planet. Look up its:\n",
        " - orbital period,\n",
        " - distance from the Sun (i.e. their \"semi-major axis\"), and\n",
        " - the Newtonian constant of gravitation, $G$.\n",
        "\n",
        "In the next cell, define variables using the values you looked-up. If any values are not already using SI units, perform unit conversions until all values are in SI."
      ]
    },
    {
      "cell_type": "code",
      "execution_count": 2,
      "metadata": {
        "id": "Dm_gg8Ha7eek"
      },
      "outputs": [],
      "source": [
        "# planet chosen: neptune\n",
        "\n",
        "nep_period = 59800*86400 #seconds --> days * sec/day\n",
        "nep_dist = 4515e9 #m\n",
        "G = 6.6743e-11"
      ]
    },
    {
      "cell_type": "markdown",
      "metadata": {
        "id": "bWz4S9vr7eek"
      },
      "source": [
        "Calculate the mass of the Sun."
      ]
    },
    {
      "cell_type": "code",
      "execution_count": 3,
      "metadata": {
        "id": "3cKbYPey7eek",
        "colab": {
          "base_uri": "https://localhost:8080/"
        },
        "outputId": "8515fbe9-a699-4ab1-c001-65a56bfd6c56"
      },
      "outputs": [
        {
          "output_type": "stream",
          "name": "stdout",
          "text": [
            "The mass of the sun bason on Neptune is 2.0393765634340098e+30 kg.\n"
          ]
        }
      ],
      "source": [
        "import math\n",
        "\n",
        "m_sun_nep = (4 * math.pi**2 * nep_dist**3) / (G * nep_period**2)"
      ]
    },
    {
      "cell_type": "markdown",
      "metadata": {
        "id": "s42_TUt87eek"
      },
      "source": [
        "Print out the mass you calculated with units:"
      ]
    },
    {
      "cell_type": "code",
      "execution_count": 6,
      "metadata": {
        "id": "-js5wqxl7eek",
        "colab": {
          "base_uri": "https://localhost:8080/"
        },
        "outputId": "a1363b9b-2b74-4a95-faf3-d212b76dd892"
      },
      "outputs": [
        {
          "output_type": "stream",
          "name": "stdout",
          "text": [
            "The mass of the sun based on Neptune is 2.039e+30 kg.\n"
          ]
        }
      ],
      "source": [
        "print(f\"The mass of the sun based on Neptune is {m_sun_nep:.3e} kg.\")"
      ]
    },
    {
      "cell_type": "markdown",
      "source": [
        "## Section 2.1.1: Choosing Another Planet"
      ],
      "metadata": {
        "id": "wtcnYu9uf7S4"
      }
    },
    {
      "cell_type": "markdown",
      "metadata": {
        "id": "s-3RMU2l7eek"
      },
      "source": [
        "Choose another planet in the Solar System, and repeat the calculation."
      ]
    },
    {
      "cell_type": "code",
      "execution_count": 7,
      "metadata": {
        "id": "uxx0IvPM7eek",
        "colab": {
          "base_uri": "https://localhost:8080/"
        },
        "outputId": "d187691d-15c1-4dbd-8618-5eba33c3a009"
      },
      "outputs": [
        {
          "output_type": "stream",
          "name": "stdout",
          "text": [
            "The mass of the sun based on Mars is 1.990e+30 kg.\n"
          ]
        }
      ],
      "source": [
        "# planet chosen: mars\n",
        "\n",
        "mars_period = 687*86400 #seconds\n",
        "mars_dist = 228e9 #m\n",
        "\n",
        "m_sun_mars = (4 * math.pi**2 * mars_dist**3) / (G * mars_period**2)\n",
        "print(f\"The mass of the sun based on Mars is {m_sun_mars:.3e} kg.\")"
      ]
    },
    {
      "cell_type": "markdown",
      "source": [
        "Do you get the same answer?"
      ],
      "metadata": {
        "id": "OikKvt5bfEPc"
      }
    },
    {
      "cell_type": "markdown",
      "source": [
        "No, I did not get the same answer. The values of the sun's mass calculated based on Mars was more accurate than the value calculated based on Neptune. The value calculated based on Neptune was an overestimation of the mass."
      ],
      "metadata": {
        "id": "6z7fh2kgTx1W"
      }
    },
    {
      "cell_type": "markdown",
      "source": [
        "## Section 2.2: Calculating the Mass of Jupiter"
      ],
      "metadata": {
        "id": "5sOLMY5jfr3Y"
      }
    },
    {
      "cell_type": "markdown",
      "metadata": {
        "id": "PyvLQlJk7eek"
      },
      "source": [
        "Kepler's laws are universal, and thus can be measure the mass of any object being orbited by something else.\n",
        "\n",
        "Measuring the mass of Jupiter. Look up the separation and period of one of Jupiter's moons and use Kepler's third law to calculate the mass of Jupiter."
      ]
    },
    {
      "cell_type": "code",
      "execution_count": 8,
      "metadata": {
        "id": "nYd6gf697eek",
        "colab": {
          "base_uri": "https://localhost:8080/"
        },
        "outputId": "b830e773-ec4a-42f7-e468-65f9b8d7d716"
      },
      "outputs": [
        {
          "output_type": "stream",
          "name": "stdout",
          "text": [
            "The mass of Jupiter based on the moon Ganymede is 1.896e+27 kg.\n"
          ]
        }
      ],
      "source": [
        "# moon chosen: ganymede\n",
        "\n",
        "gan_period = 7.155*86400 #seconds\n",
        "gan_dist = 1.07e9 #m\n",
        "\n",
        "m_jupiter = (4 * math.pi**2 * gan_dist**3) / (G * gan_period**2)\n",
        "print(f\"The mass of Jupiter based on the moon Ganymede is {m_jupiter:.3e} kg.\")"
      ]
    },
    {
      "cell_type": "markdown",
      "source": [
        "## Section 2.3 Calculating the Mass of a Supermassive Black Hole"
      ],
      "metadata": {
        "id": "lH60Fc_zgUDQ"
      }
    },
    {
      "cell_type": "markdown",
      "metadata": {
        "id": "ILbfugNp7eek"
      },
      "source": [
        "Orbits of stars in the center of the Milky Way point to the existance of a supermassive black hole.\n",
        "\n",
        "![Galactic center orbits](https://github.com/CIERA-Northwestern/REACHpy/blob/main/Module_1/images/1280px-Galactic_centre_orbits.png?raw=1)\n",
        "\n",
        "How massive is the object that they are orbiting?\n",
        "\n",
        "Look-up the period and distance (i.e. semi-major axis) of the star S2, and calculate the mass of that object. [Here is the Wikipedia page for S2](https://en.wikipedia.org/wiki/S2_(star)).\n",
        "\n",
        "Convert the semi-major axis from arcseconds (\") to radians. There are 3600 arcseconds in a degree and 180 degrees in $\\pi$ radians.\n",
        "\n",
        "We can convert the semi-major axis from radians to parsecs. Multiply the angle between the S2 and the object it orbits (in radians) by the distance to the source from us (in parsecs). This is referred to as the small angle approximation, but we will not cover the details in this Challenge problem. You should then convert from parsecs to SI units.\n",
        "\n",
        "Finally, calculate the mass of object being orbited in SI units."
      ]
    },
    {
      "cell_type": "code",
      "execution_count": 11,
      "metadata": {
        "id": "vV1-Djx47eek",
        "colab": {
          "base_uri": "https://localhost:8080/"
        },
        "outputId": "98f1b181-b3be-41f7-99cb-eacf976072af"
      },
      "outputs": [
        {
          "output_type": "stream",
          "name": "stdout",
          "text": [
            "The mass of the object based on the star S2 is 7.231e+84 kg.\n"
          ]
        }
      ],
      "source": [
        "s2_period = 16.0518 * 3.154e7 #seconds\n",
        "s2_observer_dist = 7940 * 3.086e16 #meters (pc-->m)\n",
        "\n",
        "s2_dist_rad = 0.12540 / 3600 / 180 #asec --> degree --> rad\n",
        "\n",
        "s2_dist_pc = s2_dist_rad * s2_observer_dist\n",
        "s2_dist_m = s2_dist_pc * 3.086e16\n",
        "\n",
        "m_s2 = (4 * math.pi**2 * s2_dist_m**3) / (G * s2_period**2)\n",
        "print(f\"The mass of the object based on the star S2 is {m_s2:.3e} kg.\")"
      ]
    },
    {
      "cell_type": "markdown",
      "metadata": {
        "id": "33sPfsAE7eek"
      },
      "source": [
        "How many Suns does the black hole weigh?"
      ]
    },
    {
      "cell_type": "code",
      "execution_count": 13,
      "metadata": {
        "id": "CExG8Hv37eek",
        "colab": {
          "base_uri": "https://localhost:8080/"
        },
        "outputId": "37007ae4-1e43-49a7-f582-727d15ef2aeb"
      },
      "outputs": [
        {
          "output_type": "stream",
          "name": "stdout",
          "text": [
            "The black hole has the mass of 3.635e+54 suns.\n"
          ]
        }
      ],
      "source": [
        "bh_suns = m_s2 / 1.989e30\n",
        "print(f'The black hole has the mass of {bh_suns:.3e} suns.')"
      ]
    },
    {
      "cell_type": "markdown",
      "metadata": {
        "id": "FtGhw_HU7eek"
      },
      "source": [
        "Astronomers often measure masses in terms of the mass of the Sun, because units of grams or kilograms are not easy to interpret with such large numbers. Display the mass of the object at the center of the Milky Way in units of \"Solar masses.\""
      ]
    },
    {
      "cell_type": "code",
      "execution_count": null,
      "metadata": {
        "id": "Di9nn2f97eek"
      },
      "outputs": [],
      "source": [
        "print(f'The black hole has the mass of {bh_suns:.3e} suns.')"
      ]
    }
  ],
  "metadata": {
    "kernelspec": {
      "display_name": "Python 3",
      "language": "python",
      "name": "python3"
    },
    "language_info": {
      "codemirror_mode": {
        "name": "ipython",
        "version": 3
      },
      "file_extension": ".py",
      "mimetype": "text/x-python",
      "name": "python",
      "nbconvert_exporter": "python",
      "pygments_lexer": "ipython3",
      "version": "3.8.5"
    },
    "colab": {
      "provenance": [],
      "include_colab_link": true
    }
  },
  "nbformat": 4,
  "nbformat_minor": 0
}