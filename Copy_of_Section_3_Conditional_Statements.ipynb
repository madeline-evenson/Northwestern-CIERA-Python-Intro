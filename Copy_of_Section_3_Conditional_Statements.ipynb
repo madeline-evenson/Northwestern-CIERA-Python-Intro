{
  "cells": [
    {
      "cell_type": "markdown",
      "metadata": {
        "id": "view-in-github",
        "colab_type": "text"
      },
      "source": [
        "<a href=\"https://colab.research.google.com/github/madeline-evenson/Northwestern-CIERA-Python-Intro/blob/main/Copy_of_Section_3_Conditional_Statements.ipynb\" target=\"_parent\"><img src=\"https://colab.research.google.com/assets/colab-badge.svg\" alt=\"Open In Colab\"/></a>"
      ]
    },
    {
      "cell_type": "markdown",
      "metadata": {
        "id": "bSyPMc6XjHEs"
      },
      "source": [
        "# 1.3 | Decision making in Coding\n",
        "\n",
        "Up to now, the programs we have seen execute all the lines of the code from beginning to the end. However, we often need to run some lines but not others. Computers can execute only certain parts of a program using an `if` statement.\n",
        "\n",
        "## 1.3.1 Decision Statements\n",
        "\n",
        "The `if` statements ask your computer whether something is `True` of `False` (these being the two \"Boolean operators\"). The basic comparison and logical operators in Python are written as follows:\n",
        "\n",
        "\n",
        "| operation            | syntax   |\n",
        "| :-----------------   | :------- |\n",
        "| __greater__          | `>`  |\n",
        "| __less__             | `<`  |\n",
        "| __equal__            | `==`  |\n",
        "| __not equal__        | `!=`  |\n",
        "| __greater and equal__| `>=`  |\n",
        "| __less and equal__| `<=`  |\n",
        "| __and__              | `and`  |\n",
        "| __or__               | `or`  |\n",
        "\n",
        "\n",
        "Comparison operators perform comparisons such as greater than, less than, not equal to, etc. Logical operators perform `and`, `or`, not (`!`) operators. The logical `or` operator returns True if either of the operands is true. The logical `and` operator, on the other hand, returns True if all of the operands are true.\n",
        "\n",
        "Note that checking for equality in Python uses `==`. Using a single `=` is reserved for assigning variables. We demonstrate the difference below:\n",
        "\n",
        "```python\n",
        "T_sun = 5778.0 # here we assign the temperature of the Sun to 5778.0\n",
        "\n",
        "T_sun == 5778.0 # here we check if the temperature of the Sun is 5778.0\n",
        "\n",
        "```\n",
        "Let's perform some conditional operators below:"
      ]
    },
    {
      "cell_type": "code",
      "execution_count": 1,
      "metadata": {
        "id": "IuIUmOyJjHEs",
        "colab": {
          "base_uri": "https://localhost:8080/"
        },
        "outputId": "4b614e86-acec-4a07-c2e6-14ac863d6ccc"
      },
      "outputs": [
        {
          "output_type": "stream",
          "name": "stdout",
          "text": [
            "5778.0\n"
          ]
        }
      ],
      "source": [
        "T_sun = 5778.0\n",
        "print(T_sun)"
      ]
    },
    {
      "cell_type": "code",
      "execution_count": 2,
      "metadata": {
        "id": "-SVEZta3jHEs",
        "colab": {
          "base_uri": "https://localhost:8080/"
        },
        "outputId": "a77c0a29-255b-4d65-80f0-14333f6c32f8"
      },
      "outputs": [
        {
          "output_type": "stream",
          "name": "stdout",
          "text": [
            "True\n"
          ]
        }
      ],
      "source": [
        "print(T_sun == 5778.0)"
      ]
    },
    {
      "cell_type": "code",
      "execution_count": 3,
      "metadata": {
        "id": "hlXYMcgpjHEs",
        "colab": {
          "base_uri": "https://localhost:8080/"
        },
        "outputId": "370fa187-3b6c-4a1e-ed58-df554501bbbd"
      },
      "outputs": [
        {
          "output_type": "stream",
          "name": "stdout",
          "text": [
            "False\n"
          ]
        }
      ],
      "source": [
        "print(T_sun == 6778.0)"
      ]
    },
    {
      "cell_type": "code",
      "execution_count": 4,
      "metadata": {
        "id": "qvfWjjS4jHEs",
        "colab": {
          "base_uri": "https://localhost:8080/"
        },
        "outputId": "d85b457a-ec68-4be6-d5f9-614012e08d1c"
      },
      "outputs": [
        {
          "output_type": "stream",
          "name": "stdout",
          "text": [
            "True\n"
          ]
        }
      ],
      "source": [
        "print(T_sun != 6778.0)"
      ]
    },
    {
      "cell_type": "code",
      "execution_count": 5,
      "metadata": {
        "id": "n7RcU0XOjHEs",
        "colab": {
          "base_uri": "https://localhost:8080/"
        },
        "outputId": "f4347e55-055b-404a-c4bb-b766277d4684"
      },
      "outputs": [
        {
          "output_type": "stream",
          "name": "stdout",
          "text": [
            "True\n"
          ]
        }
      ],
      "source": [
        "print(T_sun < 6778.0)"
      ]
    },
    {
      "cell_type": "code",
      "execution_count": 6,
      "metadata": {
        "id": "ll-hcAjajHEs",
        "colab": {
          "base_uri": "https://localhost:8080/"
        },
        "outputId": "6af61da0-e7e9-4faa-a697-086c373be0fc"
      },
      "outputs": [
        {
          "output_type": "stream",
          "name": "stdout",
          "text": [
            "True\n"
          ]
        }
      ],
      "source": [
        "print(T_sun >= 5778.0)"
      ]
    },
    {
      "cell_type": "markdown",
      "metadata": {
        "id": "uby10SkpjHEs"
      },
      "source": [
        "Now, try out the following examples with logical operators:\n",
        "\n",
        "```python\n",
        "print(T_sun > 4778.0 and T_sun < 6778.0)\n",
        "print(T_sun > 4778.0 or T_sun < 6778.0)\n",
        "print(T_sun == 4778.0 and T_sun < 6778.0)\n",
        "print(T_sun != 4778.0 and T_sun <= 6778.0)\n",
        "print(T_sun == 6778.0 or T_sun < 5778.0)\n",
        "print(T_sun == 6778.0 or T_sun <= 5778.0)\n",
        "```"
      ]
    },
    {
      "cell_type": "code",
      "execution_count": 7,
      "metadata": {
        "id": "OaE7tnv-jHEs",
        "colab": {
          "base_uri": "https://localhost:8080/"
        },
        "outputId": "575109b7-0dd5-4b69-f1fa-25c2d5dc9848"
      },
      "outputs": [
        {
          "output_type": "stream",
          "name": "stdout",
          "text": [
            "True\n",
            "True\n",
            "False\n",
            "True\n",
            "False\n",
            "True\n"
          ]
        }
      ],
      "source": [
        "## your code starts here\n",
        "print(T_sun > 4778.0 and T_sun < 6778.0)\n",
        "print(T_sun > 4778.0 or T_sun < 6778.0)\n",
        "print(T_sun == 4778.0 and T_sun < 6778.0)\n",
        "print(T_sun != 4778.0 and T_sun <= 6778.0)\n",
        "print(T_sun == 6778.0 or T_sun < 5778.0)\n",
        "print(T_sun == 6778.0 or T_sun <= 5778.0)"
      ]
    },
    {
      "cell_type": "markdown",
      "metadata": {
        "id": "PhXQjvH8jHEs"
      },
      "source": [
        "### 1.3.1.1 Components of an if statement\n",
        "\n",
        "An `if` statement typically has two parts:\n",
        "- the condition (what is being checked each time), and\n",
        "- the action (what is being performed if the condition is met).\n",
        "\n",
        "In general, an `if` statement looks something like this:\n",
        "\n",
        "```python\n",
        "if <condition>:\n",
        "    do something   \n",
        "```\n",
        "\n",
        "There are two important rules while using an `if` statement in Python. First, you need to put a colon (`:`) after the condition. Second, each action after the `if` statement is written on an indented line similar to `for` loops. The generally accepted Python indentation is four spaces.\n",
        "\n",
        "In the next example, the computer checks if the variable `x` is larger than 1. If the condition is met, it prints out the value of `x`.\n"
      ]
    },
    {
      "cell_type": "code",
      "execution_count": 8,
      "metadata": {
        "id": "iGwnlReGjHGQ",
        "colab": {
          "base_uri": "https://localhost:8080/"
        },
        "outputId": "8746265d-7ca0-4d5a-b161-a2671330fc29"
      },
      "outputs": [
        {
          "output_type": "stream",
          "name": "stdout",
          "text": [
            "x is larger than 1\n",
            "x = 5\n"
          ]
        }
      ],
      "source": [
        "x = 5\n",
        "\n",
        "if x > 1:                             # The condition is true\n",
        "    print('x is larger than 1')       # To perform actions, make sure each action is INDENTED\n",
        "    print('x =', x)                   # So x will be printed\n"
      ]
    },
    {
      "cell_type": "markdown",
      "metadata": {
        "id": "KJO-gteejHGQ"
      },
      "source": [
        "What happens if `x` is smaller than 1? In the cell below, define x to be a value less than 1, reproduce condition above, and execute your new code."
      ]
    },
    {
      "cell_type": "code",
      "execution_count": 9,
      "metadata": {
        "id": "gVUYmruajHGQ",
        "colab": {
          "base_uri": "https://localhost:8080/"
        },
        "outputId": "a3585f25-f6c7-4a05-cb73-25b37a248091"
      },
      "outputs": [
        {
          "output_type": "stream",
          "name": "stdout",
          "text": [
            "x is larger than 2\n"
          ]
        }
      ],
      "source": [
        "##  try out the above example, changing the value of x a few times.\n",
        "x = 17\n",
        "\n",
        "if x > 2:\n",
        "    print('x is larger than 2')"
      ]
    },
    {
      "cell_type": "markdown",
      "metadata": {
        "id": "b1UO3P2ijHGQ"
      },
      "source": [
        "Notice that we did not get any output when x < 1 because we did not tell the computer what to do if the condition is not met. In this case, we need to use an `else` statement:\n",
        "\n",
        "```python\n",
        "x = 5\n",
        "\n",
        "if x > 1:                             # The condition is true\n",
        "    print('x is larger than 1')      \n",
        "    print('x =', x)  \n",
        "else:                                 # The condition is not true\n",
        "    print('x is smaller than 1')\n",
        "    print('x =', x)\n",
        "```\n",
        "\n"
      ]
    },
    {
      "cell_type": "code",
      "execution_count": 10,
      "metadata": {
        "id": "TrdK6--ujHGQ",
        "colab": {
          "base_uri": "https://localhost:8080/"
        },
        "outputId": "60accaea-312f-48ae-aa77-c237412230e6"
      },
      "outputs": [
        {
          "output_type": "stream",
          "name": "stdout",
          "text": [
            "x is larger than 1\n",
            "x = 5\n"
          ]
        }
      ],
      "source": [
        "# try out the above example\n",
        "x = 5\n",
        "\n",
        "if x > 1:                             # The condition is true\n",
        "    print('x is larger than 1')\n",
        "    print('x =', x)\n",
        "else:                                 # The condition is not true\n",
        "    print('x is smaller than 1')\n",
        "    print('x =', x)"
      ]
    },
    {
      "cell_type": "markdown",
      "metadata": {
        "id": "mRmKb3eBjHGQ"
      },
      "source": [
        "You can have more than one condition in a single `if` statement using logical operators. Below we give an example."
      ]
    },
    {
      "cell_type": "code",
      "execution_count": 11,
      "metadata": {
        "id": "ICPG13V1jHGQ",
        "colab": {
          "base_uri": "https://localhost:8080/"
        },
        "outputId": "93d713c6-34ee-428d-8eb2-4c8266da1ddc"
      },
      "outputs": [
        {
          "output_type": "stream",
          "name": "stdout",
          "text": [
            "x is between 1 and 10\n",
            "x is greater than 1 or less than 10\n"
          ]
        }
      ],
      "source": [
        "x = 5\n",
        "\n",
        "if x > 1 and x < 10:\n",
        "    print('x is between 1 and 10')\n",
        "\n",
        "if x > 1 or x < 10:\n",
        "    print('x is greater than 1 or less than 10')\n"
      ]
    },
    {
      "cell_type": "markdown",
      "metadata": {
        "id": "z4JaANZqjHGQ"
      },
      "source": [
        "If the first statement is not met and we want to test for another condition, we can use an `else if` or `elif` statement.\n",
        "\n",
        "```python\n",
        "x = 0.1\n",
        "\n",
        "if x > 10:\n",
        "    print('x is greater than 10')\n",
        "    \n",
        "elif x > 5:\n",
        "    print('x is greater than 5')\n",
        "    \n",
        "elif x > 1:\n",
        "    print('x is greater than 1')\n",
        "  \n",
        "else:\n",
        "    print('x is less than 1')\n",
        "```"
      ]
    },
    {
      "cell_type": "code",
      "execution_count": 13,
      "metadata": {
        "id": "sO62YuuxjHGQ",
        "colab": {
          "base_uri": "https://localhost:8080/"
        },
        "outputId": "13317a14-995a-420b-c67d-47631c28841c"
      },
      "outputs": [
        {
          "output_type": "stream",
          "name": "stdout",
          "text": [
            "x is greater than 10\n"
          ]
        }
      ],
      "source": [
        "## try out the above example with different values of x\n",
        "x = 20\n",
        "\n",
        "if x > 10:\n",
        "    print('x is greater than 10')\n",
        "\n",
        "elif x > 5:\n",
        "    print('x is greater than 5')\n",
        "\n",
        "elif x > 1:\n",
        "    print('x is greater than 1')\n",
        "\n",
        "else:\n",
        "    print('x is less than 1')"
      ]
    },
    {
      "cell_type": "markdown",
      "metadata": {
        "id": "xQIYnDckjHGQ"
      },
      "source": [
        "### 1.3.1.2 For loops & conditionals: Example\n",
        "It is often useful to have conditions embedded (or nested) within for loops. This is where indentation\n",
        "is key to making sure your code works the way you want it to!<br>\n",
        "\n",
        "In the below example, we have a list of both positive and negative numbers called `numbers`. We want to store them in separate lists called `negative_numbers` and `positive_numbers`. To accomplish this, we first loop over the elements of the numbers list and check if a number is positive or negative using an if statement. If the number is negative, we append it to the `negative_numbers` list, and if the number is positive, we append it to the `positive_numbers` list. Note that we need to initialize these empty lists before the for loop."
      ]
    },
    {
      "cell_type": "code",
      "execution_count": 14,
      "metadata": {
        "id": "5mG9UCvjjHGQ",
        "colab": {
          "base_uri": "https://localhost:8080/"
        },
        "outputId": "34a66d9c-f907-4ffc-dfc9-ad04f6691dfb"
      },
      "outputs": [
        {
          "output_type": "stream",
          "name": "stdout",
          "text": [
            "negative numbers list: [-1, -2, -94]\n",
            "positive numbers list: [4, 8, 8, 91]\n"
          ]
        }
      ],
      "source": [
        "numbers = [-1, 4, 8, -2, 8, 91, -94]\n",
        "\n",
        "# Initialize new lists\n",
        "negative_numbers = []\n",
        "positive_numbers = []\n",
        "\n",
        "# Loop over the numbers list\n",
        "for i in numbers:\n",
        "    if i < 0:\n",
        "        negative_numbers.append(i)\n",
        "    elif i > 0:\n",
        "        positive_numbers.append(i)\n",
        "\n",
        "print('negative numbers list:', negative_numbers)\n",
        "print('positive numbers list:', positive_numbers)\n"
      ]
    },
    {
      "cell_type": "markdown",
      "metadata": {
        "id": "I1fFUzz1jHGQ"
      },
      "source": [
        "### Your turn: Even or odd\n",
        "\n",
        "In the below cell, try writing a for loop that goes through the `numbers` list. This time, instead of checking if the elements of the number list is positive or negative, identify the even numbers, and store them in a new list called `even_numbers`. Hint: You can use the `mod` (modulo) operator `%` to test if a given number is even or not. The modulo operator returns the remainder when you divide one number by another."
      ]
    },
    {
      "cell_type": "code",
      "execution_count": 17,
      "metadata": {
        "id": "sPbIP54rjHGQ",
        "colab": {
          "base_uri": "https://localhost:8080/"
        },
        "outputId": "8f007b75-05e2-4764-8942-13e34c6c51d9"
      },
      "outputs": [
        {
          "output_type": "stream",
          "name": "stdout",
          "text": [
            "even numbers list: [4, 14, 2, 24, 88, 112]\n",
            "odd numbers list: [3, 93]\n"
          ]
        }
      ],
      "source": [
        "# your code here\n",
        "\n",
        "numbers = [3, 4, 14, 2, 24, 88, 93, 112]\n",
        "even_numbers = []\n",
        "odd_numbers = []\n",
        "\n",
        "for i in numbers:\n",
        "    if i % 2 == 0:\n",
        "        even_numbers.append(i)\n",
        "    else:\n",
        "        odd_numbers.append(i)\n",
        "\n",
        "print('even numbers list:', even_numbers)\n",
        "print('odd numbers list:', odd_numbers)"
      ]
    },
    {
      "cell_type": "markdown",
      "metadata": {
        "id": "oY6b89DBjHGQ"
      },
      "source": [
        "### Temperature Converter\n",
        "\n",
        "__Problem__: You are given the surface temperatures for ten stars, which are all in Celsius. Since Kelvin is the standard unit used in astronomy, you want to convert all the temperatures into Kelvin.\n",
        "\n",
        "__Task__: Loop over the temperature list and convert each temperature to Kelvin using the following equation:\n",
        "\n",
        " $$K = C + 273.15 $$\n",
        "\n",
        "Store the temperatures in units of Kelvin in a new list called `T_kelvin` and print it in the below cell.\n"
      ]
    },
    {
      "cell_type": "code",
      "execution_count": 21,
      "metadata": {
        "id": "ZWZ9oPCyjHGQ",
        "colab": {
          "base_uri": "https://localhost:8080/"
        },
        "outputId": "6c4e9bb8-3b22-4f3e-8113-216dfc147316"
      },
      "outputs": [
        {
          "output_type": "stream",
          "name": "stdout",
          "text": [
            "[5773.15, 6273.15, 6805.15, 4507.15, 8625.15, 10273.15, 12273.15, 14805.15, 8598.15, 8010.15]\n"
          ]
        }
      ],
      "source": [
        "## Your code here!\n",
        "## You are given surface temperatures in celsius:\n",
        "T_celc = [5500, 6000, 6532, 4234, 8352, 10000, 12000, 14532, 8325, 7737]\n",
        "T_kelvin = []\n",
        "\n",
        "## Loop over T_celc list:\n",
        "\n",
        "for t in T_celc:\n",
        "    temp = t + 273.15\n",
        "    T_kelvin.append(temp)\n",
        "\n",
        "print(T_kelvin)"
      ]
    },
    {
      "cell_type": "markdown",
      "metadata": {
        "id": "oG7qvqCnjHGQ"
      },
      "source": [
        "Now, store the temperatures larger than the Sun's temperature (T_sun = 5778.0 K) in a new list called ```T_larger_sun``` below:"
      ]
    },
    {
      "cell_type": "code",
      "execution_count": 23,
      "metadata": {
        "id": "tKxDbG4-jHGQ",
        "colab": {
          "base_uri": "https://localhost:8080/"
        },
        "outputId": "51c65e31-7b14-43ae-9851-a6bf5dd4d67a"
      },
      "outputs": [
        {
          "output_type": "stream",
          "name": "stdout",
          "text": [
            "temperature larger than sun list: [6273.15, 6805.15, 8625.15, 10273.15, 12273.15, 14805.15, 8598.15, 8010.15]\n",
            "temperature smaller than sun list: [5773.15, 4507.15]\n"
          ]
        }
      ],
      "source": [
        "T_larger_sun = []\n",
        "T_smaller_sun = []\n",
        "\n",
        "T_sun = 5778.0 #kelvin\n",
        "\n",
        "for t in T_kelvin:\n",
        "    if t > T_sun:\n",
        "        T_larger_sun.append(t)\n",
        "    else:\n",
        "        T_smaller_sun.append(t)\n",
        "\n",
        "print('temperature larger than sun list:', T_larger_sun)\n",
        "print('temperature smaller than sun list:', T_smaller_sun)"
      ]
    },
    {
      "cell_type": "markdown",
      "metadata": {
        "id": "eM3ORHvgjHGQ"
      },
      "source": [
        "## Takeaways\n",
        "\n",
        "* Conditional statements, such as if statements, allow you to perform different operations depending on whether certain conditions are met. <br>\n",
        "* By combining loops and conditionals, you can iterate over a sequence and perform the specified operations only when certain conditions are met, rather than on every pass over the loop. <br>"
      ]
    }
  ],
  "metadata": {
    "kernelspec": {
      "display_name": "Python 3",
      "language": "python",
      "name": "python3"
    },
    "language_info": {
      "codemirror_mode": {
        "name": "ipython",
        "version": 3
      },
      "file_extension": ".py",
      "mimetype": "text/x-python",
      "name": "python",
      "nbconvert_exporter": "python",
      "pygments_lexer": "ipython3",
      "version": "3.8.5"
    },
    "toc": {
      "base_numbering": 1,
      "nav_menu": {},
      "number_sections": true,
      "sideBar": true,
      "skip_h1_title": false,
      "title_cell": "Table of Contents",
      "title_sidebar": "Contents",
      "toc_cell": false,
      "toc_position": {},
      "toc_section_display": true,
      "toc_window_display": false
    },
    "varInspector": {
      "cols": {
        "lenName": 16,
        "lenType": 16,
        "lenVar": 40
      },
      "kernels_config": {
        "python": {
          "delete_cmd_postfix": "",
          "delete_cmd_prefix": "del ",
          "library": "var_list.py",
          "varRefreshCmd": "print(var_dic_list())"
        },
        "r": {
          "delete_cmd_postfix": ") ",
          "delete_cmd_prefix": "rm(",
          "library": "var_list.r",
          "varRefreshCmd": "cat(var_dic_list()) "
        }
      },
      "types_to_exclude": [
        "module",
        "function",
        "builtin_function_or_method",
        "instance",
        "_Feature"
      ],
      "window_display": false
    },
    "colab": {
      "provenance": [],
      "include_colab_link": true
    }
  },
  "nbformat": 4,
  "nbformat_minor": 0
}