{
  "cells": [
    {
      "cell_type": "markdown",
      "metadata": {
        "id": "view-in-github",
        "colab_type": "text"
      },
      "source": [
        "<a href=\"https://colab.research.google.com/github/madeline-evenson/Northwestern-CIERA-Python-Intro/blob/main/Challenge_2_Lifetime_of_Sun.ipynb\" target=\"_parent\"><img src=\"https://colab.research.google.com/assets/colab-badge.svg\" alt=\"Open In Colab\"/></a>"
      ]
    },
    {
      "cell_type": "markdown",
      "metadata": {
        "id": "EiAW0Dbs8Kco"
      },
      "source": [
        "# Challenge 2: How Long Do Stars Live?\n",
        "\n",
        "The Sun produces 400 trillion trillion watts of energy every second - that's enough to power our current energy use for 500,000 years! But where does all of that energy come from?"
      ]
    },
    {
      "cell_type": "markdown",
      "source": [
        "## Section 1: Gravitational potential energy"
      ],
      "metadata": {
        "id": "qg9hue3quErM"
      }
    },
    {
      "cell_type": "markdown",
      "source": [
        "In the nineteenth century, this was a major question. Early astronomers assumed that the Sun's energy came from gravitational energy that was stored when a cloud of gas collapsed to form it. Let's estimate how much energy that would be. The gravitational potential energy of the Sun can be estimated from the following equation:\n",
        "\n",
        "\\begin{equation}\n",
        "E = \\frac{3}{5} \\frac{G \\, M^2}{R}.\n",
        "\\end{equation}\n",
        "\n",
        "In this formula\n",
        " - $G$ is the Newtonian constant of gravitation,\n",
        " - $M$ is the mass of the Sun, and\n",
        " - $R$ is the radius of the sun.\n",
        "\n",
        "Calculate the gravitational potential energy of the Sun."
      ],
      "metadata": {
        "id": "gT3LDJi0uDmc"
      }
    },
    {
      "cell_type": "code",
      "execution_count": 3,
      "metadata": {
        "id": "yN15xbZt8Kco",
        "colab": {
          "base_uri": "https://localhost:8080/"
        },
        "outputId": "4893e5bd-fb89-4972-f03e-8cc298ffe603"
      },
      "outputs": [
        {
          "output_type": "stream",
          "name": "stdout",
          "text": [
            "The gravitational potential energy of the sun is 2.276e+41 W.\n"
          ]
        }
      ],
      "source": [
        "G = 6.6743e-11\n",
        "m_sun = 1.989e30 #kg\n",
        "r_sun = 6.96e8 #meters\n",
        "\n",
        "g_PE_sun = (3 * G * m_sun**2) / (5 * r_sun)\n",
        "print(f'The gravitational potential energy of the sun is {g_PE_sun:.3e} W.')"
      ]
    },
    {
      "cell_type": "markdown",
      "metadata": {
        "id": "swpHXL2E8Kco"
      },
      "source": [
        "The Sun's luminosity (the energy production rate) of $3.839\\times10^{26}$ W (watts). One watt is equal to 1 Joule s$^{-1}$ or 1 kg m$^{2}$ s$^{-3}$. From the gravitational potential energy that you calculated, how long could the Sun radiate energy at its current luminosity? List your answer in years."
      ]
    },
    {
      "cell_type": "code",
      "execution_count": 8,
      "metadata": {
        "id": "nVvnoXcl8Kco",
        "colab": {
          "base_uri": "https://localhost:8080/"
        },
        "outputId": "946f02d6-abb8-4fae-8865-31f8b3612bb3"
      },
      "outputs": [
        {
          "output_type": "stream",
          "name": "stdout",
          "text": [
            "The maximum amount of years that the sun could radiate energy is 1.880e+07 years.\n"
          ]
        }
      ],
      "source": [
        "t_max_sec = g_PE_sun / 3.839e26\n",
        "t_max_yr = t_max_sec / 3.154e7\n",
        "print(f'The maximum amount of years that the sun could radiate energy is {t_max_yr:.3e} years.')"
      ]
    },
    {
      "cell_type": "markdown",
      "source": [
        "The value you calculated is known as the Kelvin-Helmholz timescale.\n",
        "\n",
        "The Earth is 4.5 billion years old. How does the value you calculated compare to the age of the Earth?"
      ],
      "metadata": {
        "id": "HpA11yBwuY9o"
      }
    },
    {
      "cell_type": "code",
      "source": [
        "comparison = 4.5e9 / t_max_yr\n",
        "print(f'The age of the earth is {comparison:.3f} times larger than the Kelvin-Helmholz timescale.')"
      ],
      "metadata": {
        "id": "3_qR4pXst1ic",
        "colab": {
          "base_uri": "https://localhost:8080/"
        },
        "outputId": "b61f1016-690c-49d0-c53c-8edd8aa21617"
      },
      "execution_count": 11,
      "outputs": [
        {
          "output_type": "stream",
          "name": "stdout",
          "text": [
            "The age of the earth is 239.373 times larger than the Kelvin-Helmholz timescale.\n"
          ]
        }
      ]
    },
    {
      "cell_type": "markdown",
      "source": [
        "## Section 2: Nuclear energy"
      ],
      "metadata": {
        "id": "GczHRnzJuNyA"
      }
    },
    {
      "cell_type": "markdown",
      "metadata": {
        "id": "zlHGINIO8Kco"
      },
      "source": [
        "Albert Einstein's famous equation, $E = m \\, c^2$, helps solve this problem. Physically, mass can become energy, and energy can become mass. For the Sun, this happens when hydrogen undergos nuclear fusion to create helium.\n",
        "\n",
        "Look up the mass of the hydrogen atom, and the mass of the helium atom. Does four times the mass of the hydrogen atom equal the mass of the helium atom?"
      ]
    },
    {
      "cell_type": "code",
      "execution_count": 12,
      "metadata": {
        "id": "JcEqvDGZ8Kco",
        "colab": {
          "base_uri": "https://localhost:8080/"
        },
        "outputId": "79325dce-64ce-4ae0-8116-494d39800cdd"
      },
      "outputs": [
        {
          "output_type": "stream",
          "name": "stdout",
          "text": [
            "6.69423e-27\n"
          ]
        }
      ],
      "source": [
        "m_hydrogen = 1.6735575e-27 #kg\n",
        "m_helium = 6.6464731e-27 # kg\n",
        "\n",
        "print(4*m_hydrogen)\n",
        "\n",
        "# 4 hydrogen atoms are more massive than a single helium atom"
      ]
    },
    {
      "cell_type": "markdown",
      "metadata": {
        "id": "c7AmMq_C8Kco"
      },
      "source": [
        "You should have found that 4 hydrogen atoms are more massive than a single helium atom. This missing mass is what powers the Sun. Also, see [here](https://www.youtube.com/watch?v=23e-SnQvCaA).\n",
        "\n",
        "\n",
        "Calculate the mass energy of the Sun ($E$) using $E=m\\,c^2$ by using the mass of the Sun for $m$, and using the speed of light for $c$."
      ]
    },
    {
      "cell_type": "code",
      "execution_count": 14,
      "metadata": {
        "id": "KzGLRN3J8Kco",
        "colab": {
          "base_uri": "https://localhost:8080/"
        },
        "outputId": "ebc0749d-dd45-4731-8553-3da18f972318"
      },
      "outputs": [
        {
          "output_type": "stream",
          "name": "stdout",
          "text": [
            "The mass energy of the sun is 1.790e+47 J\n"
          ]
        }
      ],
      "source": [
        "c = 3e8 #m/s\n",
        "E_sun = m_sun * c**2\n",
        "\n",
        "print(f'The mass energy of the sun is {E_sun:.3e} J')"
      ]
    },
    {
      "cell_type": "markdown",
      "metadata": {
        "id": "Rp56tpI98Kco"
      },
      "source": [
        "Given this amount of energy, and the Sun's luminosity listed earlier, how long could nuclear reactions power the Sun? List your result in years."
      ]
    },
    {
      "cell_type": "code",
      "execution_count": 15,
      "metadata": {
        "id": "wSPCOaj98Kco",
        "colab": {
          "base_uri": "https://localhost:8080/"
        },
        "outputId": "644ebd6b-ec70-4f8f-aa55-f87885543f8b"
      },
      "outputs": [
        {
          "output_type": "stream",
          "name": "stdout",
          "text": [
            "The maximum amount of years that the sun could radiate energy is 1.478e+13 years.\n"
          ]
        }
      ],
      "source": [
        "t_max_sec = E_sun / 3.839e26\n",
        "t_max_yr = t_max_sec / 3.154e7\n",
        "print(f'The amount of years that the sun could radiate energy is {t_max_yr:.3e} years.')"
      ]
    },
    {
      "cell_type": "markdown",
      "metadata": {
        "id": "xvSLGK328Kco"
      },
      "source": [
        "If we consider the fusion of hydrogen into helium above, only a small fraction of the total mass going in to the reaction is converted into energy, with the remainder going into energy, i.e.\n",
        "\\begin{equation}\n",
        "4 \\, \\times \\, ^1_1H \\rightarrow \\, ^4_2He + \\epsilon.\n",
        "\\end{equation}\n",
        "Calculate what fraction of the initial total mass is converted into energy from this reaction."
      ]
    },
    {
      "cell_type": "code",
      "execution_count": 24,
      "metadata": {
        "id": "vlyy76d-8Kco",
        "colab": {
          "base_uri": "https://localhost:8080/"
        },
        "outputId": "c1ee2747-c31b-4a8f-d8e9-75f3f2ee0be0"
      },
      "outputs": [
        {
          "output_type": "stream",
          "name": "stdout",
          "text": [
            "The fraction of the initial total mass converted into energy is 0.007134039314454443.\n"
          ]
        }
      ],
      "source": [
        "efficiency = m_helium / (4 * m_hydrogen)\n",
        "fraction = 1-efficiency\n",
        "\n",
        "print(f'The fraction of the initial total mass converted into energy is {fraction}.')"
      ]
    },
    {
      "cell_type": "markdown",
      "metadata": {
        "id": "ls8qOa7w8Kco"
      },
      "source": [
        "Now, adjust your calculation for the lifetime of the Sun using this efficiency factor."
      ]
    },
    {
      "cell_type": "code",
      "execution_count": 25,
      "metadata": {
        "id": "5b5y_9JI8Kco",
        "colab": {
          "base_uri": "https://localhost:8080/"
        },
        "outputId": "c5954897-5eff-4fd7-d3a6-8f53d23c8494"
      },
      "outputs": [
        {
          "output_type": "stream",
          "name": "stdout",
          "text": [
            "The adjusted lifetime of the sun is 1.055e+11 years.\n"
          ]
        }
      ],
      "source": [
        "adjusted_lifetime = t_max_yr * fraction\n",
        "print(f'The adjusted lifetime of the sun is {adjusted_lifetime:.3e} years.')"
      ]
    },
    {
      "cell_type": "markdown",
      "metadata": {
        "id": "tvjTFvNr8Kco"
      },
      "source": [
        "Only the central region of the Sun, the \"core\", is sufficiently hot and dense for hydrogen to fuse into helium. Thus, only some of the core will be used to power the life of a star.\n",
        "\n",
        "What happens when the core has turned all of its Hydrogen into Helium? Without anything powering it, the Sun will start to collapse in on itself, and eventually the density and temperatures get high enough to start fusing heavier elements into even heavier elements. If a star is massive enough (the Sun isn't!), this will continue until the core is made of iron. Why iron? Well, take a look at this plot:\n",
        "\n",
        "![Fusion binding energy](https://github.com/CIERA-Northwestern/REACHpy/blob/ideaspy_updates/Module_1/images/fusion.png?raw=1)\n",
        "\n",
        "Atoms can only fuse together if the resulting atom is more tightly bound than its component elements. Once you get up to iron (Fe), it turns out that all more massive elements are less tightly bound, and so fusion can't happen any more. Instead, the star collapses, bounces off of this dense iron core, and explodes in a *supernova*!\n",
        "\n",
        "![Artist's depiction of SN2019ehk](https://github.com/CIERA-Northwestern/REACHpy/blob/ideaspy_updates/Module_1/images/2019ehk-AMG_final-500x500.png?raw=1)<br />\n",
        "Above is an artist’s depiction of SN2019ehk (courtesy of Aaron M. Geller, Northwestern University)."
      ]
    }
  ],
  "metadata": {
    "kernelspec": {
      "display_name": "Python 3",
      "language": "python",
      "name": "python3"
    },
    "language_info": {
      "codemirror_mode": {
        "name": "ipython",
        "version": 3
      },
      "file_extension": ".py",
      "mimetype": "text/x-python",
      "name": "python",
      "nbconvert_exporter": "python",
      "pygments_lexer": "ipython3",
      "version": "3.8.5"
    },
    "colab": {
      "provenance": [],
      "include_colab_link": true
    }
  },
  "nbformat": 4,
  "nbformat_minor": 0
}