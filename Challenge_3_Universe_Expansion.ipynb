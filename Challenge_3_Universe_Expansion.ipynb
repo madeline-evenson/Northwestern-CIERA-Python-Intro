{
  "cells": [
    {
      "cell_type": "markdown",
      "metadata": {
        "id": "view-in-github",
        "colab_type": "text"
      },
      "source": [
        "<a href=\"https://colab.research.google.com/github/madeline-evenson/Northwestern-CIERA-Python-Intro/blob/main/Challenge_3_Universe_Expansion.ipynb\" target=\"_parent\"><img src=\"https://colab.research.google.com/assets/colab-badge.svg\" alt=\"Open In Colab\"/></a>"
      ]
    },
    {
      "cell_type": "code",
      "execution_count": 1,
      "metadata": {
        "id": "piE4WXRE4EGE",
        "colab": {
          "base_uri": "https://localhost:8080/"
        },
        "outputId": "0283f2eb-246d-46e2-f2c9-b5b97064629c"
      },
      "outputs": [
        {
          "output_type": "stream",
          "name": "stdout",
          "text": [
            "--2025-06-05 17:21:59--  https://raw.githubusercontent.com/CIERA-Northwestern/REACHpy/main/Module_2/data/type1a_sne.csv\n",
            "Resolving raw.githubusercontent.com (raw.githubusercontent.com)... 185.199.109.133, 185.199.110.133, 185.199.111.133, ...\n",
            "Connecting to raw.githubusercontent.com (raw.githubusercontent.com)|185.199.109.133|:443... connected.\n",
            "HTTP request sent, awaiting response... 200 OK\n",
            "Length: 816 [text/plain]\n",
            "Saving to: ‘type1a_sne.csv’\n",
            "\n",
            "\rtype1a_sne.csv        0%[                    ]       0  --.-KB/s               \rtype1a_sne.csv      100%[===================>]     816  --.-KB/s    in 0s      \n",
            "\n",
            "2025-06-05 17:21:59 (26.0 MB/s) - ‘type1a_sne.csv’ saved [816/816]\n",
            "\n"
          ]
        }
      ],
      "source": [
        "# Running in Google Colab? Run this cell to download the data\n",
        "!wget https://raw.githubusercontent.com/CIERA-Northwestern/REACHpy/main/Module_2/data/type1a_sne.csv\n",
        "\n",
        "# If you're not running in Colab, this file should be in the data directory.\n",
        "# Change the loading path of the file to include 'data/' when the file is loaded"
      ]
    },
    {
      "cell_type": "markdown",
      "metadata": {
        "id": "8zyREPeR4EGE"
      },
      "source": [
        "# The Expansion of the Universe"
      ]
    },
    {
      "cell_type": "markdown",
      "metadata": {
        "id": "OXqp_Q7U4EGE"
      },
      "source": [
        "## Section 1: Background\n",
        "\n",
        "In the early 20th Century, astronomers made a surprising discovery about the Universe that we're going to explore here. Astronomers were keenly interested in measuring the distances to \"spiral nebulae\" to understand whether they were a part of our galaxy, or extra-galactic (they would turn out to be extra-galaxies - separate galaxies on their own!). Astronomers were able to measure how fast those galaxies were moving towards or away from us.\n",
        "\n",
        "We will recreate the work of Edwin Hubble, who plotted the distances and velocities of those galaxies against eachother. In this directory there is a file called \"type1a_sne.csv\" that has the measured distances (in units of mega-parsecs) and velocities (in km s$^{-1}$) for a number of galaxies. Load those data in to two lists:"
      ]
    },
    {
      "cell_type": "markdown",
      "source": [
        "## Section 2: Reading in data\n",
        "\n",
        "We will use the file `type1a_sne.csv` which consists of galaxy data for in two columns:\n",
        " - Measured distances (in mega-parsecs, Mpc), and\n",
        " - velocities (in km s$^{-1}$).\n",
        "\n",
        "Use `numpy` to read the data file and extract the appropriate data as separate variables. Since this is a comma separated value file, you will need to use `delimiter=','` in your call to `loadtxt`."
      ],
      "metadata": {
        "id": "qqM-mVwsum_k"
      }
    },
    {
      "cell_type": "code",
      "execution_count": 3,
      "metadata": {
        "id": "FATi9Hq34EGE"
      },
      "outputs": [],
      "source": [
        "import numpy as np\n",
        "\n",
        "data = np.loadtxt('type1a_sne.csv', delimiter=',')"
      ]
    },
    {
      "cell_type": "markdown",
      "metadata": {
        "id": "JLJIb3_b4EGE"
      },
      "source": [
        "Now, make a plot with distance on the x-axis any velocity on the y-axis. Make sure to include nice axes labels."
      ]
    },
    {
      "cell_type": "code",
      "execution_count": 8,
      "metadata": {
        "id": "5Sn6pWWE4EGE",
        "colab": {
          "base_uri": "https://localhost:8080/",
          "height": 489
        },
        "outputId": "21feface-015f-405a-b428-f0c3758af863"
      },
      "outputs": [
        {
          "output_type": "execute_result",
          "data": {
            "text/plain": [
              "Text(0.5, 1.0, 'distances vs velocities of galaxies')"
            ]
          },
          "metadata": {},
          "execution_count": 8
        },
        {
          "output_type": "display_data",
          "data": {
            "text/plain": [
              "<Figure size 640x480 with 1 Axes>"
            ],
            "image/png": "[encoded data removed]"
          },
          "metadata": {}
        }
      ],
      "source": [
        "distances = []\n",
        "velocities = []\n",
        "\n",
        "for row in data:\n",
        "    distances.append(row[0])\n",
        "    velocities.append(row[1])\n",
        "\n",
        "import matplotlib.pyplot as plt\n",
        "\n",
        "plt.plot(distances, velocities, '.')\n",
        "plt.xlabel('distances (mpc)')\n",
        "plt.ylabel('velocities (km/s)')\n",
        "plt.title('distances vs velocities of galaxies')"
      ]
    },
    {
      "cell_type": "markdown",
      "source": [
        "When using Doppler shifts, astronomers assign negative velocities to objects moving towards us, and a positive velocity to objects moving away from us.\n",
        "\n",
        "For this set of galaxies, what trend do you notice?"
      ],
      "metadata": {
        "id": "DZz-eDX6w6pk"
      }
    },
    {
      "cell_type": "code",
      "source": [
        "# the trend is that the farther the galaxy, the larger the velocities"
      ],
      "metadata": {
        "id": "LcS8fJwrxIvI"
      },
      "execution_count": null,
      "outputs": []
    },
    {
      "cell_type": "markdown",
      "metadata": {
        "id": "oUAgGeR74EGE"
      },
      "source": [
        "Hubble discovered this relationship in 1929. All galaxies, regardless of where you look (outside of a few particularly close ones), are moving away from us.\n",
        "\n",
        "Our Universe is expanding!"
      ]
    },
    {
      "cell_type": "markdown",
      "source": [
        "## Section 3: How fast is the Universe expanding?"
      ],
      "metadata": {
        "id": "ouBK7hKmyBys"
      }
    },
    {
      "cell_type": "markdown",
      "source": [
        "Let's calculate how quickly the Universe is expanding by fitting a line through the data points in your figure.\n",
        "\n",
        "To accomplish this, we need to create the x and y values for the line."
      ],
      "metadata": {
        "id": "OwMDR1NvxjQA"
      }
    },
    {
      "cell_type": "markdown",
      "source": [
        "First we need to create an array that spans the full domain of your previous figure."
      ],
      "metadata": {
        "id": "yjtiwiU2y-N4"
      }
    },
    {
      "cell_type": "code",
      "source": [
        "# Create your array of x-values\n",
        "#see 'velocities' and 'distances' arrays above"
      ],
      "metadata": {
        "id": "qQPN4f_BzOWs"
      },
      "execution_count": null,
      "outputs": []
    },
    {
      "cell_type": "markdown",
      "source": [
        "We will consider the best straight line that fits the data in your figure. In this case, we will assume a straight line that uses the form $$y=m\\,x,$$\n",
        "where $m$ is the slope.\n",
        "\n",
        "Create a function that will take $m$ and $x$ and will return $y$."
      ],
      "metadata": {
        "id": "oIC8Gr91zO18"
      }
    },
    {
      "cell_type": "code",
      "execution_count": 10,
      "metadata": {
        "id": "5G-c3-bQ4EGE"
      },
      "outputs": [],
      "source": [
        "# Create a function\n",
        "def function(m, x):\n",
        "    return m*x"
      ]
    },
    {
      "cell_type": "markdown",
      "source": [
        "Now apply the function you created to the array of $x$ values you created earlier. For now, choose any number for $m$ and we'll change it later to best fit the data."
      ],
      "metadata": {
        "id": "dGpCIO6T0mdw"
      }
    },
    {
      "cell_type": "markdown",
      "metadata": {
        "id": "G-hhfKSN4EGE"
      },
      "source": [
        "Now, let's re-create your plot of galaxy distances versus galaxy velocities from above:\n",
        " - Plot the the $x$ and $y$ values from the function as a line.\n",
        " - If the line does not match the data plotted, adjust the value of the slope ($m$) until it does."
      ]
    },
    {
      "cell_type": "code",
      "execution_count": 71,
      "metadata": {
        "id": "3m0gdJ4I4EGE",
        "colab": {
          "base_uri": "https://localhost:8080/",
          "height": 447
        },
        "outputId": "6843a9d0-4c16-417f-afbb-50443ca65d2c"
      },
      "outputs": [
        {
          "output_type": "execute_result",
          "data": {
            "text/plain": [
              "[<matplotlib.lines.Line2D at 0x797b46d15d50>]"
            ]
          },
          "metadata": {},
          "execution_count": 71
        },
        {
          "output_type": "display_data",
          "data": {
            "text/plain": [
              "<Figure size 640x480 with 1 Axes>"
            ],
            "image/png": "[encoded data removed]"
          },
          "metadata": {}
        }
      ],
      "source": [
        "# Calculate y values\n",
        "velocities2 = []\n",
        "\n",
        "for i in range(len(distances)):\n",
        "    velocities2.append(function(65, distances[i]))\n",
        "\n",
        "plt.plot(distances, velocities, '.')\n",
        "plt.plot(distances, velocities2)"
      ]
    },
    {
      "cell_type": "markdown",
      "metadata": {
        "id": "e3x70Nzv4EGE"
      },
      "source": [
        "Let's record the value of the slope ($m$) of the line that agrees with the data. This is referred to as the Hubble Constant ($H_0$)."
      ]
    },
    {
      "cell_type": "code",
      "execution_count": 72,
      "metadata": {
        "id": "B317cMPx4EGE"
      },
      "outputs": [],
      "source": [
        "H0 = 65"
      ]
    },
    {
      "cell_type": "markdown",
      "metadata": {
        "id": "avzFm4Y_4EGE"
      },
      "source": [
        "Let's consider the units of the Hubble Constant. Look back at your equation for the line $y=m\\,x$. Knowing that $y$ has units of km/s, and $x$ has units of Mpc, what must be the units of the Hubble Constant, $H_0$ (or $m$)?"
      ]
    },
    {
      "cell_type": "code",
      "source": [
        "# km/s/Mpc"
      ],
      "metadata": {
        "id": "HevnuTlF47ew"
      },
      "execution_count": 73,
      "outputs": []
    },
    {
      "cell_type": "markdown",
      "source": [
        "You might notice that they are (distance)/(time)/(distance), or to simplify, 1/time, or a frequency. Use dimensional analysis to reduce your value of $H_0$ to have dimensions of 1/time."
      ],
      "metadata": {
        "id": "NzFdqAP248ME"
      }
    },
    {
      "cell_type": "code",
      "source": [
        "# Restate your H0 using only units of time.\n",
        "# Pay attention to units!\n",
        "H0 = 65 * (1 / 3.24e19)\n",
        "print(H0)"
      ],
      "metadata": {
        "id": "mZ_jWbulIBNA",
        "colab": {
          "base_uri": "https://localhost:8080/"
        },
        "outputId": "54e0493f-2a2d-46f6-adfc-6b32d5d17018"
      },
      "execution_count": 74,
      "outputs": [
        {
          "output_type": "stream",
          "name": "stdout",
          "text": [
            "2.0061728395061728e-18\n"
          ]
        }
      ]
    },
    {
      "cell_type": "markdown",
      "source": [
        "Use the fact that $1/H_0$ has units of time to calculate the age of the Universe in years. This is referred to as the Hubble Time."
      ],
      "metadata": {
        "id": "nI0x292LIBi4"
      }
    },
    {
      "cell_type": "code",
      "execution_count": 75,
      "metadata": {
        "id": "bkuxzdzB4EGE",
        "colab": {
          "base_uri": "https://localhost:8080/"
        },
        "outputId": "2f4c01a5-b184-4ff1-d28a-52f5a6f57c28"
      },
      "outputs": [
        {
          "output_type": "stream",
          "name": "stdout",
          "text": [
            "4.984615384615385e+17 seconds\n",
            "1.580e+10 years\n"
          ]
        }
      ],
      "source": [
        "hubble_time = 1/H0 #seconds\n",
        "print(hubble_time, 'seconds')\n",
        "\n",
        "years = hubble_time / 3.154e7\n",
        "print(f'{years:.3e}', 'years')"
      ]
    },
    {
      "cell_type": "markdown",
      "metadata": {
        "id": "pSiNCgP94EGE"
      },
      "source": [
        "The Hubble Time is an estimate of the age of a Universe that _has no matter in it_. This cannot be the case because we are sitting here today. For a Universe with matter in it, the gravity from that matter tends to counter the expansion of the Universe, and slow it down.\n",
        "\n",
        "A more detailed calculation shows that for a Universe with enough matter that the Universe coasts at a constant speed, the age of the Universe is more accurately calculated as $2/(3\\,H_0)$:\n",
        "\n",
        "![Universe expansion](https://github.com/mcstroh/REACHpy/blob/ideaspy_updates/Module_2/images/expanding_universe.png?raw=1)\n",
        "\n",
        "Use that formula to calculate a more accurate age of the Universe from your Hubble Constant:"
      ]
    },
    {
      "cell_type": "code",
      "execution_count": 76,
      "metadata": {
        "id": "hhr38SZ04EGE",
        "colab": {
          "base_uri": "https://localhost:8080/"
        },
        "outputId": "ca0d2cd6-3047-4072-f83a-6c264a67382e"
      },
      "outputs": [
        {
          "output_type": "stream",
          "name": "stdout",
          "text": [
            "the more accurate age of the universe is 1.054e+10 years\n"
          ]
        }
      ],
      "source": [
        "# Recalculate the Hubble Time\n",
        "more_accurate = (2 / (3*H0)) / 3.154e7\n",
        "print(f'the more accurate age of the universe is {more_accurate:.3e} years')"
      ]
    },
    {
      "cell_type": "markdown",
      "source": [
        "This is one of a few different ways to calculate the age of the Universe, and our current best measurement from the Planck satellite is 13.8 billion years, and their Hubble constant is about 68 km/s/Mpc. How do your numbers compare?"
      ],
      "metadata": {
        "id": "pGxyH3FTKf98"
      }
    },
    {
      "cell_type": "code",
      "source": [
        "# the age I calculated is 10.5 billion years with an estimated hubble constant of 65 km/s/Mpc, which is younger than the most accurate measurement by aout 3.3 billion years"
      ],
      "metadata": {
        "id": "2eTy3jX4Kje8"
      },
      "execution_count": 77,
      "outputs": []
    },
    {
      "cell_type": "markdown",
      "metadata": {
        "id": "L0PxXPPK4EGE"
      },
      "source": [
        "\n",
        "\n",
        "If you numbers are different, you aren't alone! It turns out one of the interesting problems in astronomy today is that different ways of measuring the Hubble Constant get slightly different answers.\n",
        "\n",
        "![Best H_0 calculations](https://github.com/mcstroh/REACHpy/blob/ideaspy_updates/Module_2/images/freedman.png?raw=1)\n",
        "\n",
        "Although the differences are small, they are also significant. Why are they different? One comes from distances to galaxies, in the same way that you calculated the Hubble Constant here. The other comes from density fluctuations in the early universe when it was only 380,000 years old (cool!). Maybe there's some physics we don't understand creating the discrepancy. Or, maybe we are systematically measuring something incorrectly and we just don't know."
      ]
    }
  ],
  "metadata": {
    "kernelspec": {
      "display_name": "Python 3",
      "language": "python",
      "name": "python3"
    },
    "language_info": {
      "codemirror_mode": {
        "name": "ipython",
        "version": 3
      },
      "file_extension": ".py",
      "mimetype": "text/x-python",
      "name": "python",
      "nbconvert_exporter": "python",
      "pygments_lexer": "ipython3",
      "version": "3.8.5"
    },
    "colab": {
      "provenance": [],
      "include_colab_link": true
    }
  },
  "nbformat": 4,
  "nbformat_minor": 0
}