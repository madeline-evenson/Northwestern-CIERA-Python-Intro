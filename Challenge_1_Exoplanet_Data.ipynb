{
  "cells": [
    {
      "cell_type": "markdown",
      "metadata": {
        "id": "view-in-github",
        "colab_type": "text"
      },
      "source": [
        "<a href=\"https://colab.research.google.com/github/madeline-evenson/Northwestern-CIERA-Python-Intro/blob/main/Challenge_1_Exoplanet_Data.ipynb\" target=\"_parent\"><img src=\"https://colab.research.google.com/assets/colab-badge.svg\" alt=\"Open In Colab\"/></a>"
      ]
    },
    {
      "cell_type": "code",
      "execution_count": 1,
      "metadata": {
        "id": "CBa64UjKl1U8",
        "colab": {
          "base_uri": "https://localhost:8080/"
        },
        "outputId": "44bbf58f-a926-475f-f306-d7dca6f5ff90"
      },
      "outputs": [
        {
          "output_type": "stream",
          "name": "stdout",
          "text": [
            "--2025-06-05 16:45:32--  https://raw.githubusercontent.com/CIERA-Northwestern/REACHpy/main/Module_2/data/exoplanets_subset.txt\n",
            "Resolving raw.githubusercontent.com (raw.githubusercontent.com)... 185.199.108.133, 185.199.109.133, 185.199.110.133, ...\n",
            "Connecting to raw.githubusercontent.com (raw.githubusercontent.com)|185.199.108.133|:443... connected.\n",
            "HTTP request sent, awaiting response... 200 OK\n",
            "Length: 16581 (16K) [text/plain]\n",
            "Saving to: ‘exoplanets_subset.txt’\n",
            "\n",
            "\rexoplanets_subset.t   0%[                    ]       0  --.-KB/s               \rexoplanets_subset.t 100%[===================>]  16.19K  --.-KB/s    in 0.001s  \n",
            "\n",
            "2025-06-05 16:45:32 (31.4 MB/s) - ‘exoplanets_subset.txt’ saved [16581/16581]\n",
            "\n"
          ]
        }
      ],
      "source": [
        "# Running in Google Colab? Run this cell to download the data\n",
        "!wget https://raw.githubusercontent.com/CIERA-Northwestern/REACHpy/main/Module_2/data/exoplanets_subset.txt\n",
        "\n",
        "# If you're not running in Colab, this file should be in the data directory.\n",
        "# Change the loading path of the file to include 'data/' when the file is loaded"
      ]
    },
    {
      "cell_type": "markdown",
      "metadata": {
        "id": "ceKmNNxml1U8"
      },
      "source": [
        "# Challenge 1 | Using Python to Analyze and Plot Exoplanet Data\n",
        "\n",
        "## Section 1: Background\n",
        "\n",
        "In the last several years, the Kepler telescope has provided a wealth of data on new exoplanets, not to mention the exoplanets detected previously with other methods and other telescopes. It's a gold mine of data to be explored by astronomers who want to better understand the properties of these planets, such as their sizes, masses, and orbital periods around their host stars.\n",
        "\n",
        "Here you'll work with a subset of exoplanet data to make a plot similar to the one shown below (Credit: NASA Ames/W. Stenzel). While astronomers have been finding exoplanets since the 1990s, the __[Kepler Mission](https://www.nasa.gov/mission_pages/kepler/overview/index.html)__ has led to an explosion of new expoplanet detections. The Kepler telescope detects planets in a special way called the transit method, whereby it monitors the brightness of stars, and watches for dips in the brightness that occur when a planet transits, or passes in front of, the star. While these brightness dips are incredibly small, Kepler can measure stars' brightness precisely to capture these transit events.\n",
        "\n",
        "![Kepler Planet Candidates](https://github.com/mcstroh/REACHpy/blob/ideaspy_updates/Module_2/images/Kepler_planets.jpg?raw=1)\n",
        "\n",
        "Several alternative methods exist for detecting planets, and to date, all method combined, astronomers have detected more than 4700 confirmed exoplanets.\n",
        "\n",
        "The __[Open Exoplanet Catalogue](http://www.openexoplanetcatalogue.com/)__ is a catalogue of all discovered exoplanets, and is available to the public and can be accessed from your browser or downloaded from Github. For this challenge, we've collected a sample of exoplanet data that you'll use to explore the sizes and orbital periods of a subset of these exoplanets.\n",
        "\n",
        "To complete this challenge, you will:\n",
        "\n",
        " - Create and work with Python lists.\n",
        " - Read in and parse data to put it into a useful format.\n",
        " - Define your own functions and modules, which helps you to keep your code readable and organized.\n",
        " - Create simple plots using the plotting package matplotlib.\n",
        "\n",
        "You will work with exoplanet data to study the radii and orbital periods around the host stars. We'll need to read in the data from a file, parse the data to extract what we need, write a function to do some unit conversions, and make a couple of plots."
      ]
    },
    {
      "cell_type": "markdown",
      "source": [
        "## Section 2: Read and parse data\n",
        "\n",
        "The file you're using contains comments at the start of the file. We are interested in the *planetary radius* and *orbital period*.\n",
        "\n",
        "Instead of using Python to read in the file, we will first use a Unix command `cat` to browse the entire file. Run the next cell and use the output to figure out which columns are important.\n",
        "\n",
        "If you are not using Google Colab, you can instead open this file using your favorite text editor."
      ],
      "metadata": {
        "id": "-pQTKMc039BQ"
      }
    },
    {
      "cell_type": "code",
      "source": [
        "# Use the following command to see the first 20 lines of the file we're using. - This not Python\n",
        "!head -20 exoplanets_subset.txt"
      ],
      "metadata": {
        "id": "64OsT4Ub3mPc",
        "colab": {
          "base_uri": "https://localhost:8080/"
        },
        "outputId": "42eb4acb-7ffd-45ef-8353-12d2cc03def0"
      },
      "execution_count": 2,
      "outputs": [
        {
          "output_type": "stream",
          "name": "stdout",
          "text": [
            "# This data is taken from the Open Exoplanet Catalogue\n",
            "# https://github.com/hannorein/open_exoplanet_catalogue\n",
            "#\n",
            "# The data included below is a subset of the full dataset, and includes \n",
            "# ONLY those systems which contain non-null entries for the five quantities below\n",
            "#\n",
            "# Columns:\n",
            "#\n",
            "#  1: Planetary mass [Jupiter masses]  \n",
            "#  2: Radius [Jupiter radii]\n",
            "#  3: Period [days] \n",
            "#  4: Discovery method\n",
            "#  5: Discovery year\n",
            "#\n",
            "0.0014 0.054 0.1768913 transit 2012\n",
            "0.25 0.84 19.22418 transit 2010\n",
            "0.17 0.82 39.03106 transit 2010\n",
            "0.022 0.147 1.592851 transit 2010\n",
            "0.6 1.24 3.372650 transit 2016\n",
            "1.24 1.67 2.705782 transit 2013\n"
          ]
        }
      ]
    },
    {
      "cell_type": "markdown",
      "source": [
        "Now read in the file using the `numpy.loadtxt()` introduced in Section 2. You may want to use the `usecols` keyword to only read in certain columns."
      ],
      "metadata": {
        "id": "F1wrZR-K63yY"
      }
    },
    {
      "cell_type": "code",
      "execution_count": 5,
      "metadata": {
        "id": "kQj837L5l1U8",
        "colab": {
          "base_uri": "https://localhost:8080/"
        },
        "outputId": "268909b5-51e2-4de6-f60a-d4b391848dc4"
      },
      "outputs": [
        {
          "output_type": "stream",
          "name": "stdout",
          "text": [
            "[(0.0014, 0.054,  0.1768913, 'transit', 2012)\n",
            " (0.25  , 0.84 , 19.22418  , 'transit', 2010)\n",
            " (0.17  , 0.82 , 39.03106  , 'transit', 2010)\n",
            " (0.022 , 0.147,  1.592851 , 'transit', 2010)\n",
            " (0.6   , 1.24 ,  3.37265  , 'transit', 2016)]\n"
          ]
        }
      ],
      "source": [
        "# Open and read all lines using NumPy.\n",
        "import numpy as np\n",
        "\n",
        "#data types for each column:\n",
        "# 3 floats, 1 string (discovery method), and 1 integer (discovery year)\n",
        "dtype = [('mass', 'f8'), ('radius', 'f8'), ('period', 'f8'),\n",
        "         ('method', 'U10'), ('year', 'i4')]\n",
        "\n",
        "data = np.genfromtxt('exoplanets_subset.txt',\n",
        "                     dtype=dtype,\n",
        "                     comments='#')  # Skip commented header lines\n",
        "\n",
        "# Optional: print the first few rows to verify\n",
        "print(data[:5])"
      ]
    },
    {
      "cell_type": "markdown",
      "source": [
        "Create two arrays where one contains the planetary radii, and another that stores the orbital periods."
      ],
      "metadata": {
        "id": "lLESjdRW7asw"
      }
    },
    {
      "cell_type": "code",
      "execution_count": 7,
      "metadata": {
        "id": "vqHE4BzEl1U8"
      },
      "outputs": [],
      "source": [
        "# Create the two arrays\n",
        "\n",
        "planetary_radii = []\n",
        "orbital_periods = []\n",
        "\n",
        "for row in data:\n",
        "    planetary_radii.append(row[1])\n",
        "    orbital_periods.append(row[2])"
      ]
    },
    {
      "cell_type": "markdown",
      "metadata": {
        "id": "_OoRlkrRl1U8"
      },
      "source": [
        "## Section 3: Creating Figures"
      ]
    },
    {
      "cell_type": "markdown",
      "source": [
        "Create a histogram of the planetary radii. Twenty bins is a good starting value for your histogram."
      ],
      "metadata": {
        "id": "E4HB4QFh728k"
      }
    },
    {
      "cell_type": "code",
      "source": [
        "# Create your histogram\n",
        "import matplotlib.pyplot as plt\n",
        "plt.hist(planetary_radii, bins=20)\n",
        "plt.title('planetary radii')\n",
        "plt.xlabel('planetary radii')\n",
        "plt.ylabel('count')"
      ],
      "metadata": {
        "id": "c13AWXy88NFw",
        "colab": {
          "base_uri": "https://localhost:8080/",
          "height": 489
        },
        "outputId": "ba8ab2f8-6b22-487b-c833-907764a599ed"
      },
      "execution_count": 15,
      "outputs": [
        {
          "output_type": "execute_result",
          "data": {
            "text/plain": [
              "Text(0, 0.5, 'count')"
            ]
          },
          "metadata": {},
          "execution_count": 15
        },
        {
          "output_type": "display_data",
          "data": {
            "text/plain": [
              "<Figure size 640x480 with 1 Axes>"
            ],
            "image/png": "[encoded data removed]"
          },
          "metadata": {}
        }
      ]
    },
    {
      "cell_type": "markdown",
      "source": [
        "Create a figure with the planetary radii (y-axis) versus the orbital period (x-axis). Use dots as your marker symbols, and do not connect the data points with lines (it would be meaningless here)."
      ],
      "metadata": {
        "id": "Bu5O-yp58Pxo"
      }
    },
    {
      "cell_type": "code",
      "source": [
        "# Create your planetary radii versus orbital period figure\n",
        "plt.plot(orbital_periods, planetary_radii, \".\")\n",
        "plt.xscale('log')\n",
        "plt.yscale('log')\n",
        "plt.xlabel('orbital period')\n",
        "plt.ylabel('planetary radii')\n",
        "plt.title('orbital period vs. planetary radii')"
      ],
      "metadata": {
        "id": "LbADnLFN8iuI",
        "collapsed": true,
        "colab": {
          "base_uri": "https://localhost:8080/",
          "height": 493
        },
        "outputId": "3fb0f937-1d1b-491d-8c91-a714736e8091"
      },
      "execution_count": 16,
      "outputs": [
        {
          "output_type": "execute_result",
          "data": {
            "text/plain": [
              "Text(0.5, 1.0, 'orbital period vs. planetary radii')"
            ]
          },
          "metadata": {},
          "execution_count": 16
        },
        {
          "output_type": "display_data",
          "data": {
            "text/plain": [
              "<Figure size 640x480 with 1 Axes>"
            ],
            "image/png": "[encoded data removed]"
          },
          "metadata": {}
        }
      ]
    },
    {
      "cell_type": "markdown",
      "source": [
        "Make sure you've used appropriate x- and y-labels to each of the figures you created. The figure in Section 1 used logarithmic scaling on the x- and y-axes. Use `plt.xscale('log')` and `plt.yscale('log')` to obtain a similar scaling."
      ],
      "metadata": {
        "id": "uyrWZgXL8mjc"
      }
    }
  ],
  "metadata": {
    "kernelspec": {
      "display_name": "Python 3",
      "language": "python",
      "name": "python3"
    },
    "language_info": {
      "codemirror_mode": {
        "name": "ipython",
        "version": 3
      },
      "file_extension": ".py",
      "mimetype": "text/x-python",
      "name": "python",
      "nbconvert_exporter": "python",
      "pygments_lexer": "ipython3",
      "version": "3.8.5"
    },
    "colab": {
      "provenance": [],
      "include_colab_link": true
    }
  },
  "nbformat": 4,
  "nbformat_minor": 0
}