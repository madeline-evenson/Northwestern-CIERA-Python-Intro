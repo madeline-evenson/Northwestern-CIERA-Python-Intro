{
  "cells": [
    {
      "cell_type": "markdown",
      "metadata": {
        "id": "view-in-github",
        "colab_type": "text"
      },
      "source": [
        "<a href=\"https://colab.research.google.com/github/madeline-evenson/Northwestern-CIERA-Python-Intro/blob/main/Challenge_3_Angular_Velocity_Simple_Kinematics.ipynb\" target=\"_parent\"><img src=\"https://colab.research.google.com/assets/colab-badge.svg\" alt=\"Open In Colab\"/></a>"
      ]
    },
    {
      "cell_type": "markdown",
      "metadata": {
        "id": "kzycpa7X7GEE"
      },
      "source": [
        "# Challenge 3 | Using Python to Analyze Seismic Data On Mars\n",
        "\n",
        "Imagine you are a planetary scientist, trying to get some rest after a long day of potato farming on Mars. Your alarm starts buzzing, and you check your email to find that a meteorite has just impacted, causing the equivalent shaking of a magnitude 5.7 earthquake. Your main research interest involves using data collected from instruments all over Mars to determine whether the crust of the northern hemisphere is as thick as that of the southern hemisphere.  You jump out of bed, ready to begin processing the new data, and be the first to map structural differences within Mars' interior.\n",
        "\n",
        "In this module, you'll be working toward calculating the theoretical travel times of seismic waves radiating away from a hypothetical meteorite impact on Mars. We'll focus on _surface waves_, known as Rayleigh waves, which represent seismic energy trapped primarily in the surface layer of the planet. These waves are the strongest, but the slowest traveling, among the various seismic waves that are released from the impact (such as P- and S-waves). The diagram below illustrates the different strengths, speeds, and paths of these three different types of seismic waves.\n",
        "\n",
        "![Seismic waves](https://github.com/CIERA-Northwestern/REACHpy/blob/ideaspy_updates/Module_1/images/waves.jpg?raw=1)\n",
        "\n",
        "The speeds at which these waves travel depends on the composition of the planet they're passing through. Therefore, the arrival time differences between P, S, and Rayleigh waves, hold critical information on the state of the subsurface of the planet.\n",
        "\n",
        "While you won't yet be analyzing real data in this challenge, you'll be building a starter code that has the basic elements that would be needed to analyze data from this meteorite impact. Specifically, in this challenge you'll do the following:\n",
        "\n",
        "> - Use Python interactively<br>\n",
        "> - Perform basic mathematical operations<br>\n",
        "> - Define and use variables and equations<br>\n",
        "> - Use different data types<br>\n",
        "> - Print and format output<br>\n",
        "> - Create while loops<br>\n",
        "> - Create and execute your first standalone Python program<br>\n",
        "\n",
        "\n",
        "Since we're trying to calculate the theoretical travel times of the surface waves radiating away from the impact, we'll need to write a code that can compute the travel time for a wave that has traveled for any arbitrary distance, based on the properties of these surface waves. Then, we'll want our code to be able to loop over a series of provided distances, finally printing out a list of the theoretical travel times. And now, you've got the skills to do just that!\n",
        "\n"
      ]
    },
    {
      "cell_type": "markdown",
      "metadata": {
        "id": "B-QQs0W17GEE"
      },
      "source": [
        "## The Physics\n",
        "\n",
        "To compute the theoretical travel time, you just need this simple equation:\n",
        "\n",
        "$t=\\frac{d \\, \\times \\, kpd}{v}$\n",
        "\n",
        "Let's define each of these variables:\n",
        "\n",
        "> - $t$ is the theoretical travel time of the wave in seconds<br>\n",
        "><br>\n",
        "> - $d$ is the angular distance in degrees from the origin of the impact to the detector<br>\n",
        "><br>\n",
        "> - $kpd$ is a conversion factor from (km per degree): $kpd=\\frac{\\pi R}{180}$<br>\n",
        "><br>\n",
        "> - $R$ (above) is the average radius of the Mars:  $R = 3390$ km<br>\n",
        "><br>\n",
        "> - $v$ is the average velocity of the surface waves through the Mars in km/sec<br>\n",
        "><br>\n",
        "\n",
        "\n",
        "If you think about the units of these quantities, the equation should make sense.\n",
        "\n",
        "## Build Your Code"
      ]
    },
    {
      "cell_type": "markdown",
      "metadata": {
        "id": "nHK3pK_s7GEE"
      },
      "source": [
        "Set the variables needed (the constants in this problem) in the cell below:\n",
        "> - Assume the average radius of Mars, R,  3390.0 (km)<br>\n",
        "> - Assume average surface-wave velocity v = 4 (km/s)<br>\n",
        "> - Set the conversion factor kpd<br>\n",
        "> - Convert angular distances between degrees to kilometers<br>"
      ]
    },
    {
      "cell_type": "code",
      "execution_count": 1,
      "metadata": {
        "id": "eCcJwAOS7GEE"
      },
      "outputs": [],
      "source": [
        "import numpy as np\n",
        "\n",
        "r_mars = 3390.0 #km\n",
        "v = 4 #km/s\n",
        "kpd = np.pi * r_mars / 180"
      ]
    },
    {
      "cell_type": "markdown",
      "metadata": {
        "id": "GmNUEMTx7GEE"
      },
      "source": [
        "Write an equation to calculate the travel time of a surface wave travel time, t, in seconds for a distance of 10 degrees in the cell below:"
      ]
    },
    {
      "cell_type": "code",
      "execution_count": 2,
      "metadata": {
        "id": "eBlM4wLa7GEE"
      },
      "outputs": [],
      "source": [
        "t = (10 * kpd) / v"
      ]
    },
    {
      "cell_type": "markdown",
      "metadata": {
        "id": "i31n9DeM7GEE"
      },
      "source": [
        "Print both the distance d, and the travel time t, on the same line, for all distances 0 through 100 degrees."
      ]
    },
    {
      "cell_type": "code",
      "execution_count": 3,
      "metadata": {
        "id": "fjnxJDTf7GEE",
        "colab": {
          "base_uri": "https://localhost:8080/"
        },
        "outputId": "6420b5cb-bbcd-4592-c8fa-81272c19b59b"
      },
      "outputs": [
        {
          "output_type": "stream",
          "name": "stdout",
          "text": [
            "distance: 0; travel time: 0.0\n",
            "distance: 1; travel time: 14.791665410651943\n",
            "distance: 2; travel time: 29.583330821303885\n",
            "distance: 3; travel time: 44.374996231955826\n",
            "distance: 4; travel time: 59.16666164260777\n",
            "distance: 5; travel time: 73.95832705325971\n",
            "distance: 6; travel time: 88.74999246391165\n",
            "distance: 7; travel time: 103.5416578745636\n",
            "distance: 8; travel time: 118.33332328521554\n",
            "distance: 9; travel time: 133.12498869586747\n",
            "distance: 10; travel time: 147.91665410651942\n",
            "distance: 11; travel time: 162.70831951717136\n",
            "distance: 12; travel time: 177.4999849278233\n",
            "distance: 13; travel time: 192.29165033847525\n",
            "distance: 14; travel time: 207.0833157491272\n",
            "distance: 15; travel time: 221.87498115977914\n",
            "distance: 16; travel time: 236.66664657043108\n",
            "distance: 17; travel time: 251.45831198108303\n",
            "distance: 18; travel time: 266.24997739173494\n",
            "distance: 19; travel time: 281.0416428023869\n",
            "distance: 20; travel time: 295.83330821303883\n",
            "distance: 21; travel time: 310.6249736236908\n",
            "distance: 22; travel time: 325.4166390343427\n",
            "distance: 23; travel time: 340.20830444499467\n",
            "distance: 24; travel time: 354.9999698556466\n",
            "distance: 25; travel time: 369.79163526629856\n",
            "distance: 26; travel time: 384.5833006769505\n",
            "distance: 27; travel time: 399.37496608760244\n",
            "distance: 28; travel time: 414.1666314982544\n",
            "distance: 29; travel time: 428.95829690890633\n",
            "distance: 30; travel time: 443.7499623195583\n",
            "distance: 31; travel time: 458.5416277302102\n",
            "distance: 32; travel time: 473.33329314086217\n",
            "distance: 33; travel time: 488.1249585515141\n",
            "distance: 34; travel time: 502.91662396216606\n",
            "distance: 35; travel time: 517.708289372818\n",
            "distance: 36; travel time: 532.4999547834699\n",
            "distance: 37; travel time: 547.2916201941218\n",
            "distance: 38; travel time: 562.0832856047738\n",
            "distance: 39; travel time: 576.8749510154257\n",
            "distance: 40; travel time: 591.6666164260777\n",
            "distance: 41; travel time: 606.4582818367296\n",
            "distance: 42; travel time: 621.2499472473816\n",
            "distance: 43; travel time: 636.0416126580335\n",
            "distance: 44; travel time: 650.8332780686854\n",
            "distance: 45; travel time: 665.6249434793374\n",
            "distance: 46; travel time: 680.4166088899893\n",
            "distance: 47; travel time: 695.2082743006413\n",
            "distance: 48; travel time: 709.9999397112932\n",
            "distance: 49; travel time: 724.7916051219452\n",
            "distance: 50; travel time: 739.5832705325971\n",
            "distance: 51; travel time: 754.374935943249\n",
            "distance: 52; travel time: 769.166601353901\n",
            "distance: 53; travel time: 783.958266764553\n",
            "distance: 54; travel time: 798.7499321752049\n",
            "distance: 55; travel time: 813.5415975858568\n",
            "distance: 56; travel time: 828.3332629965088\n",
            "distance: 57; travel time: 843.1249284071607\n",
            "distance: 58; travel time: 857.9165938178127\n",
            "distance: 59; travel time: 872.7082592284646\n",
            "distance: 60; travel time: 887.4999246391166\n",
            "distance: 61; travel time: 902.2915900497685\n",
            "distance: 62; travel time: 917.0832554604204\n",
            "distance: 63; travel time: 931.8749208710724\n",
            "distance: 64; travel time: 946.6665862817243\n",
            "distance: 65; travel time: 961.4582516923763\n",
            "distance: 66; travel time: 976.2499171030282\n",
            "distance: 67; travel time: 991.0415825136802\n",
            "distance: 68; travel time: 1005.8332479243321\n",
            "distance: 69; travel time: 1020.6249133349841\n",
            "distance: 70; travel time: 1035.416578745636\n",
            "distance: 71; travel time: 1050.208244156288\n",
            "distance: 72; travel time: 1064.9999095669398\n",
            "distance: 73; travel time: 1079.7915749775918\n",
            "distance: 74; travel time: 1094.5832403882437\n",
            "distance: 75; travel time: 1109.3749057988957\n",
            "distance: 76; travel time: 1124.1665712095476\n",
            "distance: 77; travel time: 1138.9582366201996\n",
            "distance: 78; travel time: 1153.7499020308514\n",
            "distance: 79; travel time: 1168.5415674415035\n",
            "distance: 80; travel time: 1183.3332328521553\n",
            "distance: 81; travel time: 1198.1248982628074\n",
            "distance: 82; travel time: 1212.9165636734592\n",
            "distance: 83; travel time: 1227.7082290841113\n",
            "distance: 84; travel time: 1242.499894494763\n",
            "distance: 85; travel time: 1257.2915599054152\n",
            "distance: 86; travel time: 1272.083225316067\n",
            "distance: 87; travel time: 1286.874890726719\n",
            "distance: 88; travel time: 1301.666556137371\n",
            "distance: 89; travel time: 1316.458221548023\n",
            "distance: 90; travel time: 1331.2498869586748\n",
            "distance: 91; travel time: 1346.0415523693268\n",
            "distance: 92; travel time: 1360.8332177799787\n",
            "distance: 93; travel time: 1375.6248831906307\n",
            "distance: 94; travel time: 1390.4165486012826\n",
            "distance: 95; travel time: 1405.2082140119346\n",
            "distance: 96; travel time: 1419.9998794225864\n",
            "distance: 97; travel time: 1434.7915448332385\n",
            "distance: 98; travel time: 1449.5832102438903\n",
            "distance: 99; travel time: 1464.3748756545424\n"
          ]
        }
      ],
      "source": [
        "for i in range(100):\n",
        "    print(f'distance: {i}; travel time: {(i * kpd) / v}')"
      ]
    },
    {
      "cell_type": "markdown",
      "metadata": {
        "id": "OFy6perY7GEE"
      },
      "source": [
        "## Check Your Code\n",
        "\n",
        "To make sure your code is producing the right values:\n",
        "> - Set your variable used to represent the degrees between the impact and seismic station to 65 degrees<br>\n",
        "> - Your code should produce a surface-wave travel time of about 961 seconds <br>\n"
      ]
    }
  ],
  "metadata": {
    "kernelspec": {
      "display_name": "Python 3",
      "language": "python",
      "name": "python3"
    },
    "language_info": {
      "codemirror_mode": {
        "name": "ipython",
        "version": 3
      },
      "file_extension": ".py",
      "mimetype": "text/x-python",
      "name": "python",
      "nbconvert_exporter": "python",
      "pygments_lexer": "ipython3",
      "version": "3.8.5"
    },
    "colab": {
      "provenance": [],
      "include_colab_link": true
    }
  },
  "nbformat": 4,
  "nbformat_minor": 0
}